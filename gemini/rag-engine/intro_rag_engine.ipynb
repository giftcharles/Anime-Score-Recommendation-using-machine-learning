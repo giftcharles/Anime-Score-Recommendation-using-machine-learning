{
  "cells": [
    {
      "cell_type": "markdown",
      "metadata": {
        "id": "view-in-github",
        "colab_type": "text"
      },
      "source": [
        "<a href=\"https://colab.research.google.com/github/giftcharles/Anime-Score-Recommendation-using-machine-learning/blob/master/gemini/rag-engine/intro_rag_engine.ipynb\" target=\"_parent\"><img src=\"https://colab.research.google.com/assets/colab-badge.svg\" alt=\"Open In Colab\"/></a>"
      ]
    },
    {
      "cell_type": "code",
      "execution_count": null,
      "metadata": {
        "id": "ur8xi4C7S06n"
      },
      "outputs": [],
      "source": [
        "# Copyright 2024 Google LLC\n",
        "#\n",
        "# Licensed under the Apache License, Version 2.0 (the \"License\");\n",
        "# you may not use this file except in compliance with the License.\n",
        "# You may obtain a copy of the License at\n",
        "#\n",
        "#     https://www.apache.org/licenses/LICENSE-2.0\n",
        "#\n",
        "# Unless required by applicable law or agreed to in writing, software\n",
        "# distributed under the License is distributed on an \"AS IS\" BASIS,\n",
        "# WITHOUT WARRANTIES OR CONDITIONS OF ANY KIND, either express or implied.\n",
        "# See the License for the specific language governing permissions and\n",
        "# limitations under the License."
      ]
    },
    {
      "cell_type": "markdown",
      "metadata": {
        "id": "JAPoU8Sm5E6e"
      },
      "source": [
        "# Intro to Building a Scalable and Modular RAG System with RAG Engine in Vertex AI\n",
        "\n",
        "<table align=\"left\">\n",
        "  <td style=\"text-align: center\">\n",
        "    <a href=\"https://colab.research.google.com/github/GoogleCloudPlatform/generative-ai/blob/main/gemini/rag-engine/intro_rag_engine.ipynb\">\n",
        "      <img width=\"32px\" src=\"https://www.gstatic.com/pantheon/images/bigquery/welcome_page/colab-logo.svg\" alt=\"Google Colaboratory logo\"><br> Open in Colab\n",
        "    </a>\n",
        "  </td>\n",
        "  <td style=\"text-align: center\">\n",
        "    <a href=\"https://console.cloud.google.com/vertex-ai/colab/import/https:%2F%2Fraw.githubusercontent.com%2FGoogleCloudPlatform%2Fgenerative-ai%2Fmain%2Fgemini%2Frag-engine%2Fintro_rag_engine.ipynb\">\n",
        "      <img width=\"32px\" src=\"https://lh3.googleusercontent.com/JmcxdQi-qOpctIvWKgPtrzZdJJK-J3sWE1RsfjZNwshCFgE_9fULcNpuXYTilIR2hjwN\" alt=\"Google Cloud Colab Enterprise logo\"><br> Open in Colab Enterprise\n",
        "    </a>\n",
        "  </td>\n",
        "  <td style=\"text-align: center\">\n",
        "    <a href=\"https://console.cloud.google.com/vertex-ai/workbench/deploy-notebook?download_url=https://raw.githubusercontent.com/GoogleCloudPlatform/generative-ai/main/gemini/rag-engine/intro_rag_engine.ipynb\">\n",
        "      <img src=\"https://www.gstatic.com/images/branding/gcpiconscolors/vertexai/v1/32px.svg\" alt=\"Vertex AI logo\"><br> Open in Vertex AI Workbench\n",
        "    </a>\n",
        "  </td>\n",
        "  <td style=\"text-align: center\">\n",
        "    <a href=\"https://github.com/GoogleCloudPlatform/generative-ai/blob/main/gemini/rag-engine/intro_rag_engine.ipynb\">\n",
        "      <img width=\"32px\" src=\"https://upload.wikimedia.org/wikipedia/commons/9/91/Octicons-mark-github.svg\" alt=\"GitHub logo\"><br> View on GitHub\n",
        "    </a>\n",
        "  </td>\n",
        "</table>\n",
        "\n",
        "<div style=\"clear: both;\"></div>\n",
        "\n",
        "<b>Share to:</b>\n",
        "\n",
        "<a href=\"https://www.linkedin.com/sharing/share-offsite/?url=https%3A//github.com/GoogleCloudPlatform/generative-ai/blob/main/gemini/rag-engine/intro_rag_engine.ipynb\" target=\"_blank\">\n",
        "  <img width=\"20px\" src=\"https://upload.wikimedia.org/wikipedia/commons/8/81/LinkedIn_icon.svg\" alt=\"LinkedIn logo\">\n",
        "</a>\n",
        "\n",
        "<a href=\"https://bsky.app/intent/compose?text=https%3A//github.com/GoogleCloudPlatform/generative-ai/blob/main/gemini/rag-engine/intro_rag_engine.ipynb\" target=\"_blank\">\n",
        "  <img width=\"20px\" src=\"https://upload.wikimedia.org/wikipedia/commons/7/7a/Bluesky_Logo.svg\" alt=\"Bluesky logo\">\n",
        "</a>\n",
        "\n",
        "<a href=\"https://twitter.com/intent/tweet?url=https%3A//github.com/GoogleCloudPlatform/generative-ai/blob/main/gemini/rag-engine/intro_rag_engine.ipynb\" target=\"_blank\">\n",
        "  <img width=\"20px\" src=\"https://upload.wikimedia.org/wikipedia/commons/5/53/X_logo_2023_original.svg\" alt=\"X logo\">\n",
        "</a>\n",
        "\n",
        "<a href=\"https://reddit.com/submit?url=https%3A//github.com/GoogleCloudPlatform/generative-ai/blob/main/gemini/rag-engine/intro_rag_engine.ipynb\" target=\"_blank\">\n",
        "  <img width=\"20px\" src=\"https://redditinc.com/hubfs/Reddit%20Inc/Brand/Reddit_Logo.png\" alt=\"Reddit logo\">\n",
        "</a>\n",
        "\n",
        "<a href=\"https://www.facebook.com/sharer/sharer.php?u=https%3A//github.com/GoogleCloudPlatform/generative-ai/blob/main/gemini/rag-engine/intro_rag_engine.ipynb\" target=\"_blank\">\n",
        "  <img width=\"20px\" src=\"https://upload.wikimedia.org/wikipedia/commons/5/51/Facebook_f_logo_%282019%29.svg\" alt=\"Facebook logo\">\n",
        "</a>            "
      ]
    },
    {
      "cell_type": "markdown",
      "metadata": {
        "id": "84f0f73a0f76"
      },
      "source": [
        "| | |\n",
        "|-|-|\n",
        "| Author(s) | [Holt Skinner](https://github.com/holtskinner) |"
      ]
    },
    {
      "cell_type": "markdown",
      "metadata": {
        "id": "tvgnzT1CKxrO"
      },
      "source": [
        "## Overview\n",
        "\n",
        "Retrieval Augmented Generation (RAG) improves Large Language Models (LLMs) by allowing them to access and process external information sources during generation. This ensures the model's responses are grounded in factual data and avoids hallucinations.\n",
        "\n",
        "A common problem with LLMs is that they don't understand private knowledge, that\n",
        "is, your organization's data. With RAG Engine, you can enrich the\n",
        "LLM context with additional private information, because the model can reduce\n",
        "hallucinations and answer questions more accurately.\n",
        "\n",
        "By combining additional knowledge sources with the existing knowledge that LLMs\n",
        "have, a better context is provided. The improved context along with the query\n",
        "enhances the quality of the LLM's response.\n",
        "\n",
        "The following concepts are key to understanding Vertex AI RAG Engine. These concepts are listed in the order of the\n",
        "retrieval-augmented generation (RAG) process.\n",
        "\n",
        "1. **Data ingestion**: Intake data from different data sources. For example,\n",
        "  local files, Google Cloud Storage, and Google Drive.\n",
        "\n",
        "1. **Data transformation**: Conversion of the data in preparation for indexing. For example, data is split into chunks.\n",
        "\n",
        "1. **Embedding**: Numerical representations of words or pieces of text. These numbers capture the\n",
        "   semantic meaning and context of the text. Similar or related words or text\n",
        "   tend to have similar embeddings, which means they are closer together in the\n",
        "   high-dimensional vector space.\n",
        "\n",
        "1. **Data indexing**: RAG Engine creates an index called a corpus.\n",
        "   The index structures the knowledge base so it's optimized for searching. For\n",
        "   example, the index is like a detailed table of contents for a massive\n",
        "   reference book.\n",
        "\n",
        "1. **Retrieval**: When a user asks a question or provides a prompt, the retrieval\n",
        "  component in RAG Engine searches through its knowledge\n",
        "  base to find information that is relevant to the query.\n",
        "\n",
        "1. **Generation**: The retrieved information becomes the context added to the\n",
        "  original user query as a guide for the generative AI model to generate\n",
        "  factually grounded and relevant responses.\n",
        "\n",
        "For more information, refer to the public documentation for [Vertex AI RAG Engine](https://cloud.google.com/vertex-ai/generative-ai/docs/rag-overview)."
      ]
    },
    {
      "cell_type": "markdown",
      "metadata": {
        "id": "61RBz8LLbxCR"
      },
      "source": [
        "## Get started"
      ]
    },
    {
      "cell_type": "markdown",
      "metadata": {
        "id": "No17Cw5hgx12"
      },
      "source": [
        "### Install Vertex AI SDK and Google Gen AI SDK\n"
      ]
    },
    {
      "cell_type": "code",
      "execution_count": 1,
      "metadata": {
        "id": "tFy3H3aPgx12",
        "colab": {
          "base_uri": "https://localhost:8080/"
        },
        "outputId": "75d05276-0789-4789-b71d-09c231c6ecca"
      },
      "outputs": [
        {
          "output_type": "stream",
          "name": "stdout",
          "text": [
            "\u001b[2K   \u001b[90m━━━━━━━━━━━━━━━━━━━━━━━━━━━━━━━━━━━━━━━━\u001b[0m \u001b[32m7.1/7.1 MB\u001b[0m \u001b[31m28.7 MB/s\u001b[0m eta \u001b[36m0:00:00\u001b[0m\n",
            "\u001b[2K   \u001b[90m━━━━━━━━━━━━━━━━━━━━━━━━━━━━━━━━━━━━━━━━\u001b[0m \u001b[32m130.7/130.7 kB\u001b[0m \u001b[31m5.0 MB/s\u001b[0m eta \u001b[36m0:00:00\u001b[0m\n",
            "\u001b[?25h"
          ]
        }
      ],
      "source": [
        "%pip install --upgrade --quiet google-cloud-aiplatform google-genai"
      ]
    },
    {
      "cell_type": "markdown",
      "metadata": {
        "id": "R5Xep4W9lq-Z"
      },
      "source": [
        "### Restart runtime\n",
        "\n",
        "To use the newly installed packages in this Jupyter runtime, you must restart the runtime. You can do this by running the cell below, which restarts the current kernel.\n",
        "\n",
        "The restart might take a minute or longer. After it's restarted, continue to the next step."
      ]
    },
    {
      "cell_type": "code",
      "execution_count": 2,
      "metadata": {
        "id": "XRvKdaPDTznN",
        "colab": {
          "base_uri": "https://localhost:8080/"
        },
        "outputId": "46b231fb-99df-425b-ffd0-d70226a552ed"
      },
      "outputs": [
        {
          "output_type": "execute_result",
          "data": {
            "text/plain": [
              "{'status': 'ok', 'restart': True}"
            ]
          },
          "metadata": {},
          "execution_count": 2
        }
      ],
      "source": [
        "import IPython\n",
        "\n",
        "app = IPython.Application.instance()\n",
        "app.kernel.do_shutdown(True)"
      ]
    },
    {
      "cell_type": "markdown",
      "metadata": {
        "id": "SbmM4z7FOBpM"
      },
      "source": [
        "<div class=\"alert alert-block alert-warning\">\n",
        "<b>⚠️ The kernel is going to restart. Wait until it's finished before continuing to the next step. ⚠️</b>\n",
        "</div>\n"
      ]
    },
    {
      "cell_type": "markdown",
      "metadata": {
        "id": "dmWOrTJ3gx13"
      },
      "source": [
        "### Authenticate your notebook environment (Colab only)\n",
        "\n",
        "If you're running this notebook on Google Colab, run the cell below to authenticate your environment."
      ]
    },
    {
      "cell_type": "code",
      "execution_count": 1,
      "metadata": {
        "id": "NyKGtVQjgx13"
      },
      "outputs": [],
      "source": [
        "import sys\n",
        "\n",
        "if \"google.colab\" in sys.modules:\n",
        "    from google.colab import auth\n",
        "\n",
        "    auth.authenticate_user()"
      ]
    },
    {
      "cell_type": "markdown",
      "metadata": {
        "id": "DF4l8DTdWgPY"
      },
      "source": [
        "### Set Google Cloud project information and initialize Vertex AI SDK\n",
        "\n",
        "To get started using Vertex AI, you must have an existing Google Cloud project and [enable the Vertex AI API](https://console.cloud.google.com/flows/enableapi?apiid=aiplatform.googleapis.com).\n",
        "\n",
        "Learn more about [setting up a project and a development environment](https://cloud.google.com/vertex-ai/docs/start/cloud-environment)."
      ]
    },
    {
      "cell_type": "code",
      "execution_count": 2,
      "metadata": {
        "id": "Nqwi-5ufWp_B"
      },
      "outputs": [],
      "source": [
        "# Use the environment variable if the user doesn't provide Project ID.\n",
        "import os\n",
        "\n",
        "from google import genai\n",
        "import vertexai\n",
        "\n",
        "PROJECT_ID = \"tmx-automation-564bd\"  # @param {type: \"string\", placeholder: \"[your-project-id]\", isTemplate: true}\n",
        "if not PROJECT_ID or PROJECT_ID == \"[your-project-id]\":\n",
        "    PROJECT_ID = str(os.environ.get(\"GOOGLE_CLOUD_PROJECT\"))\n",
        "\n",
        "LOCATION = os.environ.get(\"GOOGLE_CLOUD_REGION\", \"us-central1\")\n",
        "\n",
        "vertexai.init(project=PROJECT_ID, location=LOCATION)\n",
        "client = genai.Client(vertexai=True, project=PROJECT_ID, location=LOCATION)"
      ]
    },
    {
      "cell_type": "markdown",
      "metadata": {
        "id": "5303c05f7aa6"
      },
      "source": [
        "### Import libraries"
      ]
    },
    {
      "cell_type": "code",
      "execution_count": 48,
      "metadata": {
        "id": "6fc324893334"
      },
      "outputs": [],
      "source": [
        "from IPython.display import Markdown, display\n",
        "from google.genai.types import GenerateContentConfig, Retrieval, Tool, VertexRagStore, Content, ContentDict, PartDict\n",
        "from vertexai import rag\n",
        "from IPython import get_ipython"
      ]
    },
    {
      "cell_type": "markdown",
      "metadata": {
        "id": "e43229f3ad4f"
      },
      "source": [
        "### Create a RAG Corpus"
      ]
    },
    {
      "cell_type": "code",
      "execution_count": 4,
      "metadata": {
        "id": "cf93d5f0ce00"
      },
      "outputs": [],
      "source": [
        "# Currently supports Google first-party embedding models\n",
        "EMBEDDING_MODEL = \"publishers/google/models/text-embedding-004\"  # @param {type:\"string\", isTemplate: true}\n",
        "\n",
        "rag_corpus = rag.create_corpus(\n",
        "    display_name=\"my-rag-corpus\",\n",
        "    backend_config=rag.RagVectorDbConfig(\n",
        "        rag_embedding_model_config=rag.EmbeddingModelConfig(\n",
        "            publisher_model=EMBEDDING_MODEL\n",
        "        )\n",
        "    ),\n",
        ")"
      ]
    },
    {
      "cell_type": "markdown",
      "metadata": {
        "id": "197c585b61b2"
      },
      "source": [
        "### Check the corpus just created"
      ]
    },
    {
      "cell_type": "code",
      "execution_count": null,
      "metadata": {
        "id": "f229b13dc617"
      },
      "outputs": [],
      "source": [
        "rag.list_corpora()"
      ]
    },
    {
      "cell_type": "markdown",
      "metadata": {
        "id": "c52924cc1440"
      },
      "source": [
        "### Upload a local file to the corpus"
      ]
    },
    {
      "cell_type": "code",
      "execution_count": null,
      "metadata": {
        "id": "4976ffe8564f"
      },
      "outputs": [],
      "source": [
        "%%writefile test.md\n",
        "\n",
        "Retrieval-Augmented Generation (RAG) is a technique that enhances the capabilities of large language models (LLMs) by allowing them to access and incorporate external data sources when generating responses. Here's a breakdown:\n",
        "\n",
        "**What it is:**\n",
        "\n",
        "* **Combining Retrieval and Generation:**\n",
        "    * RAG combines the strengths of information retrieval systems (like search engines) with the generative power of LLMs.\n",
        "    * It enables LLMs to go beyond their pre-trained data and access up-to-date and specific information.\n",
        "* **How it works:**\n",
        "    * When a user asks a question, the RAG system first retrieves relevant information from external data sources (e.g., databases, documents, web pages).\n",
        "    * This retrieved information is then provided to the LLM as additional context.\n",
        "    * The LLM uses this augmented context to generate a more accurate and informative response.\n",
        "\n",
        "**Why it's helpful:**\n",
        "\n",
        "* **Access to Up-to-Date Information:**\n",
        "    * LLMs are trained on static datasets, so their knowledge can become outdated. RAG allows them to access real-time or frequently updated information.\n",
        "* **Improved Accuracy and Factual Grounding:**\n",
        "    * RAG reduces the risk of LLM \"hallucinations\" (generating false or misleading information) by grounding responses in verified external data.\n",
        "* **Enhanced Contextual Relevance:**\n",
        "    * By providing relevant context, RAG enables LLMs to generate more precise and tailored responses to specific queries.\n",
        "* **Increased Trust and Transparency:**\n",
        "    * RAG can provide source citations, allowing users to verify the information and increasing trust in the LLM's responses.\n",
        "* **Cost Efficiency:**\n",
        "    * Rather than constantly retraining large language models, RAG allows for the introduction of new data in a more cost effective way.\n",
        "\n",
        "In essence, RAG bridges the gap between the vast knowledge of LLMs and the need for accurate, current, and contextually relevant information.\n"
      ]
    },
    {
      "cell_type": "code",
      "execution_count": null,
      "metadata": {
        "id": "529390917c29"
      },
      "outputs": [],
      "source": [
        "rag_file = rag.upload_file(\n",
        "    corpus_name=rag_corpus.name,\n",
        "    path=\"test.md\",\n",
        "    display_name=\"test.md\",\n",
        "    description=\"my test file\",\n",
        ")"
      ]
    },
    {
      "cell_type": "markdown",
      "metadata": {
        "id": "5269a0c2786d"
      },
      "source": [
        "### Import files from Google Cloud Storage\n",
        "\n",
        "Remember to grant \"Viewer\" access to the \"Vertex RAG Data Service Agent\" (with the format of `service-{project_number}@gcp-sa-vertex-rag.iam.gserviceaccount.com`) for your Google Cloud Storage bucket.\n",
        "\n",
        "For this example, we'll use a public GCS bucket containing earning reports from Alphabet."
      ]
    },
    {
      "cell_type": "code",
      "execution_count": null,
      "metadata": {
        "id": "5910ae450f69"
      },
      "outputs": [],
      "source": [
        "INPUT_GCS_BUCKET = (\n",
        "    \"gs://cloud-samples-data/gen-app-builder/search/alphabet-investor-pdfs/\"\n",
        ")\n",
        "\n",
        "response = rag.import_files(\n",
        "    corpus_name=rag_corpus.name,\n",
        "    paths=[INPUT_GCS_BUCKET],\n",
        "    chunk_size=1024,  # Optional\n",
        "    chunk_overlap=100,  # Optional\n",
        "    max_embedding_requests_per_min=900,  # Optional\n",
        ")"
      ]
    },
    {
      "cell_type": "markdown",
      "metadata": {
        "id": "60a84095746d"
      },
      "source": [
        "### Import files from Google Drive\n",
        "\n",
        "Eligible paths can be formatted as:\n",
        "\n",
        "- `https://drive.google.com/drive/folders/{folder_id}`\n",
        "- `https://drive.google.com/file/d/{file_id}`.\n",
        "\n",
        "Remember to grant \"Viewer\" access to the \"Vertex RAG Data Service Agent\" (with the format of `service-{project_number}@gcp-sa-vertex-rag.iam.gserviceaccount.com`) for your Drive folder/files.\n"
      ]
    },
    {
      "cell_type": "code",
      "execution_count": 35,
      "metadata": {
        "id": "0a90c125874c"
      },
      "outputs": [],
      "source": [
        "response = rag.import_files(\n",
        "    corpus_name=rag_corpus.name,\n",
        "    paths=[\"https://drive.google.com/drive/folders/1DQULk-334pxwIHXWkc9Gz480oUVTHgd2\"],\n",
        "    # chunk_size=512,\n",
        "    # chunk_overlap=50,\n",
        ")"
      ]
    },
    {
      "cell_type": "markdown",
      "metadata": {
        "id": "f700b3e23121"
      },
      "source": [
        "### Optional: Perform direct context retrieval"
      ]
    },
    {
      "cell_type": "code",
      "execution_count": 69,
      "metadata": {
        "id": "4669c5cdbb5a",
        "colab": {
          "base_uri": "https://localhost:8080/"
        },
        "outputId": "56aff3fe-de6c-4376-b949-11681a0a81af"
      },
      "outputs": [
        {
          "output_type": "stream",
          "name": "stdout",
          "text": [
            "contexts {\n",
            "  contexts {\n",
            "    source_uri: \"https://drive.google.com/file/d/1eDMVHMr_CyIrutFQAEJnJ1VskBR3KLog/view?usp=drivesdk\"\n",
            "    source_display_name: \"sw-1721809845-MWONGOZO WA MAHARAGE 2024_ COPRA_FINAL SIGNED_ 15 July 2024 (1).pdf\"\n",
            "    text: \"Ambapo Kifungu cha \\r\\n6(4) kinataja Katibu Tawala Mkoa kuwa Mwenyekiti katika kazi ya Mkoa na Mkurugenzi \\r\\nMtendaji kuwa Mwenyekiti katika ngazi ya Wilaya. Muundo wa kamati hizo utakuwa kama \\r\\nilivyotajwa katika Jedwali la Tano katika Kanuni za Stakabadhi za Ghala za 2016. \\r\\nMajukumu ya kamati hizo ni kama ifuatavyo: -\\r\\ni. Kuhakikisha waweka mali wanalipwa kwa kiasi na ubora walichowasilisha;10\\r\\nii. Wadau wengine kulipwa kwa mujibu wa huduma walizotoa;\\r\\niii. Kuhamasisha matumizi ya Mfumo katika maeneo yao;\\r\\niv. Kutolea ufafanuzi masuala yanayojitokeza katika maeneo yao;\\r\\nv. Kutoa taarifa kwa Bodi ya Usimamizi wa Stakabadhi za ghala kila mwezi, robo \\r\\nya mwaka na mwaka;\\r\\nvi. Kushauri Bodi ya Usimamizi wa Stakabadhi za ghala juu ya masuala mbalimbali \\r\\nya Mfumo;\\r\\nvii. Kutekeleza majukumu mengine kama inatakavyoelekezwa na Bodi ya Usimamizi \\r\\nwa Stakabadhi za ghala au umuhimu utakavyojitokeza.11\\r\\nSEHEMU YA PILI\\r\\n2.0. MAJUKUMU YA TAASISI/MAMLAKA MBALIMBALI KUPITIA MFUMO\\r\\n2.1. Mamlaka ya Udhibiti wa Nafaka na Mazao Mchanganyiko (COPRA)\\r\\na. Kusajili wanunuzi kwa kushirikiana na TMX;\\r\\nb. Kufuatilia mwenendo wa bei za zao husika kwenye soko la dunia na kuwashauri \\r\\nwadau;\\r\\nc.\\r\\nd. Msimamizi wa taratibu zote kwenye utekelezaji wa mauzo;\\r\\ne. Kuhakikisha ushindani wa haki, biashara ya haki, na kuweka na kufuatilia bei ya \\r\\nMaharage kulingana na nguvu ya soko na mambo mengine yanayohusiana;\\r\\nf. Kukusanya, kuchambua na kusambaza taarifa na takwimu zinazohusiana na \\r\\nMaharage;\\r\\ng. Kuandaa na kusimamia viwango (standards) katika mnyororo wa thamani wa \\r\\nMaharage; \\r\\nh. Kulinganisha taarifa zilizoko katika ghala kuu zikilinganishwa na taarifa kutoka kwa \\r\\nwakulima na zilizopo chama kikuu kwa stakabadhi husika; \\r\\ni. Kuandaa Miongozo ya Uchakataji, uhifadhi, masoko na usafirishaji nje wa Maharage;\\r\\nj. Kufanya ukaguzi wa maeneo na vituo vyote vya mauzo ya zao la Maharage;\\r\\nk. Kusimamia na kudhibiti ukusanyaji, usafirishaji, uhifadhi, mauzo, ununuzi, masoko, \\r\\nusindikaji/uchakataji, usambazaji, usafirishaji nje, utupaji (Disposal), na ugavi/ \\r\\nupatikanaji (Supply) wa Maharage; \\r\\nl. Kutoa vibali vya usafirishaji nje wa Maharage;\\r\\n2.2.\"\n",
            "    score: 0.34703032439142256\n",
            "  }\n",
            "  contexts {\n",
            "    source_uri: \"https://drive.google.com/file/d/1RXXNW2LYR1GwgNnM1yPYLi1hXC5pys4Y/view?usp=drivesdk\"\n",
            "    source_display_name: \"Mwongozo Tolea 3 - 2025 & Kiambatisho Na. 1 - Signed.pdf\"\n",
            "    text: \"Kutakua na usajili wa aina \\r\\nmbili za wanunuzi kama ifuatavyo:\\r\\nMnunuzi wa soko la ndani – huyu ni mnunuzi anayenunua \\r\\nkwa ajili ya mauzo ya ndani ya nchi tu na ataruhusiwa \\r\\nkununua hadi Tani 30 ndani ya msimu mmoja kwa kuweka \\r\\npunguzo ya dhamana ya Kinga ya Tsh. 5,000,000 tu. \\r\\nMnunuzi mkubwa na/au msafirishaji nje ya nchi\\r\\n(exporter) – Huyu ni mnunuzi atakayenunua kuanzia Tani \\r\\n30 na kuendelea kwenye minada na kuweka dhamana ya \\r\\nkinga kama ilivyoainishwa kwenye Jedwali Na. 1 kwenye \\r\\nmwongozo huu.\\r\\nMsafirishaji: Maana yake ni kampuni inayohusika kusafirisha mazao kwa \\r\\nmujibu wa taratibu zilizopo\\r\\nPDN (Produce \\r\\nDispatch Note):\\r\\nMaana yake ni hati ya kusafirisha mazao ndani ya nchi.\\r\\nSheria: Maana yake ni sheria ya Vyama vya Ushirika Na. 06\\r\\nya Mwaka 2013, Sheria ya Usalama wa Chakula ya\\r\\nMwaka 1991 Sura 249 na Marekebisho yaliyofanywa na \\r\\nSheria ya Nafaka na Mazao Mchanganyiko ya Mwaka \\r\\n2009 Sheria ya Stakabadhi za Ghala sura 339 RE\\r\\n2016 pamoja na Sheria ya Soko la Bidhaa ya mwaka\\r\\n2015.6 \\r\\nTBS (Tanzania\\r\\nBureau of\\r\\nStandards):\\r\\nMaana yake ni Shirika la Viwango Tanzania.\\r\\nTRA (Tanzania\\r\\nRevenue\\r\\nAuthority):\\r\\nMaana yake ni Mamlaka ya Mapato Tanzania.\\r\\nWMA (Weights and\\r\\nMeasures\\r\\nAuthority):\\r\\nWakusanyaji Mazao \\r\\n(Aggregators):\\r\\nWakulima \\r\\nWakubwa:\\r\\nMaana yake ni Wakala wa Vipimo Tanzania\\r\\nMaana yake ni wafanyabiashara wadogo watakaosajiliwa \\r\\nna Mamlaka (COPRA) kwa jukumu la kununua mazao \\r\\nkutoka kwa wakulima ambao wapo mbali na vyama vya \\r\\nushirika na kuyapelela ghala kuu. Wakusanyaji Mazao \\r\\nwatatakiwa kuzingatia utaratibu uliowekwa kwenye \\r\\nKiambatisho Na.1 cha Mwongozo huu.\\r\\nMaana yake ni wakulima wenye mashamba ya ekari \\r\\nzisizopungua 20 ambao watasajiliwa na Mamlaka (COPRA) \\r\\nna kuruhusiwa kupeleka mazao yao kwenye ghala kuu. \\r\\nWakulima wakubwa ambao hawatatumia mfumo wa \\r\\nukusanyaji kwenye ushirika watatakiwa kuzingatia \\r\\nUtaratibu uliowekwa kwenye Kiambatisho Na. 1 cha \\r\\nMwongozo huu. 7 \\r\\nSEHEMU YA KWANZA\\r\\n1.0.\"\n",
            "    score: 0.34968673455228372\n",
            "  }\n",
            "  contexts {\n",
            "    source_uri: \"https://drive.google.com/file/d/1OO3nx6cCq1mTd1nUf4Qc9RHmozJhnFp_/view?usp=drivesdk\"\n",
            "    source_display_name: \"sw-1738069936-MABORESHO YA MWONGOZO WA BIASHARA KWA MAZAO YA DENGU, CHOROKO, MBAAZI, SOYA NA UFUTA TOLEO 3 - 2025.pdf\"\n",
            "    text: \"Kutakua na usajili wa aina \\r\\nmbili za wanunuzi kama ifuatavyo:\\r\\nMnunuzi wa soko la ndani – huyu ni mnunuzi anayenunua \\r\\nkwa ajili ya mauzo ya ndani ya nchi tu na ataruhusiwa \\r\\nkununua hadi Tani 30 ndani ya msimu mmoja kwa kuweka \\r\\npunguzo ya dhamana ya Kinga ya Tsh. 5,000,000 tu. \\r\\nMnunuzi mkubwa na/au msafirishaji nje ya nchi\\r\\n(exporter) – Huyu ni mnunuzi atakayenunua kuanzia Tani \\r\\n30 na kuendelea kwenye minada na kuweka dhamana ya \\r\\nkinga kama ilivyoainishwa kwenye Jedwali Na. 1 kwenye \\r\\nmwongozo huu.\\r\\nMsafirishaji: Maana yake ni kampuni inayohusika kusafirisha mazao kwa \\r\\nmujibu wa taratibu zilizopo\\r\\nPDN (Produce \\r\\nDispatch Note):\\r\\nMaana yake ni hati ya kusafirisha mazao ndani ya nchi.\\r\\nSheria: Maana yake ni sheria ya Vyama vya Ushirika Na. 06\\r\\nya Mwaka 2013, Sheria ya Usalama wa Chakula ya\\r\\nMwaka 1991 Sura 249 na Marekebisho yaliyofanywa na \\r\\nSheria ya Nafaka na Mazao Mchanganyiko ya Mwaka \\r\\n2009 Sheria ya Stakabadhi za Ghala sura 339 RE\\r\\n2016 pamoja na Sheria ya Soko la Bidhaa ya mwaka\\r\\n2015.6 \\r\\nTBS (Tanzania\\r\\nBureau of\\r\\nStandards):\\r\\nMaana yake ni Shirika la Viwango Tanzania.\\r\\nTRA (Tanzania\\r\\nRevenue\\r\\nAuthority):\\r\\nMaana yake ni Mamlaka ya Mapato Tanzania.\\r\\nWMA (Weights and\\r\\nMeasures\\r\\nAuthority):\\r\\nWakusanyaji Mazao \\r\\n(Aggregators):\\r\\nWakulima \\r\\nWakubwa:\\r\\nMaana yake ni Wakala wa Vipimo Tanzania\\r\\nMaana yake ni wafanyabiashara wadogo watakaosajiliwa \\r\\nna Mamlaka (COPRA) kwa jukumu la kununua mazao \\r\\nkutoka kwa wakulima ambao wapo mbali na vyama vya \\r\\nushirika na kuyapelela ghala kuu. Wakusanyaji Mazao \\r\\nwatatakiwa kuzingatia utaratibu uliowekwa kwenye \\r\\nKiambatisho Na.1 cha Mwongozo huu.\\r\\nMaana yake ni wakulima wenye mashamba ya ekari \\r\\nzisizopungua 20 ambao watasajiliwa na Mamlaka (COPRA) \\r\\nna kuruhusiwa kupeleka mazao yao kwenye ghala kuu. \\r\\nWakulima wakubwa ambao hawatatumia mfumo wa \\r\\nukusanyaji kwenye ushirika watatakiwa kuzingatia \\r\\nUtaratibu uliowekwa kwenye Kiambatisho Na. 1 cha \\r\\nMwongozo huu. 7 \\r\\nSEHEMU YA KWANZA\\r\\n1.0.\"\n",
            "    score: 0.34968673455228372\n",
            "  }\n",
            "  contexts {\n",
            "    source_uri: \"https://drive.google.com/file/d/1PgbV4GCtWrlD2-atQeV_EzlkL6JJBOxw/view?usp=drivesdk\"\n",
            "    source_display_name: \"Mwongozo Tolea 3 - 2025 & Kiambatisho Na. 1 - Signed.pdf\"\n",
            "    text: \"Kutakua na usajili wa aina \\r\\nmbili za wanunuzi kama ifuatavyo:\\r\\nMnunuzi wa soko la ndani – huyu ni mnunuzi anayenunua \\r\\nkwa ajili ya mauzo ya ndani ya nchi tu na ataruhusiwa \\r\\nkununua hadi Tani 30 ndani ya msimu mmoja kwa kuweka \\r\\npunguzo ya dhamana ya Kinga ya Tsh. 5,000,000 tu. \\r\\nMnunuzi mkubwa na/au msafirishaji nje ya nchi\\r\\n(exporter) – Huyu ni mnunuzi atakayenunua kuanzia Tani \\r\\n30 na kuendelea kwenye minada na kuweka dhamana ya \\r\\nkinga kama ilivyoainishwa kwenye Jedwali Na. 1 kwenye \\r\\nmwongozo huu.\\r\\nMsafirishaji: Maana yake ni kampuni inayohusika kusafirisha mazao kwa \\r\\nmujibu wa taratibu zilizopo\\r\\nPDN (Produce \\r\\nDispatch Note):\\r\\nMaana yake ni hati ya kusafirisha mazao ndani ya nchi.\\r\\nSheria: Maana yake ni sheria ya Vyama vya Ushirika Na. 06\\r\\nya Mwaka 2013, Sheria ya Usalama wa Chakula ya\\r\\nMwaka 1991 Sura 249 na Marekebisho yaliyofanywa na \\r\\nSheria ya Nafaka na Mazao Mchanganyiko ya Mwaka \\r\\n2009 Sheria ya Stakabadhi za Ghala sura 339 RE\\r\\n2016 pamoja na Sheria ya Soko la Bidhaa ya mwaka\\r\\n2015.6 \\r\\nTBS (Tanzania\\r\\nBureau of\\r\\nStandards):\\r\\nMaana yake ni Shirika la Viwango Tanzania.\\r\\nTRA (Tanzania\\r\\nRevenue\\r\\nAuthority):\\r\\nMaana yake ni Mamlaka ya Mapato Tanzania.\\r\\nWMA (Weights and\\r\\nMeasures\\r\\nAuthority):\\r\\nWakusanyaji Mazao \\r\\n(Aggregators):\\r\\nWakulima \\r\\nWakubwa:\\r\\nMaana yake ni Wakala wa Vipimo Tanzania\\r\\nMaana yake ni wafanyabiashara wadogo watakaosajiliwa \\r\\nna Mamlaka (COPRA) kwa jukumu la kununua mazao \\r\\nkutoka kwa wakulima ambao wapo mbali na vyama vya \\r\\nushirika na kuyapelela ghala kuu. Wakusanyaji Mazao \\r\\nwatatakiwa kuzingatia utaratibu uliowekwa kwenye \\r\\nKiambatisho Na.1 cha Mwongozo huu.\\r\\nMaana yake ni wakulima wenye mashamba ya ekari \\r\\nzisizopungua 20 ambao watasajiliwa na Mamlaka (COPRA) \\r\\nna kuruhusiwa kupeleka mazao yao kwenye ghala kuu. \\r\\nWakulima wakubwa ambao hawatatumia mfumo wa \\r\\nukusanyaji kwenye ushirika watatakiwa kuzingatia \\r\\nUtaratibu uliowekwa kwenye Kiambatisho Na. 1 cha \\r\\nMwongozo huu. 7 \\r\\nSEHEMU YA KWANZA\\r\\n1.0.\"\n",
            "    score: 0.34968673455228372\n",
            "  }\n",
            "  contexts {\n",
            "    source_uri: \"https://drive.google.com/file/d/1y3pMO_o3DcYnzHjIwYmCnQv0_AJpsoGh/view?usp=drivesdk\"\n",
            "    source_display_name: \"JARIDA-LA-KOROSHO-DISEMBA-31-22-1-2.pdf\"\n",
            "    text: \"Katika wiki ya mwisho mwa Disemba, bei ya chini \\r\\nkwa korosho daraja la kwanza imeshuka kwa asilimia 1.2 kutoka wiki iliyoishia tarehe 15 Disemba ambapo \\r\\nbei ya chini ilikuwa Tshs.1,650 kwa kilo. Bei ya juu imeshuka kwa asilimia 3.1 ambapo katika wiki iliyoishia \\r\\ntarehe 15 Disemba,2022, bei ya juu ilikuwa Tshs. 1,960 kwa kilo. Sababu ya kushuka kwa bei hizi ikiwa ni \\r\\nkupungua kwa ushindani sokoni kwani wanunuzi wengi waliohitaji korosho kwa msimu huu tayari wameka�milisha mahitaji yao na hawashiriki katika minada kwa sasa. Aidha, kushuka kwa ubora katika baadhi ya\\r\\nmaeneo ambapo mvua zimeanza kunyesha huku mahitaji makubwa ya korosho ghafi katika nchi wanunuzi \\r\\nyakiendelea kuwa katika ubora wa kuanzia SHOT 50 hadi 54 kwa gunia la kilo 80.\\r\\nNchi\\r\\nBei ya Chini\\r\\nDola/Kilo\\r\\nBei ya Juu\\r\\nDola/Kilo\\r\\nBei ya Chini\\r\\nTzs/Kilo\\r\\nBei ya Juu\\r\\nTzs/Kilo\\r\\nVietnam 5.51 5.95 12,783.20 13,804.00\\r\\nAfrika Magharibi 5.62 5.84 13,038.40 13,548.80\\r\\nTanzania 6.80 7.10 15,776.00 16,472.00\\r\\nUWIANO WA BEI DARAJA LA WW320 FOB\\r\\nJedwali Namba 6: Uwiano Wa Bei Daraja WW320\\r\\nJedwali Na. 7a: Jumla ya Kiasi Kilichouzwa na Thamani\\r\\nJedwali Na. 7b: Muhtasari Bei za Mnada wa Kitaifa Korosho Ghafi\\r\\n4WIZARA YA KILIMO\\r\\nBODI YA KOROSHO TANZANIA\\r\\nJedwali Na. 7c: Bei ya Mauzo ya Mkoa Korosho Ghafi\\r\\nAlama ( ) zinaonyesha mwelekeo wa mabadiliko ya bei. ( ) Bei imeongezeka; ( ) Bei imeshuka;( ) \\r\\nHakuna mabadiliko ya bei.\\r\\n5.0 UHAMASISHAJI MATUMIZI NA UWEKEZAJI KATIKA BIDHAA ZA\\r\\nKOROSHO NCHINI\\r\\nKatika uhamasishaji matumizi ya bidhaa za korosho nchini, katika toleo hili imeainishwa namna ya uandaaji \\r\\nwa Mshikaki ya Mabibo Ya Korosho Maarufu Kama (Mshikaki Wa Korosho). Mshikaki wa Korosho unaanda�liwa kama ambavyo unaandaliwa mshikaki mwingine wa nyama ya ng’ombe au kuku.\\r\\n5.1. Mahitaji\\r\\ni. Unahitaji vitu vifuatavyo ili kupata mshikaki bomba wa korosho\\r\\nii. Mabibo 8 au zaidi kulingana na idadi ya mishikaki utakayohitaji (Mabibo yawe yamekomaa vizuri, \\r\\n yasiwe yamevunwa muda mrefu kabla ya uandaaji) \\r\\niii. Vitunguu viwili vilivyokatwa katwa vipande vya wastani \\r\\niv. Pilipili mbili za kijani zilizokatwa katwa vipande vya wastani\\r\\nv. Nyanya 4 zilizokatwa mara 4 kila moja \\r\\nvi. Vitungu swaumu vilivyomenywa na kupondwa\\r\\nvii.\"\n",
            "    score: 0.35056397065582923\n",
            "  }\n",
            "  contexts {\n",
            "    source_uri: \"https://drive.google.com/file/d/1nhVHfVTa4reWOeXGILIOoC9M5zlNDiTL/view?usp=drivesdk\"\n",
            "    source_display_name: \"MWONGOZO-WA-USIMAMIZI-WA-MASOKO-NA-MAUZO-YA-KOROSHO-GHAFI-_20240913_0001-compressed-3.pdf\"\n",
            "    text: \"18 ya 20{9; Kanuni ya 81 ya\\r\\nkanuni ya vyama vya ushirika ya mwaka 2015 pamoja na Sheria ya vyama vya\\r\\nUshirika Na. 06 ya mwaka 2013; Kifungu cha 6(1) (l) cha Sheria ya Stakabadhi\\r\\nza Ghala pamoja na Sheria ya Masoko ya Bidhaa ya mwaka 2015 na kanuni za\\r\\nmwaka 2016. Taasisi husika kwa kushirikiana na wadau wa zao la korosho\\r\\nzimeandaa Mwongozo wa Korosho wa msimu wa mwaka 202412025.\\r\\nPamoja na mambo mengine, Mwongozo huu unaelekeza na kufafanua yafuatayo:\\r\\nutaratibu mzima wa ukusanyaji; usimamizi wa ubora; masoko na usafirishaji wa\\r\\nkorosho ghafi ndani na nje ya nchi; utoaji wa taarifS.za mauzo; kutoa ufanunuzi wa\\r\\nbaadhi ya masharti ya msingi na usuluhishi wa migogoro. Utekelezaji wa [/lwongozo\\r\\nhuu, utazingatia Sheria ya Tasnia ya Korosho Na.18 ya Mwaka 2009 pamoja na\\r\\nKanuni zake za Mwaka 2010, Sheria ya Ushirika Na.6 ya lMwaka 2013 na Kanuni\\r\\nzake za 2015, Sheria ya Stakabadhi za Ghala Sura ya 339 ya mwaka 2016 na\\r\\nKanuni zake za mwaka 2016 na Sheria ya Masoko ya Bidhaa ya mwaka 2015 na kanuni\\r\\nza mwaka 2016.\\r\\nHivyo Mwongozo huu utasomwa pamoja na Sheria zilizoainishwa hapo juu pamoja\\r\\nna miongozo mingine itakayotolewa chini ya Sheria nyingine zinazohusika katika\\r\\nmnyororo wa thamani wa zao la korosho. Utendaji wowote ulio kinyume na\\r\\nMwongozo huu, utakuwa ni ukiukwaji wa taratibu na mhusika anaweza kuchukuliwa\\r\\nbu wa sheria husika\\r\\nV\\r\\nhatua kwa\\r\\nM -\\\\=1.0. SEHEMU YA KWANZA\\r\\n1.1. VIFUNGASHIO VYA KOROSHO GHAFI KWA MSIMU WA MWAKA 202412025\\r\\nSehemu hii inaelekeza aina ya vifungashio, ubora wa vifungashio,\\r\\nzitakazotumika na utaratibu wa manunuzi na usambazaji.\\r\\n1.\\r\\n1.2.2\\r\\n1.2.3\\r\\n1.2.4\\r\\n1.2.5.\\r\\n1.2.6.\\r\\n1.2.7.\\r\\nalama\\r\\n1 2.\\r\\n1 .2\\r\\nAina ya vifungashio\\r\\nMagunia yatakayotumika kuhifadhia Korosho yatakuwa mapya ya kitani (Jute)\\r\\nau mkonge (srsa/) yenye ubora uliothibitishwa na TBS.\\r\\nMagunia yatanunuliwa kwa kuzingatia makadirio ya uzalishaji wa korosho kwa\\r\\nmsimu husika.\\r\\nMagunia yatakuwa na nembo yenye rangi maalum ya chama kikuu husika, na\\r\\nnamba ya usajili ya AIvICOS kama inanyoonekana katika jedwali Na. 1\\r\\nMagunia ni yenye uwezo wa kubeba korosho kilo 80\\r\\nMagunia yatanunuliwa kwa kuzingatia sheria za manunuzi.\\r\\nMagunia yatasambaar,ta kwenye vyama vya msingi chini ya usimamizi wa\\r\\nchama kikuu. Chama kikuu kitawajibika kufuatilia matumizi ya magunia\\r\\nyaliyosambazwa katika vyama vya msingi.\"\n",
            "    score: 0.35387526695996718\n",
            "  }\n",
            "  contexts {\n",
            "    source_uri: \"https://drive.google.com/file/d/1pbMvcoOUTe_JrzZSQeZuKgIPgZtaUOYz/view?usp=drivesdk\"\n",
            "    source_display_name: \"MWONGOZO-WA-USIMAMIZI-WA-MASOKO-NA-MAUZO-YA-KOROSHO-GHAFI-_20240913_0001-compressed-3.pdf\"\n",
            "    text: \"18 ya 20{9; Kanuni ya 81 ya\\r\\nkanuni ya vyama vya ushirika ya mwaka 2015 pamoja na Sheria ya vyama vya\\r\\nUshirika Na. 06 ya mwaka 2013; Kifungu cha 6(1) (l) cha Sheria ya Stakabadhi\\r\\nza Ghala pamoja na Sheria ya Masoko ya Bidhaa ya mwaka 2015 na kanuni za\\r\\nmwaka 2016. Taasisi husika kwa kushirikiana na wadau wa zao la korosho\\r\\nzimeandaa Mwongozo wa Korosho wa msimu wa mwaka 202412025.\\r\\nPamoja na mambo mengine, Mwongozo huu unaelekeza na kufafanua yafuatayo:\\r\\nutaratibu mzima wa ukusanyaji; usimamizi wa ubora; masoko na usafirishaji wa\\r\\nkorosho ghafi ndani na nje ya nchi; utoaji wa taarifS.za mauzo; kutoa ufanunuzi wa\\r\\nbaadhi ya masharti ya msingi na usuluhishi wa migogoro. Utekelezaji wa [/lwongozo\\r\\nhuu, utazingatia Sheria ya Tasnia ya Korosho Na.18 ya Mwaka 2009 pamoja na\\r\\nKanuni zake za Mwaka 2010, Sheria ya Ushirika Na.6 ya lMwaka 2013 na Kanuni\\r\\nzake za 2015, Sheria ya Stakabadhi za Ghala Sura ya 339 ya mwaka 2016 na\\r\\nKanuni zake za mwaka 2016 na Sheria ya Masoko ya Bidhaa ya mwaka 2015 na kanuni\\r\\nza mwaka 2016.\\r\\nHivyo Mwongozo huu utasomwa pamoja na Sheria zilizoainishwa hapo juu pamoja\\r\\nna miongozo mingine itakayotolewa chini ya Sheria nyingine zinazohusika katika\\r\\nmnyororo wa thamani wa zao la korosho. Utendaji wowote ulio kinyume na\\r\\nMwongozo huu, utakuwa ni ukiukwaji wa taratibu na mhusika anaweza kuchukuliwa\\r\\nbu wa sheria husika\\r\\nV\\r\\nhatua kwa\\r\\nM -\\\\=1.0. SEHEMU YA KWANZA\\r\\n1.1. VIFUNGASHIO VYA KOROSHO GHAFI KWA MSIMU WA MWAKA 202412025\\r\\nSehemu hii inaelekeza aina ya vifungashio, ubora wa vifungashio,\\r\\nzitakazotumika na utaratibu wa manunuzi na usambazaji.\\r\\n1.\\r\\n1.2.2\\r\\n1.2.3\\r\\n1.2.4\\r\\n1.2.5.\\r\\n1.2.6.\\r\\n1.2.7.\\r\\nalama\\r\\n1 2.\\r\\n1 .2\\r\\nAina ya vifungashio\\r\\nMagunia yatakayotumika kuhifadhia Korosho yatakuwa mapya ya kitani (Jute)\\r\\nau mkonge (srsa/) yenye ubora uliothibitishwa na TBS.\\r\\nMagunia yatanunuliwa kwa kuzingatia makadirio ya uzalishaji wa korosho kwa\\r\\nmsimu husika.\\r\\nMagunia yatakuwa na nembo yenye rangi maalum ya chama kikuu husika, na\\r\\nnamba ya usajili ya AIvICOS kama inanyoonekana katika jedwali Na. 1\\r\\nMagunia ni yenye uwezo wa kubeba korosho kilo 80\\r\\nMagunia yatanunuliwa kwa kuzingatia sheria za manunuzi.\\r\\nMagunia yatasambaar,ta kwenye vyama vya msingi chini ya usimamizi wa\\r\\nchama kikuu. Chama kikuu kitawajibika kufuatilia matumizi ya magunia\\r\\nyaliyosambazwa katika vyama vya msingi.\"\n",
            "    score: 0.35387526695996718\n",
            "  }\n",
            "  contexts {\n",
            "    source_uri: \"https://drive.google.com/file/d/1_CTMS1fK_v2M2xhnlf2kOXo5t_CJOBFu/view?usp=drivesdk\"\n",
            "    source_display_name: \"MWONGOZO-WA-USIMAMIZI-NA-UDHIBITI-UBORA-2023.pdf\"\n",
            "    text: \"4.7.2 Msafirishaji akishakabidhiwa korosho ghafi katika ghala la mnada atawajibika\\r\\nkulinda na kutunza ubora na uzito w\\'a korosho hizo hadi kwenye ghala la mnunuzi,\\r\\nbandarini au kiwandani.\\r\\nMsafirishaji yoyote atakayeshiriki na kuthibitika kuchangia kushuka kwa ubora\\r\\nbaada ya kukabidhiwa korosho kutoka ghala la chama cha msingi au ghala la\\r\\nmnada au kuongeza kitu chochote ambacho sio korosho atawajibika kwa mujibu\\r\\nwa Sheria za nchi.\\r\\n. :,-4.6.6\\r\\n4.7.3\\r\\n91l\\r\\n5.0\\r\\n5.1\\r\\n5.1.1\\r\\n5.t.2\\r\\ns.1\\\"3\\r\\n5.2\\r\\n5.2.1\\r\\n5.2.2\\r\\n5.2.4\\r\\n\\\".\\'s.2.5\\r\\n5.3\\r\\n5.3.1\\r\\n5.3.2\\r\\n5.3.3\\r\\n5.3.4\\r\\n5.3.5\\r\\ns.3.6\\r\\ns.3.7\\r\\n5.2.3\\r\\nSEHEMU YA TANO\\r\\nMA.IUKUMU NA lryAJIBU WA WADAU KATIIiA KUSIMAMIA UBORA\\r\\nWAKOROSHO GHATI\\r\\nMkulima\\r\\nKuzingatia taratibu zate za uurnaji, ukaushaji. uchambuaji/udarajishaji na uhifadhi\\r\\nwa korosho ghafi katika madaraja kama ililyoelezwa k\\'*\\'enye sehemu ya pili ya\\r\\nMwongozo huu.\\r\\nKupeleka Korosho kwenye ghala la AMCOS. kuhakikisha korosho zake zimekaguliwa\\r\\nkwa kumwaga korosho zote mbele ya mjumbe anayesimamia ubora.\\r\\nKufuata taratibu nyingine kama zililryoainishwa kwenye mwongozr-r huu�Vyama Vya Ushirika Vya Msingi (AMCOS)\\r\\nKuajiri karani wa ubora au kuw\\'a na mjumbe wa AMCOS atakayesimamia ubora wa\\r\\nkorosho katika kila ghala la Chama cha llshirika cha Msingi.\\r\\nKuhakikisha ghala linalotumika kupokelea korosho kutoka kwa wakulima lipo\\r\\nkatika hali nzuri na halivuji.\\r\\nKuhakikisha magunia yote yameandikwa au yamechapishwa alama za utambulisho\\r\\nkamazilir,yoainishwa kw\\'enye kiambatisho Na.l kabla ya kusafirishwa kwenda\\r\\nghala la mnada.\\r\\nMjumbe wa Bodi au Mtendaji wa Charna cha Msingi husika ahakikishe korosho\\r\\nghafianazifanyia ukaguzi wa awali wa ubora kabla ya kusafirisha kwenda ghala la\\r\\nmnada.\\r\\nKufuata taratibu nyingine kama zilivyoainishwa kwenye mwongozo huu\\'\\r\\nMwendesha Ghala\\r\\nMwendesha ghala anapaswa kuwa na vifaa lya ubora kama viliv-voainishwa katika\\r\\nkipengele 4.3 na viwe vimehakikiwa na mamlz*.a husika (TBS na WMA). Vitaa \\\\Yote\\r\\nviwepo ghala la mnada kabla yazoezi la kupokea Korosho kuanza.\\r\\nIirtwendesha ghala lazima awe na wataalarnu wa ubora wa Korosho angalau wawili\\r\\nwaliosajiliwa na kupata kibali toka Bodi ya Korosho.\"\n",
            "    score: 0.35419687894466678\n",
            "  }\n",
            "  contexts {\n",
            "    source_uri: \"https://drive.google.com/file/d/1RXXNW2LYR1GwgNnM1yPYLi1hXC5pys4Y/view?usp=drivesdk\"\n",
            "    source_display_name: \"Mwongozo Tolea 3 - 2025 & Kiambatisho Na. 1 - Signed.pdf\"\n",
            "    text: \"Gharama za kusafirishia dengu, mbaazi, soya, ufuta na choroko zitakuwa\\r\\nsawa na gharama zilizopangwa katika mjengeko wa bei uliopo katika \\r\\nmwongozo huu.\\r\\n1.2. Ukusanyaji na Usimamizi wa Ghala Kuu\\r\\nUtaratibu ufuatao utatumika katika Ghala Kuu zilizopewa leseni chini ya Kifungu cha \\r\\n16 cha Sheria ya Stakabadhi za Ghala.\\r\\nUpatikanaji wa Mwendesha Ghala katika mauzo ya dengu, mbaazi, soya, ufuta na \\r\\nchoroko\\r\\na. Chama Kikuu kitatangaza zabuni, kuchambua na kupitisha kampuni ya mwendesha \\r\\nGhala mwenye usajili wa Mamlaka ya Udhibiti wa Nafaka na Mazao Mchanganyiko \\r\\natakaye fanya kazi katika maeneo yao kwa msimu husika; 9 \\r\\nb. Waendesha Ghala watakaotambuliwa na Chama Kikuu na Mamlaka ya udhibiti wa \\r\\nnafaka na mazao mchanganyiko COPRA wataomba leseni Bodi ya Usimamizi wa \\r\\nStakabadhi za Ghala kwa kuzingatia Kifungu cha 16 cha Sheria ya Stakabadhi za\\r\\nGhala, Kanuni na Miongozo;\\r\\nc. Mwendesha ghala atakayeshinda zabuni ya kuendesha ghala atatakiwa kuhakikisha \\r\\nanaweka mtambo wa kisasa wa kusafisha dengu, mbaazi, soya, ufuta na choroko\\r\\nunaotolewa na mtoa huduma aliye katika orodha ya Mamlaka ya watoa huduma ya \\r\\nusafishaji kwa kiwango kinachokubalika na soko la Kimataifa wiki mbili kabla ya kuanza \\r\\nmsimu wa mauzo wa mazao tajwa. Orodha ya watoa huduma hao itatangazwa na \\r\\nMamlaka ya Udhibiti wa Nafaka na Mazao Mchanganyiko. Gharama za usafishaji \\r\\nmazao haya zitaainishwa katika mjengeko wa Tozo\\r\\nWajibu wa Mwendesha Ghala katika Kupokea Mazao\\r\\ni. Kupokea na kutoa mazao ya dengu, mbaazi, soya, ufuta na choroko yakiwa katika \\r\\nhali ya usafi na yaliyokauka vema. \\r\\nii. Kusafisha mazao kwa kutumia mtambo maalum wa usafishaji ili mazao ya dengu, \\r\\nmbaazi, soya, ufuta na choroko yakidhi viwango vya ubora vya Shirika la Viwango\\r\\nTanzania TBS yakiwa hayana uchafu au mbegu za mazao mengine kama ifuatavyo:\\r\\n-\\r\\nA : Daraja la Kwanza (GRADE 1), Daraja la Pili (GRADE 2) na Daraja la Tatu\\r\\n(GRADE 3) kwa mujibu wa Viwango kama ifuatavyo : -\\r\\nNa\\r\\n.\"\n",
            "    score: 0.35755040139967087\n",
            "  }\n",
            "  contexts {\n",
            "    source_uri: \"https://drive.google.com/file/d/1OO3nx6cCq1mTd1nUf4Qc9RHmozJhnFp_/view?usp=drivesdk\"\n",
            "    source_display_name: \"sw-1738069936-MABORESHO YA MWONGOZO WA BIASHARA KWA MAZAO YA DENGU, CHOROKO, MBAAZI, SOYA NA UFUTA TOLEO 3 - 2025.pdf\"\n",
            "    text: \"Gharama za kusafirishia dengu, mbaazi, soya, ufuta na choroko zitakuwa\\r\\nsawa na gharama zilizopangwa katika mjengeko wa bei uliopo katika \\r\\nmwongozo huu.\\r\\n1.2. Ukusanyaji na Usimamizi wa Ghala Kuu\\r\\nUtaratibu ufuatao utatumika katika Ghala Kuu zilizopewa leseni chini ya Kifungu cha \\r\\n16 cha Sheria ya Stakabadhi za Ghala.\\r\\nUpatikanaji wa Mwendesha Ghala katika mauzo ya dengu, mbaazi, soya, ufuta na \\r\\nchoroko\\r\\na. Chama Kikuu kitatangaza zabuni, kuchambua na kupitisha kampuni ya mwendesha \\r\\nGhala mwenye usajili wa Mamlaka ya Udhibiti wa Nafaka na Mazao Mchanganyiko \\r\\natakaye fanya kazi katika maeneo yao kwa msimu husika; 9 \\r\\nb. Waendesha Ghala watakaotambuliwa na Chama Kikuu na Mamlaka ya udhibiti wa \\r\\nnafaka na mazao mchanganyiko COPRA wataomba leseni Bodi ya Usimamizi wa \\r\\nStakabadhi za Ghala kwa kuzingatia Kifungu cha 16 cha Sheria ya Stakabadhi za\\r\\nGhala, Kanuni na Miongozo;\\r\\nc. Mwendesha ghala atakayeshinda zabuni ya kuendesha ghala atatakiwa kuhakikisha \\r\\nanaweka mtambo wa kisasa wa kusafisha dengu, mbaazi, soya, ufuta na choroko\\r\\nunaotolewa na mtoa huduma aliye katika orodha ya Mamlaka ya watoa huduma ya \\r\\nusafishaji kwa kiwango kinachokubalika na soko la Kimataifa wiki mbili kabla ya kuanza \\r\\nmsimu wa mauzo wa mazao tajwa. Orodha ya watoa huduma hao itatangazwa na \\r\\nMamlaka ya Udhibiti wa Nafaka na Mazao Mchanganyiko. Gharama za usafishaji \\r\\nmazao haya zitaainishwa katika mjengeko wa Tozo\\r\\nWajibu wa Mwendesha Ghala katika Kupokea Mazao\\r\\ni. Kupokea na kutoa mazao ya dengu, mbaazi, soya, ufuta na choroko yakiwa katika \\r\\nhali ya usafi na yaliyokauka vema. \\r\\nii. Kusafisha mazao kwa kutumia mtambo maalum wa usafishaji ili mazao ya dengu, \\r\\nmbaazi, soya, ufuta na choroko yakidhi viwango vya ubora vya Shirika la Viwango\\r\\nTanzania TBS yakiwa hayana uchafu au mbegu za mazao mengine kama ifuatavyo:\\r\\n-\\r\\nA : Daraja la Kwanza (GRADE 1), Daraja la Pili (GRADE 2) na Daraja la Tatu\\r\\n(GRADE 3) kwa mujibu wa Viwango kama ifuatavyo : -\\r\\nNa\\r\\n.\"\n",
            "    score: 0.35755040139967087\n",
            "  }\n",
            "}\n",
            "\n"
          ]
        }
      ],
      "source": [
        "# Direct context retrieval\n",
        "response = rag.retrieval_query(\n",
        "    rag_resources=[\n",
        "        rag.RagResource(\n",
        "            rag_corpus=rag_corpus.name,\n",
        "            # Optional: supply IDs from `rag.list_files()`.\n",
        "            # rag_file_ids=[\"rag-file-1\", \"rag-file-2\", ...],\n",
        "        )\n",
        "    ],\n",
        "    rag_retrieval_config=rag.RagRetrievalConfig(\n",
        "        top_k=10,  # Optional\n",
        "        filter=rag.Filter(\n",
        "            vector_distance_threshold=0.5,  # Optional\n",
        "        ),\n",
        "    ),\n",
        "    text=\"Nataka kununua kahawa, hatua gani nahitaji kufwata kabla ya kuweza shiriki kwenye mnada, pia ni vibali gani natakiwa kuwa navyo?\",\n",
        ")\n",
        "print(response)\n",
        "\n",
        "# Optional: The retrieved context can be passed to any SDK or model generation API to generate final results.\n",
        "# context = \" \".join([context.text for context in response.contexts.contexts]).replace(\"\\n\", \"\")"
      ]
    },
    {
      "cell_type": "markdown",
      "metadata": {
        "id": "79ea89661842"
      },
      "source": [
        "### Create RAG Retrieval Tool"
      ]
    },
    {
      "cell_type": "code",
      "execution_count": 58,
      "metadata": {
        "id": "0ebceac3d816"
      },
      "outputs": [],
      "source": [
        "# Create a tool for the RAG Corpus\n",
        "rag_retrieval_tool = Tool(\n",
        "    retrieval=Retrieval(\n",
        "        vertex_rag_store=VertexRagStore(\n",
        "            rag_corpora=[rag_corpus.name],\n",
        "            similarity_top_k=20,\n",
        "            vector_distance_threshold=0.5,\n",
        "        )\n",
        "    )\n",
        ")"
      ]
    },
    {
      "cell_type": "markdown",
      "metadata": {
        "id": "d88fa7ede853"
      },
      "source": [
        "### Generate Content with Gemini using RAG Retrieval Tool"
      ]
    },
    {
      "cell_type": "code",
      "execution_count": 78,
      "metadata": {
        "id": "8dd928baecd4"
      },
      "outputs": [],
      "source": [
        "MODEL_ID = \"gemini-2.0-pro-exp-02-05\""
      ]
    },
    {
      "cell_type": "code",
      "execution_count": 79,
      "metadata": {
        "id": "124b36be8d5b",
        "colab": {
          "base_uri": "https://localhost:8080/",
          "height": 295
        },
        "outputId": "760f967b-630f-47d5-a812-1e73bd0d497e"
      },
      "outputs": [
        {
          "output_type": "display_data",
          "data": {
            "text/plain": [
              "<IPython.core.display.Markdown object>"
            ],
            "text/markdown": "Ingawa TMX inasimamia uuzaji wa mazao mbalimbali, kahawa haitajwi moja kwa moja katika taarifa nilizopewa. Hata hivyo, unaweza kufuata hatua hizi kununua mazao mengineyo:\n\n1.  **Jaza fomu ya kuridhia:** Jaza fomu ya TMX inayoonyesha unakubali kufuata taratibu na miongozo yao. Ambatanisha leseni ya biashara na cheti cha usajili wa kampuni yako.\n\n2.  **Weka kinga ya dhamana:** Weka fedha kwenye akaunti maalum ya TMX kama kinga ya dhamana. Kiasi kinategemea aina ya soko (ndani au kimataifa) na uzito wa mazao.\n\n3.  **Sajiliwa kwenye mfumo:** Baada ya kukamilisha usajili na kuweka kinga ya dhamana, utaingizwa kwenye mfumo wa kielektroniki wa TMX.\n\n4.  **Shiriki mnada:** Minada hufanyika kwa njia ya kielektroniki, ambapo utashindana na wanunuzi wengine.\n\nKwa maelezo zaidi kuhusu namna ya kutumia mfumo wa kielektroniki, au kujua kama kahawa inapatikana, wasiliana na TMX kupitia:\n\n*   Simu: +255 22 2923700 au +255 713298314\n*   Barua pepe: info@tmx.co.tz\n\nJe, ungependa nikupe maelezo kuhusu zao lolote mahususi ambalo TMX wanalisimamia, kama ufuta au dengu.?\n"
          },
          "metadata": {}
        }
      ],
      "source": [
        "response = client.models.generate_content(\n",
        "    model=MODEL_ID,\n",
        "    contents=\"Nataka kununua kahawa kupitia TMX?\",\n",
        "    config=GenerateContentConfig(\n",
        "        tools=[rag_retrieval_tool],\n",
        "        system_instruction=\n",
        "          [\n",
        "            'You are a helpful and informative assistant',\n",
        "            \"You are a representative of TMX\",\n",
        "            \"The user only expects information from you, never assume the user wants more from you other than information.\",\n",
        "            'You speak in swahili and only in swahili. specifically the Tanzanian dialect.',\n",
        "            \"Assume you are talking to a layman always, making sure to prioritize quick, concise guidance over lenghty explanations that are not actually actiaonable unless explicitly asked.\",\n",
        "            \"Always provide clear and concise information.\",\n",
        "            \"Assume that all the user needs from you is information, do not apologize for not being able to do more.\",\n",
        "            \"Never apologize for not being able to do more.\",\n",
        "            \"Prommpt the user for further assistance, guide them through the questioning.\",\n",
        "            \"Be specific to the needs of the asker, do not fluff info for the sake of it, if need be, answer with a single word rather than blabbering on and on.\",\n",
        "          ]\n",
        "    ),\n",
        ")\n",
        "\n",
        "display(Markdown(response.text))"
      ]
    },
    {
      "cell_type": "markdown",
      "metadata": {
        "id": "0268fe43d41c"
      },
      "source": [
        "### Generate Content with Llama3 using RAG Retrieval Tool"
      ]
    },
    {
      "cell_type": "code",
      "execution_count": null,
      "metadata": {
        "id": "f6e67ee7968c"
      },
      "outputs": [],
      "source": [
        "from vertexai import generative_models\n",
        "\n",
        "# Load tool into Llama model\n",
        "rag_retrieval_tool = generative_models.Tool.from_retrieval(\n",
        "    retrieval=rag.Retrieval(\n",
        "        source=rag.VertexRagStore(\n",
        "            rag_corpora=[rag_corpus.name],\n",
        "            similarity_top_k=10,\n",
        "            vector_distance_threshold=0.5,\n",
        "        ),\n",
        "    )\n",
        ")\n",
        "\n",
        "llama_model = generative_models.GenerativeModel(\n",
        "    # your self-deployed endpoint for Llama3\n",
        "    \"projects/{project}/locations/{location}/endpoints/{endpoint_resource_id}\",\n",
        "    tools=[rag_retrieval_tool],\n",
        ")"
      ]
    },
    {
      "cell_type": "code",
      "execution_count": null,
      "metadata": {
        "id": "c6d710b6dece"
      },
      "outputs": [],
      "source": [
        "response = llama_model.generate_content(\"What is RAG?\")\n",
        "\n",
        "display(Markdown(response.text))"
      ]
    }
  ],
  "metadata": {
    "colab": {
      "name": "intro_rag_engine.ipynb",
      "provenance": [],
      "include_colab_link": true
    },
    "kernelspec": {
      "display_name": "Python 3",
      "name": "python3"
    }
  },
  "nbformat": 4,
  "nbformat_minor": 0
}