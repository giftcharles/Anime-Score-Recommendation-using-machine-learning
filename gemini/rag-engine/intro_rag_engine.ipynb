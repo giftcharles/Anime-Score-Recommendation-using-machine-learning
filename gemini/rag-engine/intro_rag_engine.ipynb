{
  "cells": [
    {
      "cell_type": "code",
      "execution_count": null,
      "metadata": {
        "id": "ur8xi4C7S06n"
      },
      "outputs": [],
      "source": [
        "# Copyright 2024 Google LLC\n",
        "#\n",
        "# Licensed under the Apache License, Version 2.0 (the \"License\");\n",
        "# you may not use this file except in compliance with the License.\n",
        "# You may obtain a copy of the License at\n",
        "#\n",
        "#     https://www.apache.org/licenses/LICENSE-2.0\n",
        "#\n",
        "# Unless required by applicable law or agreed to in writing, software\n",
        "# distributed under the License is distributed on an \"AS IS\" BASIS,\n",
        "# WITHOUT WARRANTIES OR CONDITIONS OF ANY KIND, either express or implied.\n",
        "# See the License for the specific language governing permissions and\n",
        "# limitations under the License."
      ]
    },
    {
      "cell_type": "markdown",
      "metadata": {
        "id": "JAPoU8Sm5E6e"
      },
      "source": [
        "# Intro to Building a Scalable and Modular RAG System with RAG Engine in Vertex AI\n",
        "\n",
        "<table align=\"left\">\n",
        "  <td style=\"text-align: center\">\n",
        "    <a href=\"https://colab.research.google.com/github/GoogleCloudPlatform/generative-ai/blob/main/gemini/rag-engine/intro_rag_engine.ipynb\">\n",
        "      <img width=\"32px\" src=\"https://www.gstatic.com/pantheon/images/bigquery/welcome_page/colab-logo.svg\" alt=\"Google Colaboratory logo\"><br> Open in Colab\n",
        "    </a>\n",
        "  </td>\n",
        "  <td style=\"text-align: center\">\n",
        "    <a href=\"https://console.cloud.google.com/vertex-ai/colab/import/https:%2F%2Fraw.githubusercontent.com%2FGoogleCloudPlatform%2Fgenerative-ai%2Fmain%2Fgemini%2Frag-engine%2Fintro_rag_engine.ipynb\">\n",
        "      <img width=\"32px\" src=\"https://lh3.googleusercontent.com/JmcxdQi-qOpctIvWKgPtrzZdJJK-J3sWE1RsfjZNwshCFgE_9fULcNpuXYTilIR2hjwN\" alt=\"Google Cloud Colab Enterprise logo\"><br> Open in Colab Enterprise\n",
        "    </a>\n",
        "  </td>\n",
        "  <td style=\"text-align: center\">\n",
        "    <a href=\"https://console.cloud.google.com/vertex-ai/workbench/deploy-notebook?download_url=https://raw.githubusercontent.com/GoogleCloudPlatform/generative-ai/main/gemini/rag-engine/intro_rag_engine.ipynb\">\n",
        "      <img src=\"https://www.gstatic.com/images/branding/gcpiconscolors/vertexai/v1/32px.svg\" alt=\"Vertex AI logo\"><br> Open in Vertex AI Workbench\n",
        "    </a>\n",
        "  </td>\n",
        "  <td style=\"text-align: center\">\n",
        "    <a href=\"https://github.com/GoogleCloudPlatform/generative-ai/blob/main/gemini/rag-engine/intro_rag_engine.ipynb\">\n",
        "      <img width=\"32px\" src=\"https://upload.wikimedia.org/wikipedia/commons/9/91/Octicons-mark-github.svg\" alt=\"GitHub logo\"><br> View on GitHub\n",
        "    </a>\n",
        "  </td>\n",
        "</table>\n",
        "\n",
        "<div style=\"clear: both;\"></div>\n",
        "\n",
        "<b>Share to:</b>\n",
        "\n",
        "<a href=\"https://www.linkedin.com/sharing/share-offsite/?url=https%3A//github.com/GoogleCloudPlatform/generative-ai/blob/main/gemini/rag-engine/intro_rag_engine.ipynb\" target=\"_blank\">\n",
        "  <img width=\"20px\" src=\"https://upload.wikimedia.org/wikipedia/commons/8/81/LinkedIn_icon.svg\" alt=\"LinkedIn logo\">\n",
        "</a>\n",
        "\n",
        "<a href=\"https://bsky.app/intent/compose?text=https%3A//github.com/GoogleCloudPlatform/generative-ai/blob/main/gemini/rag-engine/intro_rag_engine.ipynb\" target=\"_blank\">\n",
        "  <img width=\"20px\" src=\"https://upload.wikimedia.org/wikipedia/commons/7/7a/Bluesky_Logo.svg\" alt=\"Bluesky logo\">\n",
        "</a>\n",
        "\n",
        "<a href=\"https://twitter.com/intent/tweet?url=https%3A//github.com/GoogleCloudPlatform/generative-ai/blob/main/gemini/rag-engine/intro_rag_engine.ipynb\" target=\"_blank\">\n",
        "  <img width=\"20px\" src=\"https://upload.wikimedia.org/wikipedia/commons/5/53/X_logo_2023_original.svg\" alt=\"X logo\">\n",
        "</a>\n",
        "\n",
        "<a href=\"https://reddit.com/submit?url=https%3A//github.com/GoogleCloudPlatform/generative-ai/blob/main/gemini/rag-engine/intro_rag_engine.ipynb\" target=\"_blank\">\n",
        "  <img width=\"20px\" src=\"https://redditinc.com/hubfs/Reddit%20Inc/Brand/Reddit_Logo.png\" alt=\"Reddit logo\">\n",
        "</a>\n",
        "\n",
        "<a href=\"https://www.facebook.com/sharer/sharer.php?u=https%3A//github.com/GoogleCloudPlatform/generative-ai/blob/main/gemini/rag-engine/intro_rag_engine.ipynb\" target=\"_blank\">\n",
        "  <img width=\"20px\" src=\"https://upload.wikimedia.org/wikipedia/commons/5/51/Facebook_f_logo_%282019%29.svg\" alt=\"Facebook logo\">\n",
        "</a>            "
      ]
    },
    {
      "cell_type": "markdown",
      "metadata": {
        "id": "84f0f73a0f76"
      },
      "source": [
        "| | |\n",
        "|-|-|\n",
        "| Author(s) | [Holt Skinner](https://github.com/holtskinner) |"
      ]
    },
    {
      "cell_type": "markdown",
      "metadata": {
        "id": "tvgnzT1CKxrO"
      },
      "source": [
        "## Overview\n",
        "\n",
        "Retrieval Augmented Generation (RAG) improves Large Language Models (LLMs) by allowing them to access and process external information sources during generation. This ensures the model's responses are grounded in factual data and avoids hallucinations.\n",
        "\n",
        "A common problem with LLMs is that they don't understand private knowledge, that\n",
        "is, your organization's data. With RAG Engine, you can enrich the\n",
        "LLM context with additional private information, because the model can reduce\n",
        "hallucinations and answer questions more accurately.\n",
        "\n",
        "By combining additional knowledge sources with the existing knowledge that LLMs\n",
        "have, a better context is provided. The improved context along with the query\n",
        "enhances the quality of the LLM's response.\n",
        "\n",
        "The following concepts are key to understanding Vertex AI RAG Engine. These concepts are listed in the order of the\n",
        "retrieval-augmented generation (RAG) process.\n",
        "\n",
        "1. **Data ingestion**: Intake data from different data sources. For example,\n",
        "  local files, Google Cloud Storage, and Google Drive.\n",
        "\n",
        "1. **Data transformation**: Conversion of the data in preparation for indexing. For example, data is split into chunks.\n",
        "\n",
        "1. **Embedding**: Numerical representations of words or pieces of text. These numbers capture the\n",
        "   semantic meaning and context of the text. Similar or related words or text\n",
        "   tend to have similar embeddings, which means they are closer together in the\n",
        "   high-dimensional vector space.\n",
        "\n",
        "1. **Data indexing**: RAG Engine creates an index called a corpus.\n",
        "   The index structures the knowledge base so it's optimized for searching. For\n",
        "   example, the index is like a detailed table of contents for a massive\n",
        "   reference book.\n",
        "\n",
        "1. **Retrieval**: When a user asks a question or provides a prompt, the retrieval\n",
        "  component in RAG Engine searches through its knowledge\n",
        "  base to find information that is relevant to the query.\n",
        "\n",
        "1. **Generation**: The retrieved information becomes the context added to the\n",
        "  original user query as a guide for the generative AI model to generate\n",
        "  factually grounded and relevant responses.\n",
        "\n",
        "For more information, refer to the public documentation for [Vertex AI RAG Engine](https://cloud.google.com/vertex-ai/generative-ai/docs/rag-overview)."
      ]
    },
    {
      "cell_type": "markdown",
      "metadata": {
        "id": "61RBz8LLbxCR"
      },
      "source": [
        "## Get started"
      ]
    },
    {
      "cell_type": "markdown",
      "metadata": {
        "id": "No17Cw5hgx12"
      },
      "source": [
        "### Install Vertex AI SDK and Google Gen AI SDK\n"
      ]
    },
    {
      "cell_type": "code",
      "execution_count": 1,
      "metadata": {
        "id": "tFy3H3aPgx12",
        "colab": {
          "base_uri": "https://localhost:8080/"
        },
        "outputId": "75d05276-0789-4789-b71d-09c231c6ecca"
      },
      "outputs": [
        {
          "output_type": "stream",
          "name": "stdout",
          "text": [
            "\u001b[2K   \u001b[90m━━━━━━━━━━━━━━━━━━━━━━━━━━━━━━━━━━━━━━━━\u001b[0m \u001b[32m7.1/7.1 MB\u001b[0m \u001b[31m28.7 MB/s\u001b[0m eta \u001b[36m0:00:00\u001b[0m\n",
            "\u001b[2K   \u001b[90m━━━━━━━━━━━━━━━━━━━━━━━━━━━━━━━━━━━━━━━━\u001b[0m \u001b[32m130.7/130.7 kB\u001b[0m \u001b[31m5.0 MB/s\u001b[0m eta \u001b[36m0:00:00\u001b[0m\n",
            "\u001b[?25h"
          ]
        }
      ],
      "source": [
        "%pip install --upgrade --quiet google-cloud-aiplatform google-genai"
      ]
    },
    {
      "cell_type": "markdown",
      "metadata": {
        "id": "R5Xep4W9lq-Z"
      },
      "source": [
        "### Restart runtime\n",
        "\n",
        "To use the newly installed packages in this Jupyter runtime, you must restart the runtime. You can do this by running the cell below, which restarts the current kernel.\n",
        "\n",
        "The restart might take a minute or longer. After it's restarted, continue to the next step."
      ]
    },
    {
      "cell_type": "code",
      "execution_count": 2,
      "metadata": {
        "id": "XRvKdaPDTznN",
        "colab": {
          "base_uri": "https://localhost:8080/"
        },
        "outputId": "46b231fb-99df-425b-ffd0-d70226a552ed"
      },
      "outputs": [
        {
          "output_type": "execute_result",
          "data": {
            "text/plain": [
              "{'status': 'ok', 'restart': True}"
            ]
          },
          "metadata": {},
          "execution_count": 2
        }
      ],
      "source": [
        "import IPython\n",
        "\n",
        "app = IPython.Application.instance()\n",
        "app.kernel.do_shutdown(True)"
      ]
    },
    {
      "cell_type": "markdown",
      "metadata": {
        "id": "SbmM4z7FOBpM"
      },
      "source": [
        "<div class=\"alert alert-block alert-warning\">\n",
        "<b>⚠️ The kernel is going to restart. Wait until it's finished before continuing to the next step. ⚠️</b>\n",
        "</div>\n"
      ]
    },
    {
      "cell_type": "markdown",
      "metadata": {
        "id": "dmWOrTJ3gx13"
      },
      "source": [
        "### Authenticate your notebook environment (Colab only)\n",
        "\n",
        "If you're running this notebook on Google Colab, run the cell below to authenticate your environment."
      ]
    },
    {
      "cell_type": "code",
      "execution_count": 1,
      "metadata": {
        "id": "NyKGtVQjgx13"
      },
      "outputs": [],
      "source": [
        "import sys\n",
        "\n",
        "if \"google.colab\" in sys.modules:\n",
        "    from google.colab import auth\n",
        "\n",
        "    auth.authenticate_user()"
      ]
    },
    {
      "cell_type": "markdown",
      "metadata": {
        "id": "DF4l8DTdWgPY"
      },
      "source": [
        "### Set Google Cloud project information and initialize Vertex AI SDK\n",
        "\n",
        "To get started using Vertex AI, you must have an existing Google Cloud project and [enable the Vertex AI API](https://console.cloud.google.com/flows/enableapi?apiid=aiplatform.googleapis.com).\n",
        "\n",
        "Learn more about [setting up a project and a development environment](https://cloud.google.com/vertex-ai/docs/start/cloud-environment)."
      ]
    },
    {
      "cell_type": "code",
      "execution_count": 2,
      "metadata": {
        "id": "Nqwi-5ufWp_B"
      },
      "outputs": [],
      "source": [
        "# Use the environment variable if the user doesn't provide Project ID.\n",
        "import os\n",
        "\n",
        "from google import genai\n",
        "import vertexai\n",
        "\n",
        "PROJECT_ID = \"tmx-automation-564bd\"  # @param {type: \"string\", placeholder: \"[your-project-id]\", isTemplate: true}\n",
        "if not PROJECT_ID or PROJECT_ID == \"[your-project-id]\":\n",
        "    PROJECT_ID = str(os.environ.get(\"GOOGLE_CLOUD_PROJECT\"))\n",
        "\n",
        "LOCATION = os.environ.get(\"GOOGLE_CLOUD_REGION\", \"us-central1\")\n",
        "\n",
        "vertexai.init(project=PROJECT_ID, location=LOCATION)\n",
        "client = genai.Client(vertexai=True, project=PROJECT_ID, location=LOCATION)"
      ]
    },
    {
      "cell_type": "markdown",
      "metadata": {
        "id": "5303c05f7aa6"
      },
      "source": [
        "### Import libraries"
      ]
    },
    {
      "cell_type": "code",
      "source": [
        "!pip install google-generativeai"
      ],
      "metadata": {
        "id": "qTNrPowR7U2o",
        "outputId": "70cc9312-2fa5-497b-bd99-7e3aaf49b48d",
        "colab": {
          "base_uri": "https://localhost:8080/"
        }
      },
      "execution_count": 46,
      "outputs": [
        {
          "output_type": "stream",
          "name": "stdout",
          "text": [
            "Requirement already satisfied: google-generativeai in /usr/local/lib/python3.11/dist-packages (0.8.4)\n",
            "Requirement already satisfied: google-ai-generativelanguage==0.6.15 in /usr/local/lib/python3.11/dist-packages (from google-generativeai) (0.6.15)\n",
            "Requirement already satisfied: google-api-core in /usr/local/lib/python3.11/dist-packages (from google-generativeai) (2.19.2)\n",
            "Requirement already satisfied: google-api-python-client in /usr/local/lib/python3.11/dist-packages (from google-generativeai) (2.160.0)\n",
            "Requirement already satisfied: google-auth>=2.15.0 in /usr/local/lib/python3.11/dist-packages (from google-generativeai) (2.27.0)\n",
            "Requirement already satisfied: protobuf in /usr/local/lib/python3.11/dist-packages (from google-generativeai) (4.25.6)\n",
            "Requirement already satisfied: pydantic in /usr/local/lib/python3.11/dist-packages (from google-generativeai) (2.10.6)\n",
            "Requirement already satisfied: tqdm in /usr/local/lib/python3.11/dist-packages (from google-generativeai) (4.67.1)\n",
            "Requirement already satisfied: typing-extensions in /usr/local/lib/python3.11/dist-packages (from google-generativeai) (4.12.2)\n",
            "Requirement already satisfied: proto-plus<2.0.0dev,>=1.22.3 in /usr/local/lib/python3.11/dist-packages (from google-ai-generativelanguage==0.6.15->google-generativeai) (1.26.0)\n",
            "Requirement already satisfied: googleapis-common-protos<2.0.dev0,>=1.56.2 in /usr/local/lib/python3.11/dist-packages (from google-api-core->google-generativeai) (1.66.0)\n",
            "Requirement already satisfied: requests<3.0.0.dev0,>=2.18.0 in /usr/local/lib/python3.11/dist-packages (from google-api-core->google-generativeai) (2.32.3)\n",
            "Requirement already satisfied: cachetools<6.0,>=2.0.0 in /usr/local/lib/python3.11/dist-packages (from google-auth>=2.15.0->google-generativeai) (5.5.1)\n",
            "Requirement already satisfied: pyasn1-modules>=0.2.1 in /usr/local/lib/python3.11/dist-packages (from google-auth>=2.15.0->google-generativeai) (0.4.1)\n",
            "Requirement already satisfied: rsa<5,>=3.1.4 in /usr/local/lib/python3.11/dist-packages (from google-auth>=2.15.0->google-generativeai) (4.9)\n",
            "Requirement already satisfied: httplib2<1.dev0,>=0.19.0 in /usr/local/lib/python3.11/dist-packages (from google-api-python-client->google-generativeai) (0.22.0)\n",
            "Requirement already satisfied: google-auth-httplib2<1.0.0,>=0.2.0 in /usr/local/lib/python3.11/dist-packages (from google-api-python-client->google-generativeai) (0.2.0)\n",
            "Requirement already satisfied: uritemplate<5,>=3.0.1 in /usr/local/lib/python3.11/dist-packages (from google-api-python-client->google-generativeai) (4.1.1)\n",
            "Requirement already satisfied: annotated-types>=0.6.0 in /usr/local/lib/python3.11/dist-packages (from pydantic->google-generativeai) (0.7.0)\n",
            "Requirement already satisfied: pydantic-core==2.27.2 in /usr/local/lib/python3.11/dist-packages (from pydantic->google-generativeai) (2.27.2)\n",
            "Requirement already satisfied: grpcio<2.0dev,>=1.33.2 in /usr/local/lib/python3.11/dist-packages (from google-api-core[grpc]!=2.0.*,!=2.1.*,!=2.10.*,!=2.2.*,!=2.3.*,!=2.4.*,!=2.5.*,!=2.6.*,!=2.7.*,!=2.8.*,!=2.9.*,<3.0.0dev,>=1.34.1->google-ai-generativelanguage==0.6.15->google-generativeai) (1.70.0)\n",
            "Requirement already satisfied: grpcio-status<2.0.dev0,>=1.33.2 in /usr/local/lib/python3.11/dist-packages (from google-api-core[grpc]!=2.0.*,!=2.1.*,!=2.10.*,!=2.2.*,!=2.3.*,!=2.4.*,!=2.5.*,!=2.6.*,!=2.7.*,!=2.8.*,!=2.9.*,<3.0.0dev,>=1.34.1->google-ai-generativelanguage==0.6.15->google-generativeai) (1.62.3)\n",
            "Requirement already satisfied: pyparsing!=3.0.0,!=3.0.1,!=3.0.2,!=3.0.3,<4,>=2.4.2 in /usr/local/lib/python3.11/dist-packages (from httplib2<1.dev0,>=0.19.0->google-api-python-client->google-generativeai) (3.2.1)\n",
            "Requirement already satisfied: pyasn1<0.7.0,>=0.4.6 in /usr/local/lib/python3.11/dist-packages (from pyasn1-modules>=0.2.1->google-auth>=2.15.0->google-generativeai) (0.6.1)\n",
            "Requirement already satisfied: charset-normalizer<4,>=2 in /usr/local/lib/python3.11/dist-packages (from requests<3.0.0.dev0,>=2.18.0->google-api-core->google-generativeai) (3.4.1)\n",
            "Requirement already satisfied: idna<4,>=2.5 in /usr/local/lib/python3.11/dist-packages (from requests<3.0.0.dev0,>=2.18.0->google-api-core->google-generativeai) (3.10)\n",
            "Requirement already satisfied: urllib3<3,>=1.21.1 in /usr/local/lib/python3.11/dist-packages (from requests<3.0.0.dev0,>=2.18.0->google-api-core->google-generativeai) (2.3.0)\n",
            "Requirement already satisfied: certifi>=2017.4.17 in /usr/local/lib/python3.11/dist-packages (from requests<3.0.0.dev0,>=2.18.0->google-api-core->google-generativeai) (2025.1.31)\n"
          ]
        }
      ]
    },
    {
      "cell_type": "code",
      "execution_count": 43,
      "metadata": {
        "id": "6fc324893334",
        "colab": {
          "base_uri": "https://localhost:8080/",
          "height": 401
        },
        "outputId": "3131ac2c-f531-4093-f154-a038a38e6c72"
      },
      "outputs": [
        {
          "output_type": "error",
          "ename": "ImportError",
          "evalue": "cannot import name 'ContentPart' from 'google.genai.types' (/usr/local/lib/python3.11/dist-packages/google/genai/types.py)",
          "traceback": [
            "\u001b[0;31m---------------------------------------------------------------------------\u001b[0m",
            "\u001b[0;31mImportError\u001b[0m                               Traceback (most recent call last)",
            "\u001b[0;32m<ipython-input-43-ba38be66d999>\u001b[0m in \u001b[0;36m<cell line: 0>\u001b[0;34m()\u001b[0m\n\u001b[1;32m      1\u001b[0m \u001b[0;32mfrom\u001b[0m \u001b[0mIPython\u001b[0m\u001b[0;34m.\u001b[0m\u001b[0mdisplay\u001b[0m \u001b[0;32mimport\u001b[0m \u001b[0mMarkdown\u001b[0m\u001b[0;34m,\u001b[0m \u001b[0mdisplay\u001b[0m\u001b[0;34m\u001b[0m\u001b[0;34m\u001b[0m\u001b[0m\n\u001b[0;32m----> 2\u001b[0;31m \u001b[0;32mfrom\u001b[0m \u001b[0mgoogle\u001b[0m\u001b[0;34m.\u001b[0m\u001b[0mgenai\u001b[0m\u001b[0;34m.\u001b[0m\u001b[0mtypes\u001b[0m \u001b[0;32mimport\u001b[0m \u001b[0mGenerateContentConfig\u001b[0m\u001b[0;34m,\u001b[0m \u001b[0mRetrieval\u001b[0m\u001b[0;34m,\u001b[0m \u001b[0mTool\u001b[0m\u001b[0;34m,\u001b[0m \u001b[0mVertexRagStore\u001b[0m\u001b[0;34m,\u001b[0m \u001b[0mContent\u001b[0m\u001b[0;34m,\u001b[0m \u001b[0mContentPart\u001b[0m\u001b[0;34m\u001b[0m\u001b[0;34m\u001b[0m\u001b[0m\n\u001b[0m\u001b[1;32m      3\u001b[0m \u001b[0;32mfrom\u001b[0m \u001b[0mvertexai\u001b[0m \u001b[0;32mimport\u001b[0m \u001b[0mrag\u001b[0m\u001b[0;34m\u001b[0m\u001b[0;34m\u001b[0m\u001b[0m\n\u001b[1;32m      4\u001b[0m \u001b[0;32mfrom\u001b[0m \u001b[0mIPython\u001b[0m \u001b[0;32mimport\u001b[0m \u001b[0mget_ipython\u001b[0m\u001b[0;34m\u001b[0m\u001b[0;34m\u001b[0m\u001b[0m\n",
            "\u001b[0;31mImportError\u001b[0m: cannot import name 'ContentPart' from 'google.genai.types' (/usr/local/lib/python3.11/dist-packages/google/genai/types.py)",
            "",
            "\u001b[0;31m---------------------------------------------------------------------------\u001b[0;32m\nNOTE: If your import is failing due to a missing package, you can\nmanually install dependencies using either !pip or !apt.\n\nTo view examples of installing some common dependencies, click the\n\"Open Examples\" button below.\n\u001b[0;31m---------------------------------------------------------------------------\u001b[0m\n"
          ],
          "errorDetails": {
            "actions": [
              {
                "action": "open_url",
                "actionText": "Open Examples",
                "url": "/notebooks/snippets/importing_libraries.ipynb"
              }
            ]
          }
        }
      ],
      "source": [
        "from IPython.display import Markdown, display\n",
        "from google.genai.types import GenerateContentConfig, Retrieval, Tool, VertexRagStore, Content, ContentDict, PartDict\n",
        "from vertexai import rag\n",
        "from IPython import get_ipython"
      ]
    },
    {
      "cell_type": "markdown",
      "metadata": {
        "id": "e43229f3ad4f"
      },
      "source": [
        "### Create a RAG Corpus"
      ]
    },
    {
      "cell_type": "code",
      "execution_count": 4,
      "metadata": {
        "id": "cf93d5f0ce00"
      },
      "outputs": [],
      "source": [
        "# Currently supports Google first-party embedding models\n",
        "EMBEDDING_MODEL = \"publishers/google/models/text-embedding-004\"  # @param {type:\"string\", isTemplate: true}\n",
        "\n",
        "rag_corpus = rag.create_corpus(\n",
        "    display_name=\"my-rag-corpus\",\n",
        "    backend_config=rag.RagVectorDbConfig(\n",
        "        rag_embedding_model_config=rag.EmbeddingModelConfig(\n",
        "            publisher_model=EMBEDDING_MODEL\n",
        "        )\n",
        "    ),\n",
        ")"
      ]
    },
    {
      "cell_type": "markdown",
      "metadata": {
        "id": "197c585b61b2"
      },
      "source": [
        "### Check the corpus just created"
      ]
    },
    {
      "cell_type": "code",
      "execution_count": null,
      "metadata": {
        "id": "f229b13dc617"
      },
      "outputs": [],
      "source": [
        "rag.list_corpora()"
      ]
    },
    {
      "cell_type": "markdown",
      "metadata": {
        "id": "c52924cc1440"
      },
      "source": [
        "### Upload a local file to the corpus"
      ]
    },
    {
      "cell_type": "code",
      "execution_count": null,
      "metadata": {
        "id": "4976ffe8564f"
      },
      "outputs": [],
      "source": [
        "%%writefile test.md\n",
        "\n",
        "Retrieval-Augmented Generation (RAG) is a technique that enhances the capabilities of large language models (LLMs) by allowing them to access and incorporate external data sources when generating responses. Here's a breakdown:\n",
        "\n",
        "**What it is:**\n",
        "\n",
        "* **Combining Retrieval and Generation:**\n",
        "    * RAG combines the strengths of information retrieval systems (like search engines) with the generative power of LLMs.\n",
        "    * It enables LLMs to go beyond their pre-trained data and access up-to-date and specific information.\n",
        "* **How it works:**\n",
        "    * When a user asks a question, the RAG system first retrieves relevant information from external data sources (e.g., databases, documents, web pages).\n",
        "    * This retrieved information is then provided to the LLM as additional context.\n",
        "    * The LLM uses this augmented context to generate a more accurate and informative response.\n",
        "\n",
        "**Why it's helpful:**\n",
        "\n",
        "* **Access to Up-to-Date Information:**\n",
        "    * LLMs are trained on static datasets, so their knowledge can become outdated. RAG allows them to access real-time or frequently updated information.\n",
        "* **Improved Accuracy and Factual Grounding:**\n",
        "    * RAG reduces the risk of LLM \"hallucinations\" (generating false or misleading information) by grounding responses in verified external data.\n",
        "* **Enhanced Contextual Relevance:**\n",
        "    * By providing relevant context, RAG enables LLMs to generate more precise and tailored responses to specific queries.\n",
        "* **Increased Trust and Transparency:**\n",
        "    * RAG can provide source citations, allowing users to verify the information and increasing trust in the LLM's responses.\n",
        "* **Cost Efficiency:**\n",
        "    * Rather than constantly retraining large language models, RAG allows for the introduction of new data in a more cost effective way.\n",
        "\n",
        "In essence, RAG bridges the gap between the vast knowledge of LLMs and the need for accurate, current, and contextually relevant information.\n"
      ]
    },
    {
      "cell_type": "code",
      "execution_count": null,
      "metadata": {
        "id": "529390917c29"
      },
      "outputs": [],
      "source": [
        "rag_file = rag.upload_file(\n",
        "    corpus_name=rag_corpus.name,\n",
        "    path=\"test.md\",\n",
        "    display_name=\"test.md\",\n",
        "    description=\"my test file\",\n",
        ")"
      ]
    },
    {
      "cell_type": "markdown",
      "metadata": {
        "id": "5269a0c2786d"
      },
      "source": [
        "### Import files from Google Cloud Storage\n",
        "\n",
        "Remember to grant \"Viewer\" access to the \"Vertex RAG Data Service Agent\" (with the format of `service-{project_number}@gcp-sa-vertex-rag.iam.gserviceaccount.com`) for your Google Cloud Storage bucket.\n",
        "\n",
        "For this example, we'll use a public GCS bucket containing earning reports from Alphabet."
      ]
    },
    {
      "cell_type": "code",
      "execution_count": null,
      "metadata": {
        "id": "5910ae450f69"
      },
      "outputs": [],
      "source": [
        "INPUT_GCS_BUCKET = (\n",
        "    \"gs://cloud-samples-data/gen-app-builder/search/alphabet-investor-pdfs/\"\n",
        ")\n",
        "\n",
        "response = rag.import_files(\n",
        "    corpus_name=rag_corpus.name,\n",
        "    paths=[INPUT_GCS_BUCKET],\n",
        "    chunk_size=1024,  # Optional\n",
        "    chunk_overlap=100,  # Optional\n",
        "    max_embedding_requests_per_min=900,  # Optional\n",
        ")"
      ]
    },
    {
      "cell_type": "markdown",
      "metadata": {
        "id": "60a84095746d"
      },
      "source": [
        "### Import files from Google Drive\n",
        "\n",
        "Eligible paths can be formatted as:\n",
        "\n",
        "- `https://drive.google.com/drive/folders/{folder_id}`\n",
        "- `https://drive.google.com/file/d/{file_id}`.\n",
        "\n",
        "Remember to grant \"Viewer\" access to the \"Vertex RAG Data Service Agent\" (with the format of `service-{project_number}@gcp-sa-vertex-rag.iam.gserviceaccount.com`) for your Drive folder/files.\n"
      ]
    },
    {
      "cell_type": "code",
      "execution_count": 35,
      "metadata": {
        "id": "0a90c125874c"
      },
      "outputs": [],
      "source": [
        "response = rag.import_files(\n",
        "    corpus_name=rag_corpus.name,\n",
        "    paths=[\"https://drive.google.com/drive/folders/1DQULk-334pxwIHXWkc9Gz480oUVTHgd2\"],\n",
        "    # chunk_size=512,\n",
        "    # chunk_overlap=50,\n",
        ")"
      ]
    },
    {
      "cell_type": "markdown",
      "metadata": {
        "id": "f700b3e23121"
      },
      "source": [
        "### Optional: Perform direct context retrieval"
      ]
    },
    {
      "cell_type": "code",
      "execution_count": 36,
      "metadata": {
        "id": "4669c5cdbb5a",
        "colab": {
          "base_uri": "https://localhost:8080/"
        },
        "outputId": "8ad04e4c-c3e8-4a88-efc5-556742156f1d"
      },
      "outputs": [
        {
          "output_type": "stream",
          "name": "stdout",
          "text": [
            "contexts {\n",
            "  contexts {\n",
            "    source_uri: \"https://drive.google.com/file/d/1plvTYq5_ymIPtpF95vpbQCVU1DVjm3Nv/view?usp=drivesdk\"\n",
            "    source_display_name: \"TMX PPT - 2025.pdf\"\n",
            "    text: \"02 Originality of the Exchange:\\r\\n01 MEANING\\r\\n02 TYPES OF COMMODITY EXCHANGES\\r\\n04 NEED OF COMMODITY EXCHANGE\\r\\n05 FUNCTIONS OF TMX\\r\\n06 THE JOURNEY\\r\\n03 LEGAL FRAMEWORK\\r\\n07 SUCCESS STORIES OF TMXFUNCTIONS OF TMX\\r\\nPrice / Market Transparency (every participant has \\r\\naccess to information in real time)\\r\\nPrice Discovery (demand and supply developments \\r\\nare readily reflected in price levels)\\r\\nReduced Transaction Costs (Buyers and Sellers \\r\\nmeet at a Centralized Marketplace) \\r\\nRisk Management (Buyers and Sellers can hedge \\r\\nprice risk)\\r\\n01 MEANING\\r\\n02 TYPES OF COMMODITY EXCHANGES\\r\\n04 NEED OF COMMODITY EXCHANGE\\r\\n05 FUNCTIONS OF TMX\\r\\n06 THE JOURNEY\\r\\n03 LEGAL FRAMEWORK\\r\\n07 SUCCESS STORIES OF TMXFUNCTIONS OF TMX\\r\\n01 MEANING\\r\\n02 TYPES OF COMMODITY EXCHANGES\\r\\n04 NEED OF COMMODITY EXCHANGE\\r\\n05 FUNCTIONS OF TMX\\r\\n06 THE JOURNEY\\r\\n03 LEGAL FRAMEWORK\\r\\n07 SUCCESS STORIES OF TMXTHE JOURNEY\\r\\n01 MEANING\\r\\n02 TYPES OF COMMODITY EXCHANGES\\r\\n04 NEED OF COMMODITY EXCHANGE\\r\\n05 FUNCTIONS OF TMX\\r\\n06 THE JOURNEY\\r\\n03 LEGAL FRAMEWORK\\r\\n07 SUCCESS STORIES OF TMX\\r\\n25\\r\\nSucceeded to\\r\\ntrade\\r\\nReached more \\r\\nthan\\r\\n861,447\\r\\nMore than\\r\\nTons traded…\\r\\n2.956\\r\\n… of value worth\\r\\nOnline Trading System (OTS)\\r\\nFacilitating Commodity Trading through\\r\\nCommodities\\r\\nTrillion TZS\\r\\nSesame, Cocoa, Coffee, \\r\\nSoy Beans, Tea, Chick\\r\\nPeas, Pigeon Peas, \\r\\nGreen grams, Cashew, \\r\\nPrecious Stones\\r\\n(minerals)\\r\\nBeans, Cotton, Spices, \\r\\nLivestock, Ground nuts, \\r\\nSardinesTHE JOURNEY\\r\\n01 MEANING\\r\\n02 TYPES OF COMMODITY EXCHANGES\\r\\n04 NEED OF COMMODITY EXCHANGE\\r\\n05 FUNCTIONS OF TMX\\r\\n06 THE JOURNEY\\r\\n03 LEGAL FRAMEWORK\\r\\n07 SUCCESS STORIES OF TMX\\r\\nHow More Commodities are on-boarded\\r\\nDemand Driven\\r\\nStakeholders Engagement (awareness creation, exhibitions, \\r\\ntestimonials)\\r\\nInformation Dissemination\\r\\nTrade Policy SUCCESS STORIES OF TMX\\r\\n- Additional Earning to the farmers \\r\\n- Market information availability (through screens and mobile \\r\\nsmartphones)\\r\\n- Farmers are free to decide on the price they are willing to sell\\r\\n- Increased awareness on quality production \\r\\n- Assurance of Timely Payment (T+1)\\r\\nSeller / Farmer / Producer\\r\\n- Reduced costs (time and money)\\r\\n- Reduced risks (i.e.\"\n",
            "    score: 0.28903692926885183\n",
            "  }\n",
            "  contexts {\n",
            "    source_uri: \"https://drive.google.com/file/d/1xF8WNik9UcmoUcsaUWlGP8BaQhmbzLS-/view?usp=drivesdk\"\n",
            "    source_display_name: \"TMX PPT - 2025.pdf\"\n",
            "    text: \"02 Originality of the Exchange:\\r\\n01 MEANING\\r\\n02 TYPES OF COMMODITY EXCHANGES\\r\\n04 NEED OF COMMODITY EXCHANGE\\r\\n05 FUNCTIONS OF TMX\\r\\n06 THE JOURNEY\\r\\n03 LEGAL FRAMEWORK\\r\\n07 SUCCESS STORIES OF TMXFUNCTIONS OF TMX\\r\\nPrice / Market Transparency (every participant has \\r\\naccess to information in real time)\\r\\nPrice Discovery (demand and supply developments \\r\\nare readily reflected in price levels)\\r\\nReduced Transaction Costs (Buyers and Sellers \\r\\nmeet at a Centralized Marketplace) \\r\\nRisk Management (Buyers and Sellers can hedge \\r\\nprice risk)\\r\\n01 MEANING\\r\\n02 TYPES OF COMMODITY EXCHANGES\\r\\n04 NEED OF COMMODITY EXCHANGE\\r\\n05 FUNCTIONS OF TMX\\r\\n06 THE JOURNEY\\r\\n03 LEGAL FRAMEWORK\\r\\n07 SUCCESS STORIES OF TMXFUNCTIONS OF TMX\\r\\n01 MEANING\\r\\n02 TYPES OF COMMODITY EXCHANGES\\r\\n04 NEED OF COMMODITY EXCHANGE\\r\\n05 FUNCTIONS OF TMX\\r\\n06 THE JOURNEY\\r\\n03 LEGAL FRAMEWORK\\r\\n07 SUCCESS STORIES OF TMXTHE JOURNEY\\r\\n01 MEANING\\r\\n02 TYPES OF COMMODITY EXCHANGES\\r\\n04 NEED OF COMMODITY EXCHANGE\\r\\n05 FUNCTIONS OF TMX\\r\\n06 THE JOURNEY\\r\\n03 LEGAL FRAMEWORK\\r\\n07 SUCCESS STORIES OF TMX\\r\\n25\\r\\nSucceeded to\\r\\ntrade\\r\\nReached more \\r\\nthan\\r\\n861,447\\r\\nMore than\\r\\nTons traded…\\r\\n2.956\\r\\n… of value worth\\r\\nOnline Trading System (OTS)\\r\\nFacilitating Commodity Trading through\\r\\nCommodities\\r\\nTrillion TZS\\r\\nSesame, Cocoa, Coffee, \\r\\nSoy Beans, Tea, Chick\\r\\nPeas, Pigeon Peas, \\r\\nGreen grams, Cashew, \\r\\nPrecious Stones\\r\\n(minerals)\\r\\nBeans, Cotton, Spices, \\r\\nLivestock, Ground nuts, \\r\\nSardinesTHE JOURNEY\\r\\n01 MEANING\\r\\n02 TYPES OF COMMODITY EXCHANGES\\r\\n04 NEED OF COMMODITY EXCHANGE\\r\\n05 FUNCTIONS OF TMX\\r\\n06 THE JOURNEY\\r\\n03 LEGAL FRAMEWORK\\r\\n07 SUCCESS STORIES OF TMX\\r\\nHow More Commodities are on-boarded\\r\\nDemand Driven\\r\\nStakeholders Engagement (awareness creation, exhibitions, \\r\\ntestimonials)\\r\\nInformation Dissemination\\r\\nTrade Policy SUCCESS STORIES OF TMX\\r\\n- Additional Earning to the farmers \\r\\n- Market information availability (through screens and mobile \\r\\nsmartphones)\\r\\n- Farmers are free to decide on the price they are willing to sell\\r\\n- Increased awareness on quality production \\r\\n- Assurance of Timely Payment (T+1)\\r\\nSeller / Farmer / Producer\\r\\n- Reduced costs (time and money)\\r\\n- Reduced risks (i.e.\"\n",
            "    score: 0.28903692926885183\n",
            "  }\n",
            "  contexts {\n",
            "    source_uri: \"https://drive.google.com/file/d/10PwRFvhaDuob7WntozTb82c5RBL2HMU6/view?usp=drivesdk\"\n",
            "    source_display_name: \"TMX PPT - 2025.pdf\"\n",
            "    text: \"02 Originality of the Exchange:\\r\\n01 MEANING\\r\\n02 TYPES OF COMMODITY EXCHANGES\\r\\n04 NEED OF COMMODITY EXCHANGE\\r\\n05 FUNCTIONS OF TMX\\r\\n06 THE JOURNEY\\r\\n03 LEGAL FRAMEWORK\\r\\n07 SUCCESS STORIES OF TMXFUNCTIONS OF TMX\\r\\nPrice / Market Transparency (every participant has \\r\\naccess to information in real time)\\r\\nPrice Discovery (demand and supply developments \\r\\nare readily reflected in price levels)\\r\\nReduced Transaction Costs (Buyers and Sellers \\r\\nmeet at a Centralized Marketplace) \\r\\nRisk Management (Buyers and Sellers can hedge \\r\\nprice risk)\\r\\n01 MEANING\\r\\n02 TYPES OF COMMODITY EXCHANGES\\r\\n04 NEED OF COMMODITY EXCHANGE\\r\\n05 FUNCTIONS OF TMX\\r\\n06 THE JOURNEY\\r\\n03 LEGAL FRAMEWORK\\r\\n07 SUCCESS STORIES OF TMXFUNCTIONS OF TMX\\r\\n01 MEANING\\r\\n02 TYPES OF COMMODITY EXCHANGES\\r\\n04 NEED OF COMMODITY EXCHANGE\\r\\n05 FUNCTIONS OF TMX\\r\\n06 THE JOURNEY\\r\\n03 LEGAL FRAMEWORK\\r\\n07 SUCCESS STORIES OF TMXTHE JOURNEY\\r\\n01 MEANING\\r\\n02 TYPES OF COMMODITY EXCHANGES\\r\\n04 NEED OF COMMODITY EXCHANGE\\r\\n05 FUNCTIONS OF TMX\\r\\n06 THE JOURNEY\\r\\n03 LEGAL FRAMEWORK\\r\\n07 SUCCESS STORIES OF TMX\\r\\n25\\r\\nSucceeded to\\r\\ntrade\\r\\nReached more \\r\\nthan\\r\\n861,447\\r\\nMore than\\r\\nTons traded…\\r\\n2.956\\r\\n… of value worth\\r\\nOnline Trading System (OTS)\\r\\nFacilitating Commodity Trading through\\r\\nCommodities\\r\\nTrillion TZS\\r\\nSesame, Cocoa, Coffee, \\r\\nSoy Beans, Tea, Chick\\r\\nPeas, Pigeon Peas, \\r\\nGreen grams, Cashew, \\r\\nPrecious Stones\\r\\n(minerals)\\r\\nBeans, Cotton, Spices, \\r\\nLivestock, Ground nuts, \\r\\nSardinesTHE JOURNEY\\r\\n01 MEANING\\r\\n02 TYPES OF COMMODITY EXCHANGES\\r\\n04 NEED OF COMMODITY EXCHANGE\\r\\n05 FUNCTIONS OF TMX\\r\\n06 THE JOURNEY\\r\\n03 LEGAL FRAMEWORK\\r\\n07 SUCCESS STORIES OF TMX\\r\\nHow More Commodities are on-boarded\\r\\nDemand Driven\\r\\nStakeholders Engagement (awareness creation, exhibitions, \\r\\ntestimonials)\\r\\nInformation Dissemination\\r\\nTrade Policy SUCCESS STORIES OF TMX\\r\\n- Additional Earning to the farmers \\r\\n- Market information availability (through screens and mobile \\r\\nsmartphones)\\r\\n- Farmers are free to decide on the price they are willing to sell\\r\\n- Increased awareness on quality production \\r\\n- Assurance of Timely Payment (T+1)\\r\\nSeller / Farmer / Producer\\r\\n- Reduced costs (time and money)\\r\\n- Reduced risks (i.e.\"\n",
            "    score: 0.28903692926885183\n",
            "  }\n",
            "  contexts {\n",
            "    source_uri: \"https://drive.google.com/file/d/1J2FmNYFT8-MKldc4cutpIVhkazjCHFBp/view?usp=drivesdk\"\n",
            "    source_display_name: \"TMX_Trading_User_Requirement_Specification (3).pdf\"\n",
            "    text: \"TMX was incorporated on 25 August 2014 under the Companies Act, 2002. The\\r\\nCapital Markets and Securities Authority licensed TMX on 6 December 2016 in\\r\\naccordance with the Commodity Exchanges Act 2015 and Commodity Exchanges\\r\\nRegulations, 2016. TMX is a marketplace, where buyers and sellers come together to\\r\\ntrade, assured of quality, delivery and payment. TMX is a multi-commodity exchange\\r\\nthat provides low-cost, secure marketplace services to benefit all agricultural, metals\\r\\nmarket stakeholders, and invites industry Professionals to seek membership enabling\\r\\nthem to participate in trading.\\r\\n1.2 Problem Statement\\r\\nTMX, in achieving its objectives, has developed an in house built Online Trading System\\r\\nversion 1 (OTSv1) that automated the traditional auction systems. OTSv1 is capable of\\r\\nexecuting registration of traders, generate sales catalogues and buyers’ bid codes,\\r\\ntrade sessions scheduling, real time trade sessions, and invoice generation.\\r\\nHowever, eight (8) business processes are still done manually, which include\\r\\nconfirmation of buyer’s position from settlement bank, acquiring warehouse receipt\\r\\ninformation, approval of trade schedule, market data dissemination, trade surveillance,\\r\\nconfirmation of trades, reports management, clearing and settlement; which pose\\r\\nchallenges in aggregating efficiency and consuming more time in settlement\\r\\noperations. Other challenges in this is high risk of human error in trading and\\r\\nsettlement operations, delays in communicating market information to the market\\r\\nactors and the public.\\r\\n1.3 Purpose Description\\r\\nThe purpose of this document is to provide the User Requirements Specifications (URS)\\r\\nfor the enhancement of TMX Online Trading System.\\r\\nThis document is intended to: -\\r\\na) Provide requirements specifications for TMX processes\\r\\nb) State the TMX expectations on the system to be enhanced/developed. - and\\r\\nhow they will be integrated\\r\\nc) Provide all necessary information for the System Developers to determine\\r\\nan appropriate and specific system to meet TMX objectives.TMX URS REPORT\\r\\n2\\r\\nd) Provide AS-IS Processes.\\r\\n1.4 Objectives\\r\\nThe objective of upgrading the current system is to improve business processes,\\r\\nenhance efficiency and minimize risks associated with commodity trading while\\r\\nscoring Exchange goals which include creating market transparency, ensuring there is\\r\\nprice discovery, fair competition, timely payment and assurance of quality and quantity\\r\\nof commodities upon delivery.\\r\\n1.5 Benefit Statements\\r\\n1.5.1 The Central Government\\r\\nThe anticipated benefits will be:\\r\\na. More efficient product and services quality.\\r\\nb. Improved compliance in TMX control.\\r\\nc. Reduce consumption of counterfeit products\\r\\n1.5.2 Tanzania Mercantile Exchange\\r\\nThe expectations are as follows: -\\r\\ni. Reduced operation and administration overheads.\\r\\ni. Enhance Data Confidentiality, Integrity and Availability to ensure accuracy\\r\\nand credibility of information.\\r\\niii. Increased efficiency and effectiveness for TMX to deliver services to general\\r\\npublic.\\r\\niv. Improve Compliance to Regulatory requirements, International standards\\r\\nand internal policies and procedures.\\r\\n1.5.3 Traders and General Public\\r\\nThis automation cuts across and shall benefit all stakeholders in the Commodity\\r\\nExchange Ecosystem and in the commodities value chains. Automation shall provide\\r\\nthe following benefits;\\r\\na. Reduce physical visits to TMX offices.\\r\\nb. Improve user experience and convenience.TMX URS REPORT\\r\\n3\\r\\n1.6 Scope\\r\\nThe scope of the document is to come-up with the reviewed TMX processes and user\\r\\nrequirements specifications that caters all core business and supporting processes.\\r\\na. Review of the TMX OTS and ESB systems to establish:\\r\\ni. Processes that may have changed or introduced.\\r\\ni. Processes that are interdependent and key to each system.\\r\\niii. Opportunities that can explored to optimise usage of the systems.\\r\\niv. Integration with internal and external systems that TMX, WRRB, and\\r\\nTCDC respectively engages with.\\r\\nb. Analysis of TMX operations and services with aim of fully automating\\r\\nservices offered at the institutions by developing as-is and to-be BRD and\\r\\nSRS respectively, covering both functional and non-functional aspects of the\\r\\nsystem.\\r\\nc. Analysis of the ICT infrastructure at TMX with a view of establishing whether\\r\\nit sufficient and scalable to meet each institution’s future needs.TMX URS REPORT\\r\\n4\\r\\n2 TMX SYSTEM DESCRIPTION\\r\\nThis section gives the overview of the TMX system. First it describes the types of users\\r\\nthat shall interact with the system. Then it outlines the privilege of different roles in\\r\\nthe system and lastly, this section provides a comprehensive list of business rules to\\r\\nsupport various controls in TMX processes.\"\n",
            "    score: 0.30566940238041507\n",
            "  }\n",
            "  contexts {\n",
            "    source_uri: \"https://drive.google.com/file/d/14sXeZVHcpGRpYDZ3U0NQqhtpYjmei2BK/view?usp=drivesdk\"\n",
            "    source_display_name: \"TMX_Trading_User_Requirement_Specification (3).pdf\"\n",
            "    text: \"TMX was incorporated on 25 August 2014 under the Companies Act, 2002. The\\r\\nCapital Markets and Securities Authority licensed TMX on 6 December 2016 in\\r\\naccordance with the Commodity Exchanges Act 2015 and Commodity Exchanges\\r\\nRegulations, 2016. TMX is a marketplace, where buyers and sellers come together to\\r\\ntrade, assured of quality, delivery and payment. TMX is a multi-commodity exchange\\r\\nthat provides low-cost, secure marketplace services to benefit all agricultural, metals\\r\\nmarket stakeholders, and invites industry Professionals to seek membership enabling\\r\\nthem to participate in trading.\\r\\n1.2 Problem Statement\\r\\nTMX, in achieving its objectives, has developed an in house built Online Trading System\\r\\nversion 1 (OTSv1) that automated the traditional auction systems. OTSv1 is capable of\\r\\nexecuting registration of traders, generate sales catalogues and buyers’ bid codes,\\r\\ntrade sessions scheduling, real time trade sessions, and invoice generation.\\r\\nHowever, eight (8) business processes are still done manually, which include\\r\\nconfirmation of buyer’s position from settlement bank, acquiring warehouse receipt\\r\\ninformation, approval of trade schedule, market data dissemination, trade surveillance,\\r\\nconfirmation of trades, reports management, clearing and settlement; which pose\\r\\nchallenges in aggregating efficiency and consuming more time in settlement\\r\\noperations. Other challenges in this is high risk of human error in trading and\\r\\nsettlement operations, delays in communicating market information to the market\\r\\nactors and the public.\\r\\n1.3 Purpose Description\\r\\nThe purpose of this document is to provide the User Requirements Specifications (URS)\\r\\nfor the enhancement of TMX Online Trading System.\\r\\nThis document is intended to: -\\r\\na) Provide requirements specifications for TMX processes\\r\\nb) State the TMX expectations on the system to be enhanced/developed. - and\\r\\nhow they will be integrated\\r\\nc) Provide all necessary information for the System Developers to determine\\r\\nan appropriate and specific system to meet TMX objectives.TMX URS REPORT\\r\\n2\\r\\nd) Provide AS-IS Processes.\\r\\n1.4 Objectives\\r\\nThe objective of upgrading the current system is to improve business processes,\\r\\nenhance efficiency and minimize risks associated with commodity trading while\\r\\nscoring Exchange goals which include creating market transparency, ensuring there is\\r\\nprice discovery, fair competition, timely payment and assurance of quality and quantity\\r\\nof commodities upon delivery.\\r\\n1.5 Benefit Statements\\r\\n1.5.1 The Central Government\\r\\nThe anticipated benefits will be:\\r\\na. More efficient product and services quality.\\r\\nb. Improved compliance in TMX control.\\r\\nc. Reduce consumption of counterfeit products\\r\\n1.5.2 Tanzania Mercantile Exchange\\r\\nThe expectations are as follows: -\\r\\ni. Reduced operation and administration overheads.\\r\\ni. Enhance Data Confidentiality, Integrity and Availability to ensure accuracy\\r\\nand credibility of information.\\r\\niii. Increased efficiency and effectiveness for TMX to deliver services to general\\r\\npublic.\\r\\niv. Improve Compliance to Regulatory requirements, International standards\\r\\nand internal policies and procedures.\\r\\n1.5.3 Traders and General Public\\r\\nThis automation cuts across and shall benefit all stakeholders in the Commodity\\r\\nExchange Ecosystem and in the commodities value chains. Automation shall provide\\r\\nthe following benefits;\\r\\na. Reduce physical visits to TMX offices.\\r\\nb. Improve user experience and convenience.TMX URS REPORT\\r\\n3\\r\\n1.6 Scope\\r\\nThe scope of the document is to come-up with the reviewed TMX processes and user\\r\\nrequirements specifications that caters all core business and supporting processes.\\r\\na. Review of the TMX OTS and ESB systems to establish:\\r\\ni. Processes that may have changed or introduced.\\r\\ni. Processes that are interdependent and key to each system.\\r\\niii. Opportunities that can explored to optimise usage of the systems.\\r\\niv. Integration with internal and external systems that TMX, WRRB, and\\r\\nTCDC respectively engages with.\\r\\nb. Analysis of TMX operations and services with aim of fully automating\\r\\nservices offered at the institutions by developing as-is and to-be BRD and\\r\\nSRS respectively, covering both functional and non-functional aspects of the\\r\\nsystem.\\r\\nc. Analysis of the ICT infrastructure at TMX with a view of establishing whether\\r\\nit sufficient and scalable to meet each institution’s future needs.TMX URS REPORT\\r\\n4\\r\\n2 TMX SYSTEM DESCRIPTION\\r\\nThis section gives the overview of the TMX system. First it describes the types of users\\r\\nthat shall interact with the system. Then it outlines the privilege of different roles in\\r\\nthe system and lastly, this section provides a comprehensive list of business rules to\\r\\nsupport various controls in TMX processes.\"\n",
            "    score: 0.30566940238041507\n",
            "  }\n",
            "  contexts {\n",
            "    source_uri: \"https://drive.google.com/file/d/1d3Q-bBBVrD7x2icyCPq9MmDysWnvg1lH/view?usp=drivesdk\"\n",
            "    source_display_name: \"TMX_Trading_User_Requirement_Specification (3).pdf\"\n",
            "    text: \"TMX was incorporated on 25 August 2014 under the Companies Act, 2002. The\\r\\nCapital Markets and Securities Authority licensed TMX on 6 December 2016 in\\r\\naccordance with the Commodity Exchanges Act 2015 and Commodity Exchanges\\r\\nRegulations, 2016. TMX is a marketplace, where buyers and sellers come together to\\r\\ntrade, assured of quality, delivery and payment. TMX is a multi-commodity exchange\\r\\nthat provides low-cost, secure marketplace services to benefit all agricultural, metals\\r\\nmarket stakeholders, and invites industry Professionals to seek membership enabling\\r\\nthem to participate in trading.\\r\\n1.2 Problem Statement\\r\\nTMX, in achieving its objectives, has developed an in house built Online Trading System\\r\\nversion 1 (OTSv1) that automated the traditional auction systems. OTSv1 is capable of\\r\\nexecuting registration of traders, generate sales catalogues and buyers’ bid codes,\\r\\ntrade sessions scheduling, real time trade sessions, and invoice generation.\\r\\nHowever, eight (8) business processes are still done manually, which include\\r\\nconfirmation of buyer’s position from settlement bank, acquiring warehouse receipt\\r\\ninformation, approval of trade schedule, market data dissemination, trade surveillance,\\r\\nconfirmation of trades, reports management, clearing and settlement; which pose\\r\\nchallenges in aggregating efficiency and consuming more time in settlement\\r\\noperations. Other challenges in this is high risk of human error in trading and\\r\\nsettlement operations, delays in communicating market information to the market\\r\\nactors and the public.\\r\\n1.3 Purpose Description\\r\\nThe purpose of this document is to provide the User Requirements Specifications (URS)\\r\\nfor the enhancement of TMX Online Trading System.\\r\\nThis document is intended to: -\\r\\na) Provide requirements specifications for TMX processes\\r\\nb) State the TMX expectations on the system to be enhanced/developed. - and\\r\\nhow they will be integrated\\r\\nc) Provide all necessary information for the System Developers to determine\\r\\nan appropriate and specific system to meet TMX objectives.TMX URS REPORT\\r\\n2\\r\\nd) Provide AS-IS Processes.\\r\\n1.4 Objectives\\r\\nThe objective of upgrading the current system is to improve business processes,\\r\\nenhance efficiency and minimize risks associated with commodity trading while\\r\\nscoring Exchange goals which include creating market transparency, ensuring there is\\r\\nprice discovery, fair competition, timely payment and assurance of quality and quantity\\r\\nof commodities upon delivery.\\r\\n1.5 Benefit Statements\\r\\n1.5.1 The Central Government\\r\\nThe anticipated benefits will be:\\r\\na. More efficient product and services quality.\\r\\nb. Improved compliance in TMX control.\\r\\nc. Reduce consumption of counterfeit products\\r\\n1.5.2 Tanzania Mercantile Exchange\\r\\nThe expectations are as follows: -\\r\\ni. Reduced operation and administration overheads.\\r\\ni. Enhance Data Confidentiality, Integrity and Availability to ensure accuracy\\r\\nand credibility of information.\\r\\niii. Increased efficiency and effectiveness for TMX to deliver services to general\\r\\npublic.\\r\\niv. Improve Compliance to Regulatory requirements, International standards\\r\\nand internal policies and procedures.\\r\\n1.5.3 Traders and General Public\\r\\nThis automation cuts across and shall benefit all stakeholders in the Commodity\\r\\nExchange Ecosystem and in the commodities value chains. Automation shall provide\\r\\nthe following benefits;\\r\\na. Reduce physical visits to TMX offices.\\r\\nb. Improve user experience and convenience.TMX URS REPORT\\r\\n3\\r\\n1.6 Scope\\r\\nThe scope of the document is to come-up with the reviewed TMX processes and user\\r\\nrequirements specifications that caters all core business and supporting processes.\\r\\na. Review of the TMX OTS and ESB systems to establish:\\r\\ni. Processes that may have changed or introduced.\\r\\ni. Processes that are interdependent and key to each system.\\r\\niii. Opportunities that can explored to optimise usage of the systems.\\r\\niv. Integration with internal and external systems that TMX, WRRB, and\\r\\nTCDC respectively engages with.\\r\\nb. Analysis of TMX operations and services with aim of fully automating\\r\\nservices offered at the institutions by developing as-is and to-be BRD and\\r\\nSRS respectively, covering both functional and non-functional aspects of the\\r\\nsystem.\\r\\nc. Analysis of the ICT infrastructure at TMX with a view of establishing whether\\r\\nit sufficient and scalable to meet each institution’s future needs.TMX URS REPORT\\r\\n4\\r\\n2 TMX SYSTEM DESCRIPTION\\r\\nThis section gives the overview of the TMX system. First it describes the types of users\\r\\nthat shall interact with the system. Then it outlines the privilege of different roles in\\r\\nthe system and lastly, this section provides a comprehensive list of business rules to\\r\\nsupport various controls in TMX processes.\"\n",
            "    score: 0.30566940238041507\n",
            "  }\n",
            "  contexts {\n",
            "    source_uri: \"https://drive.google.com/file/d/1cgM6iMYcBCqNUY-8OTrT1TuWoLMSoB03/view?usp=drivesdk\"\n",
            "    source_display_name: \"TMX_Trading_System_Requirement_Specification (1) (1).pdf\"\n",
            "    text: \"i. Required capacity to business and support staff will be provided for smooth \\r\\noperation and support of the system.\\r\\ni. Where constraints arise, and approvals are needed, it is assumed that \\r\\nprompt decisions will be made for the work to proceed.\\r\\niv. Recommended reviews or development of Exchange policies, standards, or \\r\\nregulations will be performed timely to enable smooth implementation of \\r\\nthe proposed system.\\r\\nv. Availability of IT infrastructure to support implementation of the solution.\\r\\nvi. Engaged consultant and/or team of developers will provide services as \\r\\nrequired.\\r\\nvi. Processes and business rules will remain unchanged during the \\r\\nimplementation of the proposed system.\\r\\n2.4.2 Dependencies\\r\\nThe system has the following dependencies\\r\\ni. The developed system will be integrated with other key Government \\r\\nsystems such as (GePG), National Identification Authority (NIDA), \\r\\nWarehouse Receipt Regulatory Board (WRMIS), Financial Institutions etc. for \\r\\nexchange and sharing of information.\\r\\ni. The proposed system development will comply with e-Government \\r\\nstandards and guidelines.\\r\\n2.5 TMX Processes Overview\\r\\nThis section aims to give the general overview of the TMX processes by providing the \\r\\nTMX processes map and later providing a brief description of each main process in the \\r\\nTMX system.TMX SRS\\r\\n8\\r\\n2.5.1 Processes Map\\r\\nThe following Figure 1 gives a clear illustration of the main processes in the TMX \\r\\nsystem and further provides clustering of sub-processes in various main processes and \\r\\nalso supporting processes that help core processes to work properly.\\r\\nFigure 1: TMX Processes Map\\r\\n2.5.2 User Registration\\r\\nTraders will have self-registration options with approval done by TMX authorised \\r\\nofficer. TMX staff will have their account creation through the administrator. Once \\r\\nregistered, user will have access to dashboard and functionalities according to defined \\r\\nroles and permission.\\r\\n2.6 TMX System/solution concept\\r\\nThis section focuses on the system/solution concept. First it gives the overview of the \\r\\nTMX system concept. Then, depicts the TMX system concept and lastly, this section \\r\\ngives the detailed description of the system concept that involves integration of \\r\\nvarious existing systems through Application Program Interface (API).\\r\\n2.6.1 System Concept Description\\r\\nTrade Operations Unit\\r\\nRegistration of Traders\\r\\n(Buyers, Brokers and\\r\\nSellers)\\r\\nConfirming Buyer’s\\r\\nPosition\\r\\nPre-Trade Session Trade Session Post-Trade Session\\r\\nTrade Operations Unit and Corporate Services Unit\\r\\nClearing and Settlement\\r\\nProcess\\r\\nDelivery\\r\\nTMX CORE BUSINESS PROCESSES\\r\\nTMX SUPPORTING\\r\\nPROCESSES\\r\\nHR\\r\\nFinance\\r\\nProcurement\\r\\nLegal\\r\\nICT &\\r\\nStatistics\\r\\nUnit\\r\\n.TMX SRS\\r\\n9\\r\\nThe proposed TMX system shall provide centralised services across all core TMX \\r\\noperations processes. This will reduce turnaround time of providing services to the \\r\\npublic and increase efficiency of organisation. The system will be interfaced with other \\r\\nsystems from OGDs through government Enterprise service bus, this will provide the \\r\\nproper validation of information provided by users and reduce uploading of \\r\\ndocuments.\\r\\nThe system will provide services that cut across all TMX operations departments and \\r\\nsupporting units. In addition, external users will be able to use the system for \\r\\ntrading/bidding through online accessible interface. The system will have an \\r\\napplication and will support efficient protocols for authentication and authorization of \\r\\nusers. The system will provide real time status of all operations to users.TMX SRS\\r\\n10\\r\\n2.6.2 System/Solution Concept Diagram\\r\\nThe Context diagram below shows the provisioned system to be developed or\\r\\nacquired and its interaction with stakeholders and other systems in place.\\r\\nFigure 2: System Concept DiagramTMX SRS\\r\\n11\\r\\n2.6.3 System Concept Diagram Descriptions\\r\\nThe system concept diagram Figure: 3.1 elaborates how both TMX External & Internal \\r\\nUsers interact with the TMX Portals (External and Internal) through authentication and \\r\\nauthorization provider to access different TMX Services.\\r\\nExternal Users Profile/Account will be created so as to enable users to apply and access \\r\\nTMX services. During the login process, users will be authenticated and authorised and \\r\\nbe able to access services.\\r\\nTMX internal users will be able to perform administrative, operations and support \\r\\nactivities through the TMX internal portal system. The system will provide centralised \\r\\naccess control to all TMX operations. Additionally, the system will interface through \\r\\nESB with OGD (Other Government Departments) systems such as NIDA, WRRB, TCDC, \\r\\nCOPRA, MOA, BRELA, GePG/Banks, crop boards and Others. The TMX mobile App will \\r\\nbe used by traders to do online trading.\"\n",
            "    score: 0.30966113348464097\n",
            "  }\n",
            "  contexts {\n",
            "    source_uri: \"https://drive.google.com/file/d/1s8luVwgsiefnQoDVKSWclUhsSL4-KfLh/view?usp=drivesdk\"\n",
            "    source_display_name: \"TMX_Trading_System_Requirement_Specification (1) (1).pdf\"\n",
            "    text: \"i. Required capacity to business and support staff will be provided for smooth \\r\\noperation and support of the system.\\r\\ni. Where constraints arise, and approvals are needed, it is assumed that \\r\\nprompt decisions will be made for the work to proceed.\\r\\niv. Recommended reviews or development of Exchange policies, standards, or \\r\\nregulations will be performed timely to enable smooth implementation of \\r\\nthe proposed system.\\r\\nv. Availability of IT infrastructure to support implementation of the solution.\\r\\nvi. Engaged consultant and/or team of developers will provide services as \\r\\nrequired.\\r\\nvi. Processes and business rules will remain unchanged during the \\r\\nimplementation of the proposed system.\\r\\n2.4.2 Dependencies\\r\\nThe system has the following dependencies\\r\\ni. The developed system will be integrated with other key Government \\r\\nsystems such as (GePG), National Identification Authority (NIDA), \\r\\nWarehouse Receipt Regulatory Board (WRMIS), Financial Institutions etc. for \\r\\nexchange and sharing of information.\\r\\ni. The proposed system development will comply with e-Government \\r\\nstandards and guidelines.\\r\\n2.5 TMX Processes Overview\\r\\nThis section aims to give the general overview of the TMX processes by providing the \\r\\nTMX processes map and later providing a brief description of each main process in the \\r\\nTMX system.TMX SRS\\r\\n8\\r\\n2.5.1 Processes Map\\r\\nThe following Figure 1 gives a clear illustration of the main processes in the TMX \\r\\nsystem and further provides clustering of sub-processes in various main processes and \\r\\nalso supporting processes that help core processes to work properly.\\r\\nFigure 1: TMX Processes Map\\r\\n2.5.2 User Registration\\r\\nTraders will have self-registration options with approval done by TMX authorised \\r\\nofficer. TMX staff will have their account creation through the administrator. Once \\r\\nregistered, user will have access to dashboard and functionalities according to defined \\r\\nroles and permission.\\r\\n2.6 TMX System/solution concept\\r\\nThis section focuses on the system/solution concept. First it gives the overview of the \\r\\nTMX system concept. Then, depicts the TMX system concept and lastly, this section \\r\\ngives the detailed description of the system concept that involves integration of \\r\\nvarious existing systems through Application Program Interface (API).\\r\\n2.6.1 System Concept Description\\r\\nTrade Operations Unit\\r\\nRegistration of Traders\\r\\n(Buyers, Brokers and\\r\\nSellers)\\r\\nConfirming Buyer’s\\r\\nPosition\\r\\nPre-Trade Session Trade Session Post-Trade Session\\r\\nTrade Operations Unit and Corporate Services Unit\\r\\nClearing and Settlement\\r\\nProcess\\r\\nDelivery\\r\\nTMX CORE BUSINESS PROCESSES\\r\\nTMX SUPPORTING\\r\\nPROCESSES\\r\\nHR\\r\\nFinance\\r\\nProcurement\\r\\nLegal\\r\\nICT &\\r\\nStatistics\\r\\nUnit\\r\\n.TMX SRS\\r\\n9\\r\\nThe proposed TMX system shall provide centralised services across all core TMX \\r\\noperations processes. This will reduce turnaround time of providing services to the \\r\\npublic and increase efficiency of organisation. The system will be interfaced with other \\r\\nsystems from OGDs through government Enterprise service bus, this will provide the \\r\\nproper validation of information provided by users and reduce uploading of \\r\\ndocuments.\\r\\nThe system will provide services that cut across all TMX operations departments and \\r\\nsupporting units. In addition, external users will be able to use the system for \\r\\ntrading/bidding through online accessible interface. The system will have an \\r\\napplication and will support efficient protocols for authentication and authorization of \\r\\nusers. The system will provide real time status of all operations to users.TMX SRS\\r\\n10\\r\\n2.6.2 System/Solution Concept Diagram\\r\\nThe Context diagram below shows the provisioned system to be developed or\\r\\nacquired and its interaction with stakeholders and other systems in place.\\r\\nFigure 2: System Concept DiagramTMX SRS\\r\\n11\\r\\n2.6.3 System Concept Diagram Descriptions\\r\\nThe system concept diagram Figure: 3.1 elaborates how both TMX External & Internal \\r\\nUsers interact with the TMX Portals (External and Internal) through authentication and \\r\\nauthorization provider to access different TMX Services.\\r\\nExternal Users Profile/Account will be created so as to enable users to apply and access \\r\\nTMX services. During the login process, users will be authenticated and authorised and \\r\\nbe able to access services.\\r\\nTMX internal users will be able to perform administrative, operations and support \\r\\nactivities through the TMX internal portal system. The system will provide centralised \\r\\naccess control to all TMX operations. Additionally, the system will interface through \\r\\nESB with OGD (Other Government Departments) systems such as NIDA, WRRB, TCDC, \\r\\nCOPRA, MOA, BRELA, GePG/Banks, crop boards and Others. The TMX mobile App will \\r\\nbe used by traders to do online trading.\"\n",
            "    score: 0.30966113348464097\n",
            "  }\n",
            "  contexts {\n",
            "    source_uri: \"https://drive.google.com/file/d/1fEaHJUh9QvP8TEC2gh6FuAeApnHYo5S3/view?usp=drivesdk\"\n",
            "    source_display_name: \"en-1580903241-Tanzania Mercantile Exchange at Glance..pdf\"\n",
            "    text: \"The software \\r\\nwill have a capability to link transaction prices and trades volumes in each \\r\\ncommodity traded in real time, and in the past and if there is unusual \\r\\nchanges in trading pattern will alert the market surveillance team.\\r\\n•\\t Market surveillance team will investigate all unusual trading pattern and \\r\\npass on evidence in a report to the TMX Compliance team for further \\r\\naction if there was sufficient evidence that the exchange’s rules have \\r\\nbeen breached.\\r\\nWarehouse Surveillance\\r\\nPrimarily, the responsibility of warehouse surveillance falls under the purview of \\r\\nthe Tanzania Warehouse Licensing Board. However, in order to minimize risks \\r\\nto the Exchange settlement of commodity leg and in an effort to ensure that \\r\\nTMX build the requisite confidence of the market participants, the Exchange in \\r\\ncollaboration with Tanzania Warehouse Licensing Board, will undertake periodical \\r\\nsnap checks to minimize risks to the exchange and its members. Accredited \\r\\nWarehouse snap check will comprise the following elements:5\\r\\n•\\t Verification and Sampling and grading process at all Exchange \\r\\naccredited warehouses\\r\\n•\\t Spot tests of sampling, weighing process ,and the grading process\\r\\n•\\t Spot tests at loading and unloading of commodities\\r\\n•\\t Verification of laboratory tests on commodities\\r\\nSettlement Guarantee Fund (SGF) \\r\\nSettlement Guarantee Fund will be made up by deposit or contribution by \\r\\nbroker / dealer to the SGF. TMX will prescribe the norms from time to time, \\r\\nthe procedures, the terms and conditions governing SGF, which may, inter-alia, \\r\\nspecify the amount of contribution. SGF is a pool of assets used as a guarantee \\r\\nto the successful settlement of all trades executed on the exchange. In the event \\r\\nof a Broker / Dealer being unable to pay for his commitments, the SGF shall be \\r\\nused to meet the payment obligation of such intermediary. The SGF is intended \\r\\nto avoid the default of one Broker / Dealer producing a “snowballing” effect \\r\\nof defaults among other Broker / Dealer and their customers. In the unlikely \\r\\nevent of a default, the SGF will act as an essential element of a comprehensive \\r\\nsettlement-risk-containment system. Creation of an SGF provides the Exchange \\r\\nClearing, Settlement and Depository framework with the resources to meet its \\r\\nobligations, even when a participant fails to make good on a payment obligation. \\r\\nDifferentiation Factors\\r\\nThe differentiating factors for the Exchange are: transparency in the price \\r\\ndiscovery mechanism, consistency and ease in clearing and settlement procedures \\r\\nand robustness of risk management systems. The Exchange understands the \\r\\nbusiness needs of its participants and will endeavor to offer efficient and reliable \\r\\nservices to its members/clients and stakeholders.\\r\\nMarket Information Dissemination\\r\\nThe TMX Market information dissemination will involve using modern information \\r\\nand communication technologies (ICTs) to empower all market stakeholders, \\r\\nincluding smallholder farmers to access markets more efficiently and profitably. \\r\\nThe key market dissemination channels of the TMX will include the following: 6\\r\\nElectronic Tickers: TMX envisages disseminating its market \\r\\ninformation during on and off trading hours to strategically selected \\r\\nregional production sites across Tanzania. The TMX Electronic Displays \\r\\nwill transmit real time prices of all commodities traded on its platform. \\r\\nThe Mobile Phone SMS: SMS is text messages sent and received \\r\\nwith mobile phones. TMX will use this technology to disseminate market \\r\\ninformation. TMX will develop SMS market information via mobile phone \\r\\nservice providers. The SMS system will enable anyone from anywhere \\r\\nin the country where the mobile phone network exists to access market \\r\\nprices, commodity related news headlines, weather forecasts, and other \\r\\nrelevant market information. \\r\\nThe IVR System\\r\\nThe TMX Interactive Voice Response (IVR) system is a fully automated \\r\\ntelephone based system that will allow stakeholders to access price \\r\\ninformation 24 hours a day, 7 days a week. Once it goes live, the IVR \\r\\nsystem may be accessed using mobile / wireless/ fixed line telephone \\r\\nnetworks which make critical market price information within the reach of \\r\\nstakeholders located in all parts of the country. The IVR system features \\r\\na voice menu that disseminates real –time and historical (up to 7 days) \\r\\nprice information in English and Kiswahili languages. \\r\\nThe Website\\r\\nThe TMX will provide real time market data on all commodities traded. \\r\\nIt will also provide historical data, research, news, graphs, contract \\r\\nspecifications and other key information. \\r\\nMedia (TV, Radio, and Newspaper):\\r\\nTMX is disseminating market information on daily basis via radio, \\r\\ntelevision and newspaper – daily, bi-weekly and weekly newspapers will \\r\\npublish TMX market updates.\"\n",
            "    score: 0.31168636015697015\n",
            "  }\n",
            "  contexts {\n",
            "    source_uri: \"https://drive.google.com/file/d/1MJGxPIJ4jDCPho7Vh4JUBGrHlG7NZJaW/view?usp=drivesdk\"\n",
            "    source_display_name: \"en-1580903241-Tanzania Mercantile Exchange at Glance..pdf\"\n",
            "    text: \"The software \\r\\nwill have a capability to link transaction prices and trades volumes in each \\r\\ncommodity traded in real time, and in the past and if there is unusual \\r\\nchanges in trading pattern will alert the market surveillance team.\\r\\n•\\t Market surveillance team will investigate all unusual trading pattern and \\r\\npass on evidence in a report to the TMX Compliance team for further \\r\\naction if there was sufficient evidence that the exchange’s rules have \\r\\nbeen breached.\\r\\nWarehouse Surveillance\\r\\nPrimarily, the responsibility of warehouse surveillance falls under the purview of \\r\\nthe Tanzania Warehouse Licensing Board. However, in order to minimize risks \\r\\nto the Exchange settlement of commodity leg and in an effort to ensure that \\r\\nTMX build the requisite confidence of the market participants, the Exchange in \\r\\ncollaboration with Tanzania Warehouse Licensing Board, will undertake periodical \\r\\nsnap checks to minimize risks to the exchange and its members. Accredited \\r\\nWarehouse snap check will comprise the following elements:5\\r\\n•\\t Verification and Sampling and grading process at all Exchange \\r\\naccredited warehouses\\r\\n•\\t Spot tests of sampling, weighing process ,and the grading process\\r\\n•\\t Spot tests at loading and unloading of commodities\\r\\n•\\t Verification of laboratory tests on commodities\\r\\nSettlement Guarantee Fund (SGF) \\r\\nSettlement Guarantee Fund will be made up by deposit or contribution by \\r\\nbroker / dealer to the SGF. TMX will prescribe the norms from time to time, \\r\\nthe procedures, the terms and conditions governing SGF, which may, inter-alia, \\r\\nspecify the amount of contribution. SGF is a pool of assets used as a guarantee \\r\\nto the successful settlement of all trades executed on the exchange. In the event \\r\\nof a Broker / Dealer being unable to pay for his commitments, the SGF shall be \\r\\nused to meet the payment obligation of such intermediary. The SGF is intended \\r\\nto avoid the default of one Broker / Dealer producing a “snowballing” effect \\r\\nof defaults among other Broker / Dealer and their customers. In the unlikely \\r\\nevent of a default, the SGF will act as an essential element of a comprehensive \\r\\nsettlement-risk-containment system. Creation of an SGF provides the Exchange \\r\\nClearing, Settlement and Depository framework with the resources to meet its \\r\\nobligations, even when a participant fails to make good on a payment obligation. \\r\\nDifferentiation Factors\\r\\nThe differentiating factors for the Exchange are: transparency in the price \\r\\ndiscovery mechanism, consistency and ease in clearing and settlement procedures \\r\\nand robustness of risk management systems. The Exchange understands the \\r\\nbusiness needs of its participants and will endeavor to offer efficient and reliable \\r\\nservices to its members/clients and stakeholders.\\r\\nMarket Information Dissemination\\r\\nThe TMX Market information dissemination will involve using modern information \\r\\nand communication technologies (ICTs) to empower all market stakeholders, \\r\\nincluding smallholder farmers to access markets more efficiently and profitably. \\r\\nThe key market dissemination channels of the TMX will include the following: 6\\r\\nElectronic Tickers: TMX envisages disseminating its market \\r\\ninformation during on and off trading hours to strategically selected \\r\\nregional production sites across Tanzania. The TMX Electronic Displays \\r\\nwill transmit real time prices of all commodities traded on its platform. \\r\\nThe Mobile Phone SMS: SMS is text messages sent and received \\r\\nwith mobile phones. TMX will use this technology to disseminate market \\r\\ninformation. TMX will develop SMS market information via mobile phone \\r\\nservice providers. The SMS system will enable anyone from anywhere \\r\\nin the country where the mobile phone network exists to access market \\r\\nprices, commodity related news headlines, weather forecasts, and other \\r\\nrelevant market information. \\r\\nThe IVR System\\r\\nThe TMX Interactive Voice Response (IVR) system is a fully automated \\r\\ntelephone based system that will allow stakeholders to access price \\r\\ninformation 24 hours a day, 7 days a week. Once it goes live, the IVR \\r\\nsystem may be accessed using mobile / wireless/ fixed line telephone \\r\\nnetworks which make critical market price information within the reach of \\r\\nstakeholders located in all parts of the country. The IVR system features \\r\\na voice menu that disseminates real –time and historical (up to 7 days) \\r\\nprice information in English and Kiswahili languages. \\r\\nThe Website\\r\\nThe TMX will provide real time market data on all commodities traded. \\r\\nIt will also provide historical data, research, news, graphs, contract \\r\\nspecifications and other key information. \\r\\nMedia (TV, Radio, and Newspaper):\\r\\nTMX is disseminating market information on daily basis via radio, \\r\\ntelevision and newspaper – daily, bi-weekly and weekly newspapers will \\r\\npublish TMX market updates.\"\n",
            "    score: 0.31168636015697015\n",
            "  }\n",
            "}\n",
            "\n"
          ]
        }
      ],
      "source": [
        "# Direct context retrieval\n",
        "response = rag.retrieval_query(\n",
        "    rag_resources=[\n",
        "        rag.RagResource(\n",
        "            rag_corpus=rag_corpus.name,\n",
        "            # Optional: supply IDs from `rag.list_files()`.\n",
        "            # rag_file_ids=[\"rag-file-1\", \"rag-file-2\", ...],\n",
        "        )\n",
        "    ],\n",
        "    rag_retrieval_config=rag.RagRetrievalConfig(\n",
        "        top_k=10,  # Optional\n",
        "        filter=rag.Filter(\n",
        "            vector_distance_threshold=0.5,  # Optional\n",
        "        ),\n",
        "    ),\n",
        "    text=\"What is TMX?\",\n",
        ")\n",
        "print(response)\n",
        "\n",
        "# Optional: The retrieved context can be passed to any SDK or model generation API to generate final results.\n",
        "# context = \" \".join([context.text for context in response.contexts.contexts]).replace(\"\\n\", \"\")"
      ]
    },
    {
      "cell_type": "markdown",
      "metadata": {
        "id": "79ea89661842"
      },
      "source": [
        "### Create RAG Retrieval Tool"
      ]
    },
    {
      "cell_type": "code",
      "execution_count": 37,
      "metadata": {
        "id": "0ebceac3d816"
      },
      "outputs": [],
      "source": [
        "# Create a tool for the RAG Corpus\n",
        "rag_retrieval_tool = Tool(\n",
        "    retrieval=Retrieval(\n",
        "        vertex_rag_store=VertexRagStore(\n",
        "            rag_corpora=[rag_corpus.name],\n",
        "            similarity_top_k=10,\n",
        "            vector_distance_threshold=0.5,\n",
        "        )\n",
        "    )\n",
        ")"
      ]
    },
    {
      "cell_type": "markdown",
      "metadata": {
        "id": "d88fa7ede853"
      },
      "source": [
        "### Generate Content with Gemini using RAG Retrieval Tool"
      ]
    },
    {
      "cell_type": "code",
      "execution_count": 38,
      "metadata": {
        "id": "8dd928baecd4"
      },
      "outputs": [],
      "source": [
        "MODEL_ID = \"gemini-2.0-pro-exp-02-05\""
      ]
    },
    {
      "cell_type": "code",
      "source": [
        "system_prompt = Content(\n",
        "    parts=[\n",
        "        ContentPart(\n",
        "            text=\"You are a helpful and informative assistant specializing in agriculture.\"\n",
        "        ),\n",
        "        ContentPart(text=\"Always provide clear and concise information.\"),\n",
        "        ContentPart(text=\"You speak in swahili and only in swahili.\"),\n",
        "        ContentPart(\n",
        "            text=\"Assume you are talking to a layman always, making sure to prioritize quick, concise guidance over lenghty explanations that are not actually actiaonable unless explicitly asked.\"\n",
        "        ),\n",
        "    ]\n",
        ")"
      ],
      "metadata": {
        "id": "K0FBfYwl6H7u",
        "outputId": "a4e00676-2684-4edc-c998-b9fed385c981",
        "colab": {
          "base_uri": "https://localhost:8080/",
          "height": 211
        }
      },
      "execution_count": 42,
      "outputs": [
        {
          "output_type": "error",
          "ename": "NameError",
          "evalue": "name 'ContentPart' is not defined",
          "traceback": [
            "\u001b[0;31m---------------------------------------------------------------------------\u001b[0m",
            "\u001b[0;31mNameError\u001b[0m                                 Traceback (most recent call last)",
            "\u001b[0;32m<ipython-input-42-9eb9ab8d31e3>\u001b[0m in \u001b[0;36m<cell line: 0>\u001b[0;34m()\u001b[0m\n\u001b[1;32m      1\u001b[0m system_prompt = Content(\n\u001b[1;32m      2\u001b[0m     parts=[\n\u001b[0;32m----> 3\u001b[0;31m         ContentPart(\n\u001b[0m\u001b[1;32m      4\u001b[0m             \u001b[0mtext\u001b[0m\u001b[0;34m=\u001b[0m\u001b[0;34m\"You are a helpful and informative assistant specializing in agriculture.\"\u001b[0m\u001b[0;34m\u001b[0m\u001b[0;34m\u001b[0m\u001b[0m\n\u001b[1;32m      5\u001b[0m         ),\n",
            "\u001b[0;31mNameError\u001b[0m: name 'ContentPart' is not defined"
          ]
        }
      ]
    },
    {
      "cell_type": "code",
      "execution_count": 39,
      "metadata": {
        "id": "124b36be8d5b",
        "colab": {
          "base_uri": "https://localhost:8080/",
          "height": 765
        },
        "outputId": "5c2b16bc-8857-4287-9056-528b79f14cb0"
      },
      "outputs": [
        {
          "output_type": "display_data",
          "data": {
            "text/plain": [
              "<IPython.core.display.Markdown object>"
            ],
            "text/markdown": "Here's a step-by-step guide for farmers to sell their cashew harvest, based on the provided documents:\n\n**Understanding the System:**\n\n*   **Auction System:** Your cashews (RCN - Raw Cashew Nuts) will be sold through online auctions managed by the Tanzania Mercantile Exchange (TMX).\n*   **Cooperative Unions:** You will work through your relevant Cooperative Union. They represent you and approve the prices offered at auction.\n*   **Quality Grades:** Cashews are graded as either \"Standard Grade\" (Shelling Outturn ≥ 48 lbs/80 Kg bag) or \"Under Grade\" (47 ≥ Shelling Outturn ≥ 44 lbs/80 kg bag).\n*   **Lots:** Cashews are sold in \"Lots,\" which are quantities of cashews of a particular quality grade.\n*   **Pricing:** The selling price is in Tanzanian Shillings (TZS) and is \"ex-warehouse,\" meaning it doesn't include transportation from the warehouse.\n\n**Steps for Selling:**\n\n1.  **Harvest and Storage:** Harvest your cashews and store them in a designated warehouse.\n\n2.  **Grading** RCN stored in the warehouse shall be sold in two distinguishable quality grades which are Standard Grade (Shelling Outturn ≥ 48 lbs/80 Kg bag) and Under Grade (47 ≥ Shelling Outturn ≥ 44 lbs /80 kg bag);\n\n3.  **Auction Participation (through Cooperative Union):**\n    *   Your Cooperative Union will represent your cashews at the online auction.\n    *   Licensed buyers will bid on Lots of your cashews. Bidding for one Lot takes one minute. If a buyer sets a price, it will repeat for 40 seconds until another buyer sets another price.\n    *   The Cooperative Union will approve the highest bid on your behalf.\n4.  **Sales catalogue:** The licensed buyers will be provided with sales catalogues at least 12 hours before the auction.\n\n5.  **Payment to You (through Cooperative Union):**\n    *   The buyer must pay the Cooperative Union in full within five working days of the auction. Payment is made via banker's cheque/TISS to the Cooperative Union's bank account.\n    *   The Cooperative Union will then pay you, the farmer.\n\n6. **Buyer collects the cashews:** The storage period for RCN in the Warehouse after sales is 16 working days, these days will start counting after five (5) days of payment.\n\n**Important Considerations:**\n*   The minimum bidding quantity is 50 metric tons.\n*    The RCN from Mtwara, Lindi and Ruvuma regions must be shipped through Mtwara Port. RCN bought from other areas, can be shipped through Mtwara, Dar es Salaam and Tanga ports.\n*   There are penalties for buyers who fail to pay on time. This system is designed to protect you, the farmer.\n*   Various charges and levies are paid by the buyer, including contributions to the UNION and AMCOS Operations, Crop Cess, Storage Charges, Gunny Bags, Cashew Development, Cashew Industry Management, Cashew Research, and export levy.\n*   Buyers have a limited time (16 working days) to collect the cashews from the warehouse after payment, after which they incur storage charges.\n*    Permits to transport the cashews will be issued electronically by the CBT.\n"
          },
          "metadata": {}
        }
      ],
      "source": [
        "response = client.models.generate_content(\n",
        "    model=MODEL_ID,\n",
        "    contents=\"\",\n",
        "    config=GenerateContentConfig(tools=[rag_retrieval_tool]),\n",
        ")\n",
        "\n",
        "display(Markdown(response.text))"
      ]
    },
    {
      "cell_type": "markdown",
      "metadata": {
        "id": "0268fe43d41c"
      },
      "source": [
        "### Generate Content with Llama3 using RAG Retrieval Tool"
      ]
    },
    {
      "cell_type": "code",
      "execution_count": null,
      "metadata": {
        "id": "f6e67ee7968c"
      },
      "outputs": [],
      "source": [
        "from vertexai import generative_models\n",
        "\n",
        "# Load tool into Llama model\n",
        "rag_retrieval_tool = generative_models.Tool.from_retrieval(\n",
        "    retrieval=rag.Retrieval(\n",
        "        source=rag.VertexRagStore(\n",
        "            rag_corpora=[rag_corpus.name],\n",
        "            similarity_top_k=10,\n",
        "            vector_distance_threshold=0.5,\n",
        "        ),\n",
        "    )\n",
        ")\n",
        "\n",
        "llama_model = generative_models.GenerativeModel(\n",
        "    # your self-deployed endpoint for Llama3\n",
        "    \"projects/{project}/locations/{location}/endpoints/{endpoint_resource_id}\",\n",
        "    tools=[rag_retrieval_tool],\n",
        ")"
      ]
    },
    {
      "cell_type": "code",
      "execution_count": null,
      "metadata": {
        "id": "c6d710b6dece"
      },
      "outputs": [],
      "source": [
        "response = llama_model.generate_content(\"What is RAG?\")\n",
        "\n",
        "display(Markdown(response.text))"
      ]
    }
  ],
  "metadata": {
    "colab": {
      "name": "intro_rag_engine.ipynb",
      "provenance": []
    },
    "kernelspec": {
      "display_name": "Python 3",
      "name": "python3"
    }
  },
  "nbformat": 4,
  "nbformat_minor": 0
}