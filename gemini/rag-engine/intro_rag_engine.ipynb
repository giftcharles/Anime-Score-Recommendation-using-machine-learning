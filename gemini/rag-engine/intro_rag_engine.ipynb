{
  "cells": [
    {
      "cell_type": "code",
      "execution_count": null,
      "metadata": {
        "id": "ur8xi4C7S06n"
      },
      "outputs": [],
      "source": [
        "# Copyright 2024 Google LLC\n",
        "#\n",
        "# Licensed under the Apache License, Version 2.0 (the \"License\");\n",
        "# you may not use this file except in compliance with the License.\n",
        "# You may obtain a copy of the License at\n",
        "#\n",
        "#     https://www.apache.org/licenses/LICENSE-2.0\n",
        "#\n",
        "# Unless required by applicable law or agreed to in writing, software\n",
        "# distributed under the License is distributed on an \"AS IS\" BASIS,\n",
        "# WITHOUT WARRANTIES OR CONDITIONS OF ANY KIND, either express or implied.\n",
        "# See the License for the specific language governing permissions and\n",
        "# limitations under the License."
      ]
    },
    {
      "cell_type": "markdown",
      "metadata": {
        "id": "JAPoU8Sm5E6e"
      },
      "source": [
        "# Intro to Building a Scalable and Modular RAG System with RAG Engine in Vertex AI\n",
        "\n",
        "<table align=\"left\">\n",
        "  <td style=\"text-align: center\">\n",
        "    <a href=\"https://colab.research.google.com/github/GoogleCloudPlatform/generative-ai/blob/main/gemini/rag-engine/intro_rag_engine.ipynb\">\n",
        "      <img width=\"32px\" src=\"https://www.gstatic.com/pantheon/images/bigquery/welcome_page/colab-logo.svg\" alt=\"Google Colaboratory logo\"><br> Open in Colab\n",
        "    </a>\n",
        "  </td>\n",
        "  <td style=\"text-align: center\">\n",
        "    <a href=\"https://console.cloud.google.com/vertex-ai/colab/import/https:%2F%2Fraw.githubusercontent.com%2FGoogleCloudPlatform%2Fgenerative-ai%2Fmain%2Fgemini%2Frag-engine%2Fintro_rag_engine.ipynb\">\n",
        "      <img width=\"32px\" src=\"https://lh3.googleusercontent.com/JmcxdQi-qOpctIvWKgPtrzZdJJK-J3sWE1RsfjZNwshCFgE_9fULcNpuXYTilIR2hjwN\" alt=\"Google Cloud Colab Enterprise logo\"><br> Open in Colab Enterprise\n",
        "    </a>\n",
        "  </td>\n",
        "  <td style=\"text-align: center\">\n",
        "    <a href=\"https://console.cloud.google.com/vertex-ai/workbench/deploy-notebook?download_url=https://raw.githubusercontent.com/GoogleCloudPlatform/generative-ai/main/gemini/rag-engine/intro_rag_engine.ipynb\">\n",
        "      <img src=\"https://www.gstatic.com/images/branding/gcpiconscolors/vertexai/v1/32px.svg\" alt=\"Vertex AI logo\"><br> Open in Vertex AI Workbench\n",
        "    </a>\n",
        "  </td>\n",
        "  <td style=\"text-align: center\">\n",
        "    <a href=\"https://github.com/GoogleCloudPlatform/generative-ai/blob/main/gemini/rag-engine/intro_rag_engine.ipynb\">\n",
        "      <img width=\"32px\" src=\"https://upload.wikimedia.org/wikipedia/commons/9/91/Octicons-mark-github.svg\" alt=\"GitHub logo\"><br> View on GitHub\n",
        "    </a>\n",
        "  </td>\n",
        "</table>\n",
        "\n",
        "<div style=\"clear: both;\"></div>\n",
        "\n",
        "<b>Share to:</b>\n",
        "\n",
        "<a href=\"https://www.linkedin.com/sharing/share-offsite/?url=https%3A//github.com/GoogleCloudPlatform/generative-ai/blob/main/gemini/rag-engine/intro_rag_engine.ipynb\" target=\"_blank\">\n",
        "  <img width=\"20px\" src=\"https://upload.wikimedia.org/wikipedia/commons/8/81/LinkedIn_icon.svg\" alt=\"LinkedIn logo\">\n",
        "</a>\n",
        "\n",
        "<a href=\"https://bsky.app/intent/compose?text=https%3A//github.com/GoogleCloudPlatform/generative-ai/blob/main/gemini/rag-engine/intro_rag_engine.ipynb\" target=\"_blank\">\n",
        "  <img width=\"20px\" src=\"https://upload.wikimedia.org/wikipedia/commons/7/7a/Bluesky_Logo.svg\" alt=\"Bluesky logo\">\n",
        "</a>\n",
        "\n",
        "<a href=\"https://twitter.com/intent/tweet?url=https%3A//github.com/GoogleCloudPlatform/generative-ai/blob/main/gemini/rag-engine/intro_rag_engine.ipynb\" target=\"_blank\">\n",
        "  <img width=\"20px\" src=\"https://upload.wikimedia.org/wikipedia/commons/5/53/X_logo_2023_original.svg\" alt=\"X logo\">\n",
        "</a>\n",
        "\n",
        "<a href=\"https://reddit.com/submit?url=https%3A//github.com/GoogleCloudPlatform/generative-ai/blob/main/gemini/rag-engine/intro_rag_engine.ipynb\" target=\"_blank\">\n",
        "  <img width=\"20px\" src=\"https://redditinc.com/hubfs/Reddit%20Inc/Brand/Reddit_Logo.png\" alt=\"Reddit logo\">\n",
        "</a>\n",
        "\n",
        "<a href=\"https://www.facebook.com/sharer/sharer.php?u=https%3A//github.com/GoogleCloudPlatform/generative-ai/blob/main/gemini/rag-engine/intro_rag_engine.ipynb\" target=\"_blank\">\n",
        "  <img width=\"20px\" src=\"https://upload.wikimedia.org/wikipedia/commons/5/51/Facebook_f_logo_%282019%29.svg\" alt=\"Facebook logo\">\n",
        "</a>            "
      ]
    },
    {
      "cell_type": "markdown",
      "metadata": {
        "id": "84f0f73a0f76"
      },
      "source": [
        "| | |\n",
        "|-|-|\n",
        "| Author(s) | [Holt Skinner](https://github.com/holtskinner) |"
      ]
    },
    {
      "cell_type": "markdown",
      "metadata": {
        "id": "tvgnzT1CKxrO"
      },
      "source": [
        "## Overview\n",
        "\n",
        "Retrieval Augmented Generation (RAG) improves Large Language Models (LLMs) by allowing them to access and process external information sources during generation. This ensures the model's responses are grounded in factual data and avoids hallucinations.\n",
        "\n",
        "A common problem with LLMs is that they don't understand private knowledge, that\n",
        "is, your organization's data. With RAG Engine, you can enrich the\n",
        "LLM context with additional private information, because the model can reduce\n",
        "hallucinations and answer questions more accurately.\n",
        "\n",
        "By combining additional knowledge sources with the existing knowledge that LLMs\n",
        "have, a better context is provided. The improved context along with the query\n",
        "enhances the quality of the LLM's response.\n",
        "\n",
        "The following concepts are key to understanding Vertex AI RAG Engine. These concepts are listed in the order of the\n",
        "retrieval-augmented generation (RAG) process.\n",
        "\n",
        "1. **Data ingestion**: Intake data from different data sources. For example,\n",
        "  local files, Google Cloud Storage, and Google Drive.\n",
        "\n",
        "1. **Data transformation**: Conversion of the data in preparation for indexing. For example, data is split into chunks.\n",
        "\n",
        "1. **Embedding**: Numerical representations of words or pieces of text. These numbers capture the\n",
        "   semantic meaning and context of the text. Similar or related words or text\n",
        "   tend to have similar embeddings, which means they are closer together in the\n",
        "   high-dimensional vector space.\n",
        "\n",
        "1. **Data indexing**: RAG Engine creates an index called a corpus.\n",
        "   The index structures the knowledge base so it's optimized for searching. For\n",
        "   example, the index is like a detailed table of contents for a massive\n",
        "   reference book.\n",
        "\n",
        "1. **Retrieval**: When a user asks a question or provides a prompt, the retrieval\n",
        "  component in RAG Engine searches through its knowledge\n",
        "  base to find information that is relevant to the query.\n",
        "\n",
        "1. **Generation**: The retrieved information becomes the context added to the\n",
        "  original user query as a guide for the generative AI model to generate\n",
        "  factually grounded and relevant responses.\n",
        "\n",
        "For more information, refer to the public documentation for [Vertex AI RAG Engine](https://cloud.google.com/vertex-ai/generative-ai/docs/rag-overview)."
      ]
    },
    {
      "cell_type": "markdown",
      "metadata": {
        "id": "61RBz8LLbxCR"
      },
      "source": [
        "## Get started"
      ]
    },
    {
      "cell_type": "markdown",
      "metadata": {
        "id": "No17Cw5hgx12"
      },
      "source": [
        "### Install Vertex AI SDK and Google Gen AI SDK\n"
      ]
    },
    {
      "cell_type": "code",
      "execution_count": 1,
      "metadata": {
        "id": "tFy3H3aPgx12",
        "outputId": "75d05276-0789-4789-b71d-09c231c6ecca",
        "colab": {
          "base_uri": "https://localhost:8080/"
        }
      },
      "outputs": [
        {
          "output_type": "stream",
          "name": "stdout",
          "text": [
            "\u001b[2K   \u001b[90m━━━━━━━━━━━━━━━━━━━━━━━━━━━━━━━━━━━━━━━━\u001b[0m \u001b[32m7.1/7.1 MB\u001b[0m \u001b[31m28.7 MB/s\u001b[0m eta \u001b[36m0:00:00\u001b[0m\n",
            "\u001b[2K   \u001b[90m━━━━━━━━━━━━━━━━━━━━━━━━━━━━━━━━━━━━━━━━\u001b[0m \u001b[32m130.7/130.7 kB\u001b[0m \u001b[31m5.0 MB/s\u001b[0m eta \u001b[36m0:00:00\u001b[0m\n",
            "\u001b[?25h"
          ]
        }
      ],
      "source": [
        "%pip install --upgrade --quiet google-cloud-aiplatform google-genai"
      ]
    },
    {
      "cell_type": "markdown",
      "metadata": {
        "id": "R5Xep4W9lq-Z"
      },
      "source": [
        "### Restart runtime\n",
        "\n",
        "To use the newly installed packages in this Jupyter runtime, you must restart the runtime. You can do this by running the cell below, which restarts the current kernel.\n",
        "\n",
        "The restart might take a minute or longer. After it's restarted, continue to the next step."
      ]
    },
    {
      "cell_type": "code",
      "execution_count": 2,
      "metadata": {
        "id": "XRvKdaPDTznN",
        "outputId": "46b231fb-99df-425b-ffd0-d70226a552ed",
        "colab": {
          "base_uri": "https://localhost:8080/"
        }
      },
      "outputs": [
        {
          "output_type": "execute_result",
          "data": {
            "text/plain": [
              "{'status': 'ok', 'restart': True}"
            ]
          },
          "metadata": {},
          "execution_count": 2
        }
      ],
      "source": [
        "import IPython\n",
        "\n",
        "app = IPython.Application.instance()\n",
        "app.kernel.do_shutdown(True)"
      ]
    },
    {
      "cell_type": "markdown",
      "metadata": {
        "id": "SbmM4z7FOBpM"
      },
      "source": [
        "<div class=\"alert alert-block alert-warning\">\n",
        "<b>⚠️ The kernel is going to restart. Wait until it's finished before continuing to the next step. ⚠️</b>\n",
        "</div>\n"
      ]
    },
    {
      "cell_type": "markdown",
      "metadata": {
        "id": "dmWOrTJ3gx13"
      },
      "source": [
        "### Authenticate your notebook environment (Colab only)\n",
        "\n",
        "If you're running this notebook on Google Colab, run the cell below to authenticate your environment."
      ]
    },
    {
      "cell_type": "code",
      "execution_count": 1,
      "metadata": {
        "id": "NyKGtVQjgx13"
      },
      "outputs": [],
      "source": [
        "import sys\n",
        "\n",
        "if \"google.colab\" in sys.modules:\n",
        "    from google.colab import auth\n",
        "\n",
        "    auth.authenticate_user()"
      ]
    },
    {
      "cell_type": "markdown",
      "metadata": {
        "id": "DF4l8DTdWgPY"
      },
      "source": [
        "### Set Google Cloud project information and initialize Vertex AI SDK\n",
        "\n",
        "To get started using Vertex AI, you must have an existing Google Cloud project and [enable the Vertex AI API](https://console.cloud.google.com/flows/enableapi?apiid=aiplatform.googleapis.com).\n",
        "\n",
        "Learn more about [setting up a project and a development environment](https://cloud.google.com/vertex-ai/docs/start/cloud-environment)."
      ]
    },
    {
      "cell_type": "code",
      "execution_count": 2,
      "metadata": {
        "id": "Nqwi-5ufWp_B"
      },
      "outputs": [],
      "source": [
        "# Use the environment variable if the user doesn't provide Project ID.\n",
        "import os\n",
        "\n",
        "from google import genai\n",
        "import vertexai\n",
        "\n",
        "PROJECT_ID = \"tmx-automation-564bd\"  # @param {type: \"string\", placeholder: \"[your-project-id]\", isTemplate: true}\n",
        "if not PROJECT_ID or PROJECT_ID == \"[your-project-id]\":\n",
        "    PROJECT_ID = str(os.environ.get(\"GOOGLE_CLOUD_PROJECT\"))\n",
        "\n",
        "LOCATION = os.environ.get(\"GOOGLE_CLOUD_REGION\", \"us-central1\")\n",
        "\n",
        "vertexai.init(project=PROJECT_ID, location=LOCATION)\n",
        "client = genai.Client(vertexai=True, project=PROJECT_ID, location=LOCATION)"
      ]
    },
    {
      "cell_type": "markdown",
      "metadata": {
        "id": "5303c05f7aa6"
      },
      "source": [
        "### Import libraries"
      ]
    },
    {
      "cell_type": "code",
      "execution_count": 3,
      "metadata": {
        "id": "6fc324893334"
      },
      "outputs": [],
      "source": [
        "from IPython.display import Markdown, display\n",
        "from google.genai.types import GenerateContentConfig, Retrieval, Tool, VertexRagStore\n",
        "from vertexai import rag"
      ]
    },
    {
      "cell_type": "markdown",
      "metadata": {
        "id": "e43229f3ad4f"
      },
      "source": [
        "### Create a RAG Corpus"
      ]
    },
    {
      "cell_type": "code",
      "execution_count": 4,
      "metadata": {
        "id": "cf93d5f0ce00"
      },
      "outputs": [],
      "source": [
        "# Currently supports Google first-party embedding models\n",
        "EMBEDDING_MODEL = \"publishers/google/models/text-embedding-004\"  # @param {type:\"string\", isTemplate: true}\n",
        "\n",
        "rag_corpus = rag.create_corpus(\n",
        "    display_name=\"my-rag-corpus\",\n",
        "    backend_config=rag.RagVectorDbConfig(\n",
        "        rag_embedding_model_config=rag.EmbeddingModelConfig(\n",
        "            publisher_model=EMBEDDING_MODEL\n",
        "        )\n",
        "    ),\n",
        ")"
      ]
    },
    {
      "cell_type": "markdown",
      "metadata": {
        "id": "197c585b61b2"
      },
      "source": [
        "### Check the corpus just created"
      ]
    },
    {
      "cell_type": "code",
      "execution_count": 5,
      "metadata": {
        "id": "f229b13dc617",
        "outputId": "8e64ca4d-1f24-4883-fce2-2d4b2e6a5a48",
        "colab": {
          "base_uri": "https://localhost:8080/"
        }
      },
      "outputs": [
        {
          "output_type": "execute_result",
          "data": {
            "text/plain": [
              "ListRagCorporaPager<rag_corpora {\n",
              "  name: \"projects/tmx-automation-564bd/locations/us-central1/ragCorpora/6917529027641081856\"\n",
              "  display_name: \"my-rag-corpus\"\n",
              "  create_time {\n",
              "    seconds: 1739688588\n",
              "    nanos: 169724000\n",
              "  }\n",
              "  update_time {\n",
              "    seconds: 1739688588\n",
              "    nanos: 169724000\n",
              "  }\n",
              "  corpus_status {\n",
              "    state: ACTIVE\n",
              "  }\n",
              "  vector_db_config {\n",
              "    rag_managed_db {\n",
              "    }\n",
              "    rag_embedding_model_config {\n",
              "      vertex_prediction_endpoint {\n",
              "        endpoint: \"projects/764224497506/locations/us-central1/publishers/google/models/text-embedding-005\"\n",
              "      }\n",
              "    }\n",
              "  }\n",
              "}\n",
              ">"
            ]
          },
          "metadata": {},
          "execution_count": 5
        }
      ],
      "source": [
        "rag.list_corpora()"
      ]
    },
    {
      "cell_type": "markdown",
      "metadata": {
        "id": "c52924cc1440"
      },
      "source": [
        "### Upload a local file to the corpus"
      ]
    },
    {
      "cell_type": "code",
      "execution_count": null,
      "metadata": {
        "id": "4976ffe8564f"
      },
      "outputs": [],
      "source": [
        "%%writefile test.md\n",
        "\n",
        "Retrieval-Augmented Generation (RAG) is a technique that enhances the capabilities of large language models (LLMs) by allowing them to access and incorporate external data sources when generating responses. Here's a breakdown:\n",
        "\n",
        "**What it is:**\n",
        "\n",
        "* **Combining Retrieval and Generation:**\n",
        "    * RAG combines the strengths of information retrieval systems (like search engines) with the generative power of LLMs.\n",
        "    * It enables LLMs to go beyond their pre-trained data and access up-to-date and specific information.\n",
        "* **How it works:**\n",
        "    * When a user asks a question, the RAG system first retrieves relevant information from external data sources (e.g., databases, documents, web pages).\n",
        "    * This retrieved information is then provided to the LLM as additional context.\n",
        "    * The LLM uses this augmented context to generate a more accurate and informative response.\n",
        "\n",
        "**Why it's helpful:**\n",
        "\n",
        "* **Access to Up-to-Date Information:**\n",
        "    * LLMs are trained on static datasets, so their knowledge can become outdated. RAG allows them to access real-time or frequently updated information.\n",
        "* **Improved Accuracy and Factual Grounding:**\n",
        "    * RAG reduces the risk of LLM \"hallucinations\" (generating false or misleading information) by grounding responses in verified external data.\n",
        "* **Enhanced Contextual Relevance:**\n",
        "    * By providing relevant context, RAG enables LLMs to generate more precise and tailored responses to specific queries.\n",
        "* **Increased Trust and Transparency:**\n",
        "    * RAG can provide source citations, allowing users to verify the information and increasing trust in the LLM's responses.\n",
        "* **Cost Efficiency:**\n",
        "    * Rather than constantly retraining large language models, RAG allows for the introduction of new data in a more cost effective way.\n",
        "\n",
        "In essence, RAG bridges the gap between the vast knowledge of LLMs and the need for accurate, current, and contextually relevant information.\n"
      ]
    },
    {
      "cell_type": "code",
      "execution_count": null,
      "metadata": {
        "id": "529390917c29"
      },
      "outputs": [],
      "source": [
        "rag_file = rag.upload_file(\n",
        "    corpus_name=rag_corpus.name,\n",
        "    path=\"test.md\",\n",
        "    display_name=\"test.md\",\n",
        "    description=\"my test file\",\n",
        ")"
      ]
    },
    {
      "cell_type": "markdown",
      "metadata": {
        "id": "5269a0c2786d"
      },
      "source": [
        "### Import files from Google Cloud Storage\n",
        "\n",
        "Remember to grant \"Viewer\" access to the \"Vertex RAG Data Service Agent\" (with the format of `service-{project_number}@gcp-sa-vertex-rag.iam.gserviceaccount.com`) for your Google Cloud Storage bucket.\n",
        "\n",
        "For this example, we'll use a public GCS bucket containing earning reports from Alphabet."
      ]
    },
    {
      "cell_type": "code",
      "execution_count": null,
      "metadata": {
        "id": "5910ae450f69"
      },
      "outputs": [],
      "source": [
        "INPUT_GCS_BUCKET = (\n",
        "    \"gs://cloud-samples-data/gen-app-builder/search/alphabet-investor-pdfs/\"\n",
        ")\n",
        "\n",
        "response = rag.import_files(\n",
        "    corpus_name=rag_corpus.name,\n",
        "    paths=[INPUT_GCS_BUCKET],\n",
        "    chunk_size=1024,  # Optional\n",
        "    chunk_overlap=100,  # Optional\n",
        "    max_embedding_requests_per_min=900,  # Optional\n",
        ")"
      ]
    },
    {
      "cell_type": "markdown",
      "metadata": {
        "id": "60a84095746d"
      },
      "source": [
        "### Import files from Google Drive\n",
        "\n",
        "Eligible paths can be formatted as:\n",
        "\n",
        "- `https://drive.google.com/drive/folders/{folder_id}`\n",
        "- `https://drive.google.com/file/d/{file_id}`.\n",
        "\n",
        "Remember to grant \"Viewer\" access to the \"Vertex RAG Data Service Agent\" (with the format of `service-{project_number}@gcp-sa-vertex-rag.iam.gserviceaccount.com`) for your Drive folder/files.\n"
      ]
    },
    {
      "cell_type": "code",
      "execution_count": 21,
      "metadata": {
        "id": "0a90c125874c"
      },
      "outputs": [],
      "source": [
        "response = rag.import_files(\n",
        "    corpus_name=rag_corpus.name,\n",
        "    paths=[\"https://drive.google.com/drive/folders/1DQULk-334pxwIHXWkc9Gz480oUVTHgd2\"],\n",
        "    # chunk_size=512,\n",
        "    # chunk_overlap=50,\n",
        ")"
      ]
    },
    {
      "cell_type": "markdown",
      "metadata": {
        "id": "f700b3e23121"
      },
      "source": [
        "### Optional: Perform direct context retrieval"
      ]
    },
    {
      "cell_type": "code",
      "execution_count": 22,
      "metadata": {
        "id": "4669c5cdbb5a",
        "outputId": "5766a0e4-dcdf-49f8-eaff-0da852d310da",
        "colab": {
          "base_uri": "https://localhost:8080/"
        }
      },
      "outputs": [
        {
          "output_type": "stream",
          "name": "stdout",
          "text": [
            "contexts {\n",
            "  contexts {\n",
            "    source_uri: \"https://drive.google.com/file/d/1plvTYq5_ymIPtpF95vpbQCVU1DVjm3Nv/view?usp=drivesdk\"\n",
            "    source_display_name: \"TMX PPT - 2025.pdf\"\n",
            "    text: \"02 Originality of the Exchange:\\r\\n01 MEANING\\r\\n02 TYPES OF COMMODITY EXCHANGES\\r\\n04 NEED OF COMMODITY EXCHANGE\\r\\n05 FUNCTIONS OF TMX\\r\\n06 THE JOURNEY\\r\\n03 LEGAL FRAMEWORK\\r\\n07 SUCCESS STORIES OF TMXFUNCTIONS OF TMX\\r\\nPrice / Market Transparency (every participant has \\r\\naccess to information in real time)\\r\\nPrice Discovery (demand and supply developments \\r\\nare readily reflected in price levels)\\r\\nReduced Transaction Costs (Buyers and Sellers \\r\\nmeet at a Centralized Marketplace) \\r\\nRisk Management (Buyers and Sellers can hedge \\r\\nprice risk)\\r\\n01 MEANING\\r\\n02 TYPES OF COMMODITY EXCHANGES\\r\\n04 NEED OF COMMODITY EXCHANGE\\r\\n05 FUNCTIONS OF TMX\\r\\n06 THE JOURNEY\\r\\n03 LEGAL FRAMEWORK\\r\\n07 SUCCESS STORIES OF TMXFUNCTIONS OF TMX\\r\\n01 MEANING\\r\\n02 TYPES OF COMMODITY EXCHANGES\\r\\n04 NEED OF COMMODITY EXCHANGE\\r\\n05 FUNCTIONS OF TMX\\r\\n06 THE JOURNEY\\r\\n03 LEGAL FRAMEWORK\\r\\n07 SUCCESS STORIES OF TMXTHE JOURNEY\\r\\n01 MEANING\\r\\n02 TYPES OF COMMODITY EXCHANGES\\r\\n04 NEED OF COMMODITY EXCHANGE\\r\\n05 FUNCTIONS OF TMX\\r\\n06 THE JOURNEY\\r\\n03 LEGAL FRAMEWORK\\r\\n07 SUCCESS STORIES OF TMX\\r\\n25\\r\\nSucceeded to\\r\\ntrade\\r\\nReached more \\r\\nthan\\r\\n861,447\\r\\nMore than\\r\\nTons traded…\\r\\n2.956\\r\\n… of value worth\\r\\nOnline Trading System (OTS)\\r\\nFacilitating Commodity Trading through\\r\\nCommodities\\r\\nTrillion TZS\\r\\nSesame, Cocoa, Coffee, \\r\\nSoy Beans, Tea, Chick\\r\\nPeas, Pigeon Peas, \\r\\nGreen grams, Cashew, \\r\\nPrecious Stones\\r\\n(minerals)\\r\\nBeans, Cotton, Spices, \\r\\nLivestock, Ground nuts, \\r\\nSardinesTHE JOURNEY\\r\\n01 MEANING\\r\\n02 TYPES OF COMMODITY EXCHANGES\\r\\n04 NEED OF COMMODITY EXCHANGE\\r\\n05 FUNCTIONS OF TMX\\r\\n06 THE JOURNEY\\r\\n03 LEGAL FRAMEWORK\\r\\n07 SUCCESS STORIES OF TMX\\r\\nHow More Commodities are on-boarded\\r\\nDemand Driven\\r\\nStakeholders Engagement (awareness creation, exhibitions, \\r\\ntestimonials)\\r\\nInformation Dissemination\\r\\nTrade Policy SUCCESS STORIES OF TMX\\r\\n- Additional Earning to the farmers \\r\\n- Market information availability (through screens and mobile \\r\\nsmartphones)\\r\\n- Farmers are free to decide on the price they are willing to sell\\r\\n- Increased awareness on quality production \\r\\n- Assurance of Timely Payment (T+1)\\r\\nSeller / Farmer / Producer\\r\\n- Reduced costs (time and money)\\r\\n- Reduced risks (i.e.\"\n",
            "    score: 0.28903692926885183\n",
            "  }\n",
            "  contexts {\n",
            "    source_uri: \"https://drive.google.com/file/d/1J2FmNYFT8-MKldc4cutpIVhkazjCHFBp/view?usp=drivesdk\"\n",
            "    source_display_name: \"TMX_Trading_User_Requirement_Specification (3).pdf\"\n",
            "    text: \"TMX was incorporated on 25 August 2014 under the Companies Act, 2002. The\\r\\nCapital Markets and Securities Authority licensed TMX on 6 December 2016 in\\r\\naccordance with the Commodity Exchanges Act 2015 and Commodity Exchanges\\r\\nRegulations, 2016. TMX is a marketplace, where buyers and sellers come together to\\r\\ntrade, assured of quality, delivery and payment. TMX is a multi-commodity exchange\\r\\nthat provides low-cost, secure marketplace services to benefit all agricultural, metals\\r\\nmarket stakeholders, and invites industry Professionals to seek membership enabling\\r\\nthem to participate in trading.\\r\\n1.2 Problem Statement\\r\\nTMX, in achieving its objectives, has developed an in house built Online Trading System\\r\\nversion 1 (OTSv1) that automated the traditional auction systems. OTSv1 is capable of\\r\\nexecuting registration of traders, generate sales catalogues and buyers’ bid codes,\\r\\ntrade sessions scheduling, real time trade sessions, and invoice generation.\\r\\nHowever, eight (8) business processes are still done manually, which include\\r\\nconfirmation of buyer’s position from settlement bank, acquiring warehouse receipt\\r\\ninformation, approval of trade schedule, market data dissemination, trade surveillance,\\r\\nconfirmation of trades, reports management, clearing and settlement; which pose\\r\\nchallenges in aggregating efficiency and consuming more time in settlement\\r\\noperations. Other challenges in this is high risk of human error in trading and\\r\\nsettlement operations, delays in communicating market information to the market\\r\\nactors and the public.\\r\\n1.3 Purpose Description\\r\\nThe purpose of this document is to provide the User Requirements Specifications (URS)\\r\\nfor the enhancement of TMX Online Trading System.\\r\\nThis document is intended to: -\\r\\na) Provide requirements specifications for TMX processes\\r\\nb) State the TMX expectations on the system to be enhanced/developed. - and\\r\\nhow they will be integrated\\r\\nc) Provide all necessary information for the System Developers to determine\\r\\nan appropriate and specific system to meet TMX objectives.TMX URS REPORT\\r\\n2\\r\\nd) Provide AS-IS Processes.\\r\\n1.4 Objectives\\r\\nThe objective of upgrading the current system is to improve business processes,\\r\\nenhance efficiency and minimize risks associated with commodity trading while\\r\\nscoring Exchange goals which include creating market transparency, ensuring there is\\r\\nprice discovery, fair competition, timely payment and assurance of quality and quantity\\r\\nof commodities upon delivery.\\r\\n1.5 Benefit Statements\\r\\n1.5.1 The Central Government\\r\\nThe anticipated benefits will be:\\r\\na. More efficient product and services quality.\\r\\nb. Improved compliance in TMX control.\\r\\nc. Reduce consumption of counterfeit products\\r\\n1.5.2 Tanzania Mercantile Exchange\\r\\nThe expectations are as follows: -\\r\\ni. Reduced operation and administration overheads.\\r\\ni. Enhance Data Confidentiality, Integrity and Availability to ensure accuracy\\r\\nand credibility of information.\\r\\niii. Increased efficiency and effectiveness for TMX to deliver services to general\\r\\npublic.\\r\\niv. Improve Compliance to Regulatory requirements, International standards\\r\\nand internal policies and procedures.\\r\\n1.5.3 Traders and General Public\\r\\nThis automation cuts across and shall benefit all stakeholders in the Commodity\\r\\nExchange Ecosystem and in the commodities value chains. Automation shall provide\\r\\nthe following benefits;\\r\\na. Reduce physical visits to TMX offices.\\r\\nb. Improve user experience and convenience.TMX URS REPORT\\r\\n3\\r\\n1.6 Scope\\r\\nThe scope of the document is to come-up with the reviewed TMX processes and user\\r\\nrequirements specifications that caters all core business and supporting processes.\\r\\na. Review of the TMX OTS and ESB systems to establish:\\r\\ni. Processes that may have changed or introduced.\\r\\ni. Processes that are interdependent and key to each system.\\r\\niii. Opportunities that can explored to optimise usage of the systems.\\r\\niv. Integration with internal and external systems that TMX, WRRB, and\\r\\nTCDC respectively engages with.\\r\\nb. Analysis of TMX operations and services with aim of fully automating\\r\\nservices offered at the institutions by developing as-is and to-be BRD and\\r\\nSRS respectively, covering both functional and non-functional aspects of the\\r\\nsystem.\\r\\nc. Analysis of the ICT infrastructure at TMX with a view of establishing whether\\r\\nit sufficient and scalable to meet each institution’s future needs.TMX URS REPORT\\r\\n4\\r\\n2 TMX SYSTEM DESCRIPTION\\r\\nThis section gives the overview of the TMX system. First it describes the types of users\\r\\nthat shall interact with the system. Then it outlines the privilege of different roles in\\r\\nthe system and lastly, this section provides a comprehensive list of business rules to\\r\\nsupport various controls in TMX processes.\"\n",
            "    score: 0.30566940238041507\n",
            "  }\n",
            "  contexts {\n",
            "    source_uri: \"https://drive.google.com/file/d/1cgM6iMYcBCqNUY-8OTrT1TuWoLMSoB03/view?usp=drivesdk\"\n",
            "    source_display_name: \"TMX_Trading_System_Requirement_Specification (1) (1).pdf\"\n",
            "    text: \"i. Required capacity to business and support staff will be provided for smooth \\r\\noperation and support of the system.\\r\\ni. Where constraints arise, and approvals are needed, it is assumed that \\r\\nprompt decisions will be made for the work to proceed.\\r\\niv. Recommended reviews or development of Exchange policies, standards, or \\r\\nregulations will be performed timely to enable smooth implementation of \\r\\nthe proposed system.\\r\\nv. Availability of IT infrastructure to support implementation of the solution.\\r\\nvi. Engaged consultant and/or team of developers will provide services as \\r\\nrequired.\\r\\nvi. Processes and business rules will remain unchanged during the \\r\\nimplementation of the proposed system.\\r\\n2.4.2 Dependencies\\r\\nThe system has the following dependencies\\r\\ni. The developed system will be integrated with other key Government \\r\\nsystems such as (GePG), National Identification Authority (NIDA), \\r\\nWarehouse Receipt Regulatory Board (WRMIS), Financial Institutions etc. for \\r\\nexchange and sharing of information.\\r\\ni. The proposed system development will comply with e-Government \\r\\nstandards and guidelines.\\r\\n2.5 TMX Processes Overview\\r\\nThis section aims to give the general overview of the TMX processes by providing the \\r\\nTMX processes map and later providing a brief description of each main process in the \\r\\nTMX system.TMX SRS\\r\\n8\\r\\n2.5.1 Processes Map\\r\\nThe following Figure 1 gives a clear illustration of the main processes in the TMX \\r\\nsystem and further provides clustering of sub-processes in various main processes and \\r\\nalso supporting processes that help core processes to work properly.\\r\\nFigure 1: TMX Processes Map\\r\\n2.5.2 User Registration\\r\\nTraders will have self-registration options with approval done by TMX authorised \\r\\nofficer. TMX staff will have their account creation through the administrator. Once \\r\\nregistered, user will have access to dashboard and functionalities according to defined \\r\\nroles and permission.\\r\\n2.6 TMX System/solution concept\\r\\nThis section focuses on the system/solution concept. First it gives the overview of the \\r\\nTMX system concept. Then, depicts the TMX system concept and lastly, this section \\r\\ngives the detailed description of the system concept that involves integration of \\r\\nvarious existing systems through Application Program Interface (API).\\r\\n2.6.1 System Concept Description\\r\\nTrade Operations Unit\\r\\nRegistration of Traders\\r\\n(Buyers, Brokers and\\r\\nSellers)\\r\\nConfirming Buyer’s\\r\\nPosition\\r\\nPre-Trade Session Trade Session Post-Trade Session\\r\\nTrade Operations Unit and Corporate Services Unit\\r\\nClearing and Settlement\\r\\nProcess\\r\\nDelivery\\r\\nTMX CORE BUSINESS PROCESSES\\r\\nTMX SUPPORTING\\r\\nPROCESSES\\r\\nHR\\r\\nFinance\\r\\nProcurement\\r\\nLegal\\r\\nICT &\\r\\nStatistics\\r\\nUnit\\r\\n.TMX SRS\\r\\n9\\r\\nThe proposed TMX system shall provide centralised services across all core TMX \\r\\noperations processes. This will reduce turnaround time of providing services to the \\r\\npublic and increase efficiency of organisation. The system will be interfaced with other \\r\\nsystems from OGDs through government Enterprise service bus, this will provide the \\r\\nproper validation of information provided by users and reduce uploading of \\r\\ndocuments.\\r\\nThe system will provide services that cut across all TMX operations departments and \\r\\nsupporting units. In addition, external users will be able to use the system for \\r\\ntrading/bidding through online accessible interface. The system will have an \\r\\napplication and will support efficient protocols for authentication and authorization of \\r\\nusers. The system will provide real time status of all operations to users.TMX SRS\\r\\n10\\r\\n2.6.2 System/Solution Concept Diagram\\r\\nThe Context diagram below shows the provisioned system to be developed or\\r\\nacquired and its interaction with stakeholders and other systems in place.\\r\\nFigure 2: System Concept DiagramTMX SRS\\r\\n11\\r\\n2.6.3 System Concept Diagram Descriptions\\r\\nThe system concept diagram Figure: 3.1 elaborates how both TMX External & Internal \\r\\nUsers interact with the TMX Portals (External and Internal) through authentication and \\r\\nauthorization provider to access different TMX Services.\\r\\nExternal Users Profile/Account will be created so as to enable users to apply and access \\r\\nTMX services. During the login process, users will be authenticated and authorised and \\r\\nbe able to access services.\\r\\nTMX internal users will be able to perform administrative, operations and support \\r\\nactivities through the TMX internal portal system. The system will provide centralised \\r\\naccess control to all TMX operations. Additionally, the system will interface through \\r\\nESB with OGD (Other Government Departments) systems such as NIDA, WRRB, TCDC, \\r\\nCOPRA, MOA, BRELA, GePG/Banks, crop boards and Others. The TMX mobile App will \\r\\nbe used by traders to do online trading.\"\n",
            "    score: 0.30966113348464097\n",
            "  }\n",
            "  contexts {\n",
            "    source_uri: \"https://drive.google.com/file/d/1fEaHJUh9QvP8TEC2gh6FuAeApnHYo5S3/view?usp=drivesdk\"\n",
            "    source_display_name: \"en-1580903241-Tanzania Mercantile Exchange at Glance..pdf\"\n",
            "    text: \"The software \\r\\nwill have a capability to link transaction prices and trades volumes in each \\r\\ncommodity traded in real time, and in the past and if there is unusual \\r\\nchanges in trading pattern will alert the market surveillance team.\\r\\n•\\t Market surveillance team will investigate all unusual trading pattern and \\r\\npass on evidence in a report to the TMX Compliance team for further \\r\\naction if there was sufficient evidence that the exchange’s rules have \\r\\nbeen breached.\\r\\nWarehouse Surveillance\\r\\nPrimarily, the responsibility of warehouse surveillance falls under the purview of \\r\\nthe Tanzania Warehouse Licensing Board. However, in order to minimize risks \\r\\nto the Exchange settlement of commodity leg and in an effort to ensure that \\r\\nTMX build the requisite confidence of the market participants, the Exchange in \\r\\ncollaboration with Tanzania Warehouse Licensing Board, will undertake periodical \\r\\nsnap checks to minimize risks to the exchange and its members. Accredited \\r\\nWarehouse snap check will comprise the following elements:5\\r\\n•\\t Verification and Sampling and grading process at all Exchange \\r\\naccredited warehouses\\r\\n•\\t Spot tests of sampling, weighing process ,and the grading process\\r\\n•\\t Spot tests at loading and unloading of commodities\\r\\n•\\t Verification of laboratory tests on commodities\\r\\nSettlement Guarantee Fund (SGF) \\r\\nSettlement Guarantee Fund will be made up by deposit or contribution by \\r\\nbroker / dealer to the SGF. TMX will prescribe the norms from time to time, \\r\\nthe procedures, the terms and conditions governing SGF, which may, inter-alia, \\r\\nspecify the amount of contribution. SGF is a pool of assets used as a guarantee \\r\\nto the successful settlement of all trades executed on the exchange. In the event \\r\\nof a Broker / Dealer being unable to pay for his commitments, the SGF shall be \\r\\nused to meet the payment obligation of such intermediary. The SGF is intended \\r\\nto avoid the default of one Broker / Dealer producing a “snowballing” effect \\r\\nof defaults among other Broker / Dealer and their customers. In the unlikely \\r\\nevent of a default, the SGF will act as an essential element of a comprehensive \\r\\nsettlement-risk-containment system. Creation of an SGF provides the Exchange \\r\\nClearing, Settlement and Depository framework with the resources to meet its \\r\\nobligations, even when a participant fails to make good on a payment obligation. \\r\\nDifferentiation Factors\\r\\nThe differentiating factors for the Exchange are: transparency in the price \\r\\ndiscovery mechanism, consistency and ease in clearing and settlement procedures \\r\\nand robustness of risk management systems. The Exchange understands the \\r\\nbusiness needs of its participants and will endeavor to offer efficient and reliable \\r\\nservices to its members/clients and stakeholders.\\r\\nMarket Information Dissemination\\r\\nThe TMX Market information dissemination will involve using modern information \\r\\nand communication technologies (ICTs) to empower all market stakeholders, \\r\\nincluding smallholder farmers to access markets more efficiently and profitably. \\r\\nThe key market dissemination channels of the TMX will include the following: 6\\r\\nElectronic Tickers: TMX envisages disseminating its market \\r\\ninformation during on and off trading hours to strategically selected \\r\\nregional production sites across Tanzania. The TMX Electronic Displays \\r\\nwill transmit real time prices of all commodities traded on its platform. \\r\\nThe Mobile Phone SMS: SMS is text messages sent and received \\r\\nwith mobile phones. TMX will use this technology to disseminate market \\r\\ninformation. TMX will develop SMS market information via mobile phone \\r\\nservice providers. The SMS system will enable anyone from anywhere \\r\\nin the country where the mobile phone network exists to access market \\r\\nprices, commodity related news headlines, weather forecasts, and other \\r\\nrelevant market information. \\r\\nThe IVR System\\r\\nThe TMX Interactive Voice Response (IVR) system is a fully automated \\r\\ntelephone based system that will allow stakeholders to access price \\r\\ninformation 24 hours a day, 7 days a week. Once it goes live, the IVR \\r\\nsystem may be accessed using mobile / wireless/ fixed line telephone \\r\\nnetworks which make critical market price information within the reach of \\r\\nstakeholders located in all parts of the country. The IVR system features \\r\\na voice menu that disseminates real –time and historical (up to 7 days) \\r\\nprice information in English and Kiswahili languages. \\r\\nThe Website\\r\\nThe TMX will provide real time market data on all commodities traded. \\r\\nIt will also provide historical data, research, news, graphs, contract \\r\\nspecifications and other key information. \\r\\nMedia (TV, Radio, and Newspaper):\\r\\nTMX is disseminating market information on daily basis via radio, \\r\\ntelevision and newspaper – daily, bi-weekly and weekly newspapers will \\r\\npublish TMX market updates.\"\n",
            "    score: 0.31168636015697015\n",
            "  }\n",
            "  contexts {\n",
            "    source_uri: \"https://drive.google.com/file/d/1fEaHJUh9QvP8TEC2gh6FuAeApnHYo5S3/view?usp=drivesdk\"\n",
            "    source_display_name: \"en-1580903241-Tanzania Mercantile Exchange at Glance..pdf\"\n",
            "    text: \"Innovations at TMX Price Discovery\\r\\nTMX will provide near real time spot and futures prices of commodities traded \\r\\non the Exchange. TMX will revolutionize the entire system of price discovery in \\r\\ncommodity markets in Tanzania. Existing Tanzania markets, particularly in respect 3\\r\\nof agricultural products is fragmented and spread over so many market places. \\r\\nThe participants who trade on the Exchange can use these near real-time spot \\r\\nprices to take decisions on the futures segment once established. \\r\\nTMX Trading Systems\\r\\nTMX will establish reliable, time tested and transparent trading platforms very \\r\\nsimilar to those being used by successful electronic spot and futures exchanges. \\r\\nTMX will provide screen based trading and hence it will be possible for one to \\r\\nplace trades on the platform without visiting the Exchange.\\r\\nClearing and Settlement Systems\\r\\nFor efficient clearing & settlement of trades, TMX will have an automated clearing \\r\\nand settlement system with the Exchange’s Clearing Banks. TMX’s clearing and \\r\\nSettlement will assume a Central Counter Party (CCP) risk for all members’ trades. \\r\\nIt will establish the net obligations of each member, informs the members of their \\r\\ndaily net obligations and transfers cash funds and commodity ownership among \\r\\nmembers. TMX will identify settlement banks which will have to have dedicated \\r\\nTMX settlement team in their Head Office\\r\\nTMX Central Depository System \\r\\nECX maintains a Central Depository or Registry of warehouse receipts which \\r\\nguarantee product integrity. Manual Receipt issued under the Warehouse \\r\\nReceipts Act, 2010 will be immobilized into Depository Receipt. The TMX \\r\\nCentral Depository is the sole entity authorized to and responsible for issuing \\r\\nDepository Receipt, printing copies of receipts, transferring legal title, and \\r\\ncanceling receipts. The Depository Receipt issued by the TMX Central Depository \\r\\nrepresents legal title to the deposited commodity. The Depository Receipt is \\r\\ntransferable and negotiable on the TMX through the function of the TMX Central \\r\\nDepository. The Central Depository will maintain separate accounts for every \\r\\ndepositor. The Exchange Central Depository will provide the following services:\\r\\n\\tCreate Depository Receipts;\\r\\n\\tMaintain and edit required depository receipt data;\\r\\n\\tMaintain a register of Depositors\\r\\n\\tEffect settlement of contracts traded on the Exchange by transferring \\r\\nDepository Receipts between holders;4\\r\\n\\tIssue Delivery Note after transfer of Depository Receipt;\\r\\n\\tVoid or cancel Depository Receipts;\\r\\n\\tReconcile records daily\\r\\nTrade Surveillance\\r\\nTMX believes that fairness of commodity trading and adequate protection for its \\r\\nparticipants (buyers and sellers) members is essential for a quality market and \\r\\nprerequisite for price discovery. The main activities of TMX market surveillance \\r\\noperations are to preserve the integrity of price discovery process by monitoring \\r\\nthe market to detect and deter the following: \\r\\n•\\t Market manipulation practices- an act by a market participant or a group \\r\\nto deceive in prices or volume of a commodity.\\r\\n•\\t Insider trading – commodity trading made by TMX employee, Board \\r\\nmember or affiliate based on insider information\\r\\n•\\t Misstatement – Rumors or false information to mislead the public in \\r\\nmaking a commodity trading decision. \\r\\n•\\t TMX will use software models for generating real time price, volume, \\r\\nalerts for each trading member’s unusual trade activities. The software \\r\\nwill have a capability to link transaction prices and trades volumes in each \\r\\ncommodity traded in real time, and in the past and if there is unusual \\r\\nchanges in trading pattern will alert the market surveillance team.\\r\\n•\\t Market surveillance team will investigate all unusual trading pattern and \\r\\npass on evidence in a report to the TMX Compliance team for further \\r\\naction if there was sufficient evidence that the exchange’s rules have \\r\\nbeen breached.\\r\\nWarehouse Surveillance\\r\\nPrimarily, the responsibility of warehouse surveillance falls under the purview of \\r\\nthe Tanzania Warehouse Licensing Board. However, in order to minimize risks \\r\\nto the Exchange settlement of commodity leg and in an effort to ensure that \\r\\nTMX build the requisite confidence of the market participants, the Exchange in \\r\\ncollaboration with Tanzania Warehouse Licensing Board, will undertake periodical \\r\\nsnap checks to minimize risks to the exchange and its members.\"\n",
            "    score: 0.31304576640530546\n",
            "  }\n",
            "  contexts {\n",
            "    source_uri: \"https://drive.google.com/file/d/1J2FmNYFT8-MKldc4cutpIVhkazjCHFBp/view?usp=drivesdk\"\n",
            "    source_display_name: \"TMX_Trading_User_Requirement_Specification (3).pdf\"\n",
            "    text: \"In\\r\\nthis session, buyers compete through putting their bid prices in real\\r\\ntime. The manner of trading may vary depending on the commodity\\r\\nbeing traded.\\r\\nPost trade session Refers to processes following a closure of a trade session, which\\r\\nincludes trade confirmation, generation of invoice and sending\\r\\ninvoice to the successful buyer.\\r\\nClearing & Settlement Refers to determining of all obligations once a trade session is\\r\\nconfirmed and fulfilling these obligations through settlement.\\r\\nDelivery Refers to the process where a release warrant is issued to the\\r\\nsuccessful buyer which allows him to carry out the delivery process\\r\\nat the respective licensed warehouse\\r\\nNon-functional\\r\\nRequirement\\r\\nA requirement that describes qualitative attributes of the proposed\\r\\nsystem.\\r\\nFunctional\\r\\nRequirement\\r\\nA requirement that describes in detail tangible needs and/or\\r\\nrequested behaviors of the proposed system. Specifically, defined\\r\\nbusiness requirements and how users interact with the proposed\\r\\nsystem.\\r\\nTrader A person or entity who buys and sells goods, currency, or shares.\\r\\nUser A person who utilizes the systemTMX URS REPORT\\r\\niv\\r\\nLIST OF ABBREVIATIONS AND ACRONYMS\\r\\nAPI Application Program Interface\\r\\nDG Director General\\r\\nGePG Government electronic Payment Gateway\\r\\nHTTPS Hypertext Transfer Protocol Secure\\r\\nI&A Identification and Authentication\\r\\nICT Information and Communications Technology\\r\\nIS Integrated System\\r\\nTMX Tanzania Mercantile Exchange\\r\\nWRRB Warehouse Receipt Regulatory board\\r\\nOTSv1 Online Trading System version 1\\r\\nOTSv2 Online Trading System version 2\\r\\nWRS Warehouse Receipt System\\r\\nLGA Local Government Authority\\r\\nNIDA National Identification Authority\\r\\nNIN National Identification Number\\r\\nOTP One Time Password\\r\\nOGDs Other Government Departments\\r\\nPKI Public Key Infrastructure\\r\\nRDBMS Relational Database Management System\\r\\nSSL Secured Socket Layer\\r\\nSOA Service Oriented Architecture\\r\\nSMS Short Message Service\\r\\nSOAP Simple Object Access Protocol\\r\\nSRS System Requirements Specifications\\r\\nTRA Tanzania Revenue Authority\\r\\nTIN Taxpayer Identification Number\\r\\nTMA TradeMark AfricaTMX URS REPORT\\r\\nv\\r\\nUSM User Management\\r\\nVRN VAT Registration NumberTMX URS REPORT\\r\\nvi\\r\\nTABLE OF CONTENTS\\r\\nTable of Contents\\r\\nDOCUMENT CONTROL..............................................................................................................i\\r\\nDEFINITION OF TERMS ........................................................................................................... ii\\r\\nLIST OF ABBREVIATIONS AND ACRONYMS........................................................................ iv\\r\\n1 INTRODUCTION ................................................................................................................1\\r\\n1.1 Background .....................................................................................................................................1\\r\\n1.2 Problem Statement.......................................................................................................................1\\r\\n1.3 Purpose Description.....................................................................................................................1\\r\\n1.4 Objectives.........................................................................................................................................2\\r\\n1.5 Benefit Statements .......................................................................................................................2\\r\\n1.5.1 The Central Government............................................................................................................2\\r\\n1.5.2 Tanzania Mercantile Exchange.................................................................................................2\\r\\n1.5.3 Traders and General Public........................................................................................................2\\r\\n1.6 Scope .................................................................................................................................................3\\r\\n2 TMX SYSTEM DESCRIPTION.............................................................................................4\\r\\n2.1 TMX End Users ...............................................................................................................................4\\r\\n2.2 TMX Actors and Privileges .........................................................................................................4\\r\\n2.3 Business Rules ................................................................................................................................5\\r\\n2.4 TMX Processes Overview............................................................................................................6\\r\\n2.4.1 Processes Map................................................................................................................................6\\r\\n2.4.2 User Registration...........................................................................................................................7\\r\\n3 SYSTEM CONSTRAINTS ....................................................................................................7\\r\\n3.1 Hardware Constraints ..................................................................................................................7\\r\\n3.2 Software Constraints....................................................................................................................8\\r\\n3.3 Environmental Constraints.........................................................................................................8\\r\\n4 ASSUMPTIONS AND DEPENDENCIES ........................................................................... 10\\r\\n5 AS-IS PROCESSES ............................................................................................................ 12\\r\\n5.1 Trade Operations Unit...............................................................................................................12\\r\\n5.1.1 Registration of Traders (Buyers, Brokers and Sellers)....................................................12\\r\\n5.1.2 Confirming Buyer’s Position....................................................................................................17\\r\\n5.1.3 Pre-Trade Session .......................................................................................................................19\\r\\n5.1.4 Trade Session................................................................................................................................24\\r\\n5.1.5 Post-Trade Session.....................................................................................................................27\\r\\n5.2 Trade Operations Unit and Corporate Services Unit.....................................................30\\r\\n5.2.1 Clearing and Settlement Process ..........................................................................................30\\r\\n5.2.2 Delivery ...........................................................................................................................................33\\r\\n5.3 ICT & Statistics Unit....................................................................................................................35\\r\\n5.3.1 System Set up...............................................................................................................................35\\r\\n6 TMX USER REQUIREMENTS SPECIFICATIONS.............................................................. 37\\r\\n6.1 Functional Requirements .........................................................................................................37\\r\\n6.1.1 Registration ...................................................................................................................................37\\r\\n6.1.2 Corporate and Operation Services .......................................................................................38\\r\\n6.1.3 General Requirements...............................................................................................................48\\r\\n6.2 Non-Functional Requirements...............................................................................................49TMX URS REPORT\\r\\nvii\\r\\n6.2.1 Performance Requirements.....................................................................................................49\\r\\n6.2.2 System Quality Attributes ........................................................................................................51\\r\\n6.2.3 Testing Requirement..................................................................................................................54\\r\\n6.2.4 System Administration, Security and Management Requirements .........................54\\r\\n6.2.5 Interface requirements..............................................................................................................60\\r\\n7 APPENDICES .................................................................................................................... 63\\r\\n7.1 Annex 1: Reports Specifications.............................................................................................63TMX URS REPORT\\r\\n1\\r\\n1 INTRODUCTION\\r\\n1.1 Background\\r\\nTanzania Mercantile Exchange Public Limited Company PLC (TMX) is a company owned\\r\\nunder Public Private Partnership (PPP) between the Public Sector and the Private\\r\\nSector.\"\n",
            "    score: 0.319630010541879\n",
            "  }\n",
            "  contexts {\n",
            "    source_uri: \"https://drive.google.com/file/d/1plvTYq5_ymIPtpF95vpbQCVU1DVjm3Nv/view?usp=drivesdk\"\n",
            "    source_display_name: \"TMX PPT - 2025.pdf\"\n",
            "    text: \"quality, theft)\\r\\n- Able to obtain large quantity and quality crops at one point \\r\\nwith ease\\r\\n- Market information availability\\r\\n- Support on international trade at reduced costs \\r\\nBuyer (Industrial Processor, Trader / Exporter)\\r\\n- Availability of reliable data\\r\\n- Easy means of revenue collection to Local Government \\r\\nAuthorities (for example in Coffee, TZS 3.04 billion has been \\r\\ncollected as Local Government Revenue which is \\r\\napproximately 100% increase in 2022) \\r\\n- Ease of revenue collection to the Respective Institutions \\r\\n- Ease to supervise issuance of relevant permits for \\r\\ntransporting traded commodities\\r\\n- Crop Boards be able to concentrate in crop productivity\\r\\n- Support industrialization campaign\\r\\n- TMX has facilitated access to Foreign Currency (FOREX)\\r\\nGovernment\\r\\n01 MEANING\\r\\n02 TYPES OF COMMODITY EXCHANGES\\r\\n04 NEED OF COMMODITY EXCHANGE\\r\\n05 FUNCTIONS OF TMX\\r\\n06 THE JOURNEY\\r\\n03 LEGAL FRAMEWORK\\r\\n07 SUCCESS STORIES OF TMXSUCCESS STORIES OF TMX\\r\\nCocoa Price Trends per month from July 2023 to August 2024\\r\\n01 MEANING\\r\\n02 TYPES OF COMMODITY EXCHANGES\\r\\n04 NEED OF COMMODITY EXCHANGE\\r\\n05 FUNCTIONS OF TMX\\r\\n06 THE JOURNEY\\r\\n03 LEGAL FRAMEWORK\\r\\n07 SUCCESS STORIES OF TMXIncreased Awareness of the Global Price Trends \\r\\nand how it reflects directly on the Commodity \\r\\nExchange leading to improved decision making by \\r\\nboth farmers (sellers) and buyers\\r\\nSource: Trade EconomiesSUCCESS STORIES OF TMX\\r\\nSesame Seeds Price Trends\\r\\n01 MEANING\\r\\n02 TYPES OF COMMODITY EXCHANGES\\r\\n04 NEED OF COMMODITY EXCHANGE\\r\\n05 FUNCTIONS OF TMX\\r\\n06 THE JOURNEY\\r\\n03 LEGAL FRAMEWORK\\r\\n07 SUCCESS STORIES OF TMXSUCCESS STORIES OF TMX\\r\\nCoffee Price Trends\\r\\n01 MEANING\\r\\n02 TYPES OF COMMODITY EXCHANGES\\r\\n04 NEED OF COMMODITY EXCHANGE\\r\\n05 FUNCTIONS OF TMX\\r\\n06 THE JOURNEY\\r\\n03 LEGAL FRAMEWORK\\r\\n07 SUCCESS STORIES OF TMXTHANK YOU \\r\\nFOR \\r\\nLISTENING…\"\n",
            "    score: 0.32054267879160103\n",
            "  }\n",
            "  contexts {\n",
            "    source_uri: \"https://drive.google.com/file/d/1cgM6iMYcBCqNUY-8OTrT1TuWoLMSoB03/view?usp=drivesdk\"\n",
            "    source_display_name: \"TMX_Trading_System_Requirement_Specification (1) (1).pdf\"\n",
            "    text: \"The \\r\\nCapital Markets and Securities Authority licensed TMX on 6 December 2016 in \\r\\naccordance with the Commodity Exchanges Act 2015 and Commodity Exchanges \\r\\nRegulations, 2016. TMX is a marketplace, where buyers and sellers come together to \\r\\ntrade, assured of quality, delivery and payment. TMX is a multi-commodity exchange \\r\\nthat provides low-cost, secure marketplace services to benefit all agricultural, metals \\r\\nmarket stakeholders, and invites industry Professionals to seek membership enabling \\r\\nthem to participate in trading.\\r\\n1.2 Problem Statement\\r\\nTMX, in achieving its objectives, has developed an in house built Online Trading System \\r\\nversion 1 (OTSv1) that automated the traditional auction systems. OTSv1 is capable of \\r\\nexecuting registration of traders, generate sales catalogues and buyers’ bid codes, \\r\\ntrade sessions scheduling, real time trade sessions, and invoice generation.\\r\\nHowever, eight (8) business processes are still done manually, which include \\r\\nconfirmation of buyer’s position from settlement bank, acquiring warehouse receipt \\r\\ninformation, approval of trade schedule, market data dissemination, trade surveillance, \\r\\nconfirmation of trades, reports management, clearing and settlement; which pose \\r\\nchallenges in aggregating efficiency and consuming more time in settlement \\r\\noperations. Other challenges in this is high risk of human error in trading and \\r\\nsettlement operations, delays in communicating market information to the market \\r\\nactors and the public.\\r\\n1.3 Purpose Description\\r\\nThe purpose of this document is to provide the System Requirements Specifications \\r\\n(SRS) for the enhancement of TMX Online Trading System.\\r\\nThis document is intended to: -\\r\\na. Provide requirements specifications for migrating the current system to a \\r\\nnew framework, automation of manual processes, and integration with \\r\\nexisting systems;\\r\\nb. Clearly state the Exchange expectations on the system to be developed in \\r\\norder to guide developers in delivering the right requirement;TMX SRS\\r\\n2\\r\\nc. Provide all necessary information for the system developers to determine an \\r\\nappropriate and specific solution to meet Exchange objectives.\\r\\nd. Provide all necessary information to facilitate development of test cases for \\r\\nverifying the identified requirements.\\r\\n1.4 Objectives\\r\\nThe objective of upgrading the current system is to improve business processes, \\r\\nenhance efficiency and minimize risks associated with commodity trading while \\r\\nscoring Exchange goals which include creating market transparency, ensuring there is \\r\\nprice discovery, fair competition, timely payment and assurance of quality and quantity \\r\\nof commodities upon delivery.\\r\\n1.5 Benefit Statements\\r\\n1.5.1 The Central Government\\r\\nThe anticipated benefits will be:\\r\\na. More efficient product and services quality.\\r\\nb. Improved compliance in TMX control.\\r\\nc. Reduce consumption of counterfeit products\\r\\n1.5.2 Tanzania Mercantile Exchange\\r\\nThe expectations are as follows: -\\r\\ni. Reduced operation and administration overheads.\\r\\ni. Enhance Data Confidentiality, Integrity and Availability to ensure accuracy \\r\\nand credibility of information.\\r\\ni. Increased efficiency and effectiveness for TMX to deliver services to general \\r\\npublic.\\r\\niv. Improve Compliance to Regulatory requirements, International standards \\r\\nand internal policies and procedures.\\r\\n1.5.3 Traders and General Public\\r\\nThis automation cuts across and shall benefit all stakeholders in the Commodity \\r\\nExchange Ecosystem and in the commodities value chains. Automation shall provide \\r\\nthe following benefits;TMX SRS\\r\\n3\\r\\na. Reduce physical visits to TMX offices.\\r\\nb. Improve user experience and convenience.\\r\\n1.6 Scope\\r\\nThe scope of the project is to come-up with the reviewed TMX processes and user \\r\\nrequirements specifications that caters all core business and supporting processes. \\r\\nGap analysis and proposed TO-BE processes.\\r\\na. Review of the TMX OTS and ESB systems to establish:\\r\\ni. Processes that may have changed or introduced.\\r\\ni. Processes that are interdependent and key to each system.\\r\\ni. Opportunities that can explored to optimise usage of the systems.\\r\\niv. Integration with internal and external systems that TMX, WRRB, and \\r\\nTCDC respectively engages with.\\r\\nb. Analysis of TMX operations and services with aim of fully automating \\r\\nservices offered at the institutions by developing as-is and to-be BRD and \\r\\nSRS respectively, covering both functional and non-functional aspects of the \\r\\nsystem.\\r\\nc. Analysis of the ICT infrastructure at TMX with a view of establishing whether \\r\\nit sufficient and scalable to meet each institution’s future needs.TMX SRS\\r\\n4\\r\\n2 TMX SYSTEM DESCRIPTION\\r\\nThis section gives the overview of the TMX system. First it describes the types of users \\r\\nthat shall interact with the system. Then it outlines the privilege of different roles in \\r\\nthe system and lastly, this section provides a comprehensive list of business rules to \\r\\nsupport various controls in TMX processes.\"\n",
            "    score: 0.32269907161633749\n",
            "  }\n",
            "  contexts {\n",
            "    source_uri: \"https://drive.google.com/file/d/1fEaHJUh9QvP8TEC2gh6FuAeApnHYo5S3/view?usp=drivesdk\"\n",
            "    source_display_name: \"en-1580903241-Tanzania Mercantile Exchange at Glance..pdf\"\n",
            "    text: \"Once it goes live, the IVR \\r\\nsystem may be accessed using mobile / wireless/ fixed line telephone \\r\\nnetworks which make critical market price information within the reach of \\r\\nstakeholders located in all parts of the country. The IVR system features \\r\\na voice menu that disseminates real –time and historical (up to 7 days) \\r\\nprice information in English and Kiswahili languages. \\r\\nThe Website\\r\\nThe TMX will provide real time market data on all commodities traded. \\r\\nIt will also provide historical data, research, news, graphs, contract \\r\\nspecifications and other key information. \\r\\nMedia (TV, Radio, and Newspaper):\\r\\nTMX is disseminating market information on daily basis via radio, \\r\\ntelevision and newspaper – daily, bi-weekly and weekly newspapers will \\r\\npublish TMX market updates. \\r\\nMarket Intelligence\\r\\n•\\t Market Bulletin – TMX will provide a summary of price \\r\\ncomparisons with local and international prices; analysis and \\r\\nmarket developments via the Exchange weekly market bulletin. \\r\\nThe analysis will include graphs, commentary and research on 7\\r\\ninternational markets and commodities traded on its platform. \\r\\n•\\t Market Hotline – TMX will provide real time market information \\r\\nand updated international market prices for TMX members via a \\r\\ndedicated telephone line. \\r\\n•\\t Info Center - TMX info center will provide a variety of market \\r\\ninformation such as, daily domestic and international prices, \\r\\nmarket trends, production and weather forecast, market related \\r\\nnews and events, etc. \\r\\nCustomer Education and Awareness\\r\\nSignificant education and awareness needs to be created amongst a vast \\r\\nmajority of the population. TMX in collaboration with CMSA has been conducting \\r\\nawareness programs across the country to highlight the opportunities in the \\r\\ncommodity space, which have been very well received. The CMSA has introduced \\r\\na certification course for commodity exchange market intermediaries’ analogues \\r\\nto the Securities Market Certification Course. Certification in Commodity markets \\r\\nis expected to deepen the knowledge of operating staff working on commodity \\r\\ndesks of the Members/interested individuals and enable them to take appropriate \\r\\ndecisions at the right time while trading on the Exchange.\\r\\nBoard of Directors\\r\\nThe governance of TMX vests with the Board of Directors. The Board comprises \\r\\ndirectors from public and private sectors who are persons of eminence, each an \\r\\nauthority in his/her own right in the areas very relevant to the Exchange. They \\r\\nare well known, highly experienced and independent. The Exchange Acting Chief \\r\\nExecutive Officer who is a full time employee is an expert in the field with over 16 \\r\\nyears’ experience in banking, finance, securities and commodity markets. Besides \\r\\nthe Board, the CEO will be assisted by various committees like Membership \\r\\nServices Committee, Compliance Committee, Clearing and Settlement Committee \\r\\nand Disciplinary Committee, entrusted with handling independent portfolios.8\\r\\n(For more information, please contact) \\r\\nThe Chief Executive Officer\\r\\nCapital Markets and Securities Authority\\r\\n6th Floor, PPF Tower, Ohio/Garden Avenue\\r\\nP. O. Box 75713 Dar es Salaam\\r\\nTelephone; +255 22 2114959/61\\r\\nemail: info@cmsa-tz.org\\r\\nActing Chief Executive Officer \\r\\nTanzania Mercantile Exchange PLC \\r\\n4th Floor, New LAPF Tower, \\r\\nP. O. Box 31632, Dar es Salaam \\r\\nTelephone: +255 22 2129724 \\r\\nEmail: tmxplc@gmail.com\"\n",
            "    score: 0.32619932079992608\n",
            "  }\n",
            "  contexts {\n",
            "    source_uri: \"https://drive.google.com/file/d/1cgM6iMYcBCqNUY-8OTrT1TuWoLMSoB03/view?usp=drivesdk\"\n",
            "    source_display_name: \"TMX_Trading_System_Requirement_Specification (1) (1).pdf\"\n",
            "    text: \"External Users Profile/Account will be created so as to enable users to apply and access \\r\\nTMX services. During the login process, users will be authenticated and authorised and \\r\\nbe able to access services.\\r\\nTMX internal users will be able to perform administrative, operations and support \\r\\nactivities through the TMX internal portal system. The system will provide centralised \\r\\naccess control to all TMX operations. Additionally, the system will interface through \\r\\nESB with OGD (Other Government Departments) systems such as NIDA, WRRB, TCDC, \\r\\nCOPRA, MOA, BRELA, GePG/Banks, crop boards and Others. The TMX mobile App will \\r\\nbe used by traders to do online trading.\\r\\n3 SYSTEM CONSTRAINTS\\r\\nIn recognition of the critical role that effective system constraints play in shaping the \\r\\ndesign and implementation TMX system, TMX hereby will establish considerations to \\r\\naddress hardware, software, and environmental constraints. Acknowledging the \\r\\nimportance of optimizing technological resources to ensure efficient operations, the \\r\\nTMX endeavors to identify and mitigate hardware limitations, software dependencies, \\r\\nand environmental factors that may impact the performance, scalability, and security \\r\\nof its systems. By proactively addressing these constraints, the TMX aims to enhance \\r\\nthe reliability, accessibility, and effectiveness of the system\\r\\n3.1 Hardware Constraints:\\r\\na) Server Specifications:\\r\\n• Constraints: Limited budget for infrastructure investment, potentially \\r\\nrestricting the choice of servers by considering processing power, RAM, \\r\\nstorage capacity to run effectively several microservices within the \\r\\nsystem.TMX SRS\\r\\n12\\r\\n• Considerations: Opt for cost-effective server solutions that meet the \\r\\nperformance requirements. Consider cloud-based and virtualization \\r\\nsolutions for scalability and flexibility without significant upfront \\r\\ninvestment.\\r\\nb) Network Infrastructure:\\r\\n• Constraints: Limited bandwidth and network resources may impact \\r\\nsystem performance, especially during peak usage periods.\\r\\n• Considerations: Implement network optimization techniques such as \\r\\ndata compression, caching, and content delivery networks (CDNs) to \\r\\nminimize bandwidth usage and improve responsiveness.\\r\\n3.2 Software Constraints:\\r\\na) Programming Languages and Frameworks:\\r\\n• Constraints: Compliance with existing software standards and \\r\\nregulations may limit the choice of programming languages and \\r\\nframeworks.\\r\\n• Considerations: Choose widely adopted languages and frameworks \\r\\nwith strong community support and proven reliability. Ensure \\r\\ncompatibility with existing systems and regulatory requirements.\\r\\nb) Database Management System (DBMS):\\r\\n• Constraints: Compatibility with existing database systems and data \\r\\nsecurity regulations.\\r\\n• Considerations: Select a DBMS that offers robust security features, \\r\\nscalability, and support for structured and unstructured data.\\r\\n3.3 Environmental Constraints:\\r\\na) Operating Environment:\\r\\n• Constraints:TMX SRS\\r\\n13\\r\\n➢ Compatibility Requirements: The TMX system must be compatible with various \\r\\noperating systems used by stakeholders, including government agencies, \\r\\nbusinesses, and consumers.\\r\\n➢ Regulatory Compliance: The system must comply with regulatory standards and \\r\\nguidelines from e-GA that governing operating systems, ensuring adherence to \\r\\nsecurity protocols, data privacy regulations, and interoperability requirements.\\r\\n➢ Resource Limitations: Limited hardware resources and technical capabilities of \\r\\noperating systems may constrain system performance, scalability, and \\r\\nfunctionality.\\r\\n➢ Security Vulnerabilities: Vulnerabilities inherent in certain operating systems \\r\\npose risks to the security and integrity of the TMX system, necessitating robust \\r\\nsecurity measures and regular updates to mitigate potential threats.\\r\\n• Considerations:\\r\\n➢ Open Standards: Prioritizing open standards and protocols facilitates \\r\\ninteroperability and data exchange between the TMX system and external \\r\\nsystems, ensuring compatibility with a wide range of operating environments.\\r\\n➢ Security Enhancements: Implementing robust security measures, such as \\r\\nencryption, access controls, and intrusion detection systems, mitigates security \\r\\nrisks associated with operating system vulnerabilities, safeguarding sensitive \\r\\ndata and system integrity.\\r\\n➢ Scalability and Performance Optimization: Optimizing system architecture and \\r\\ncodebase for performance and scalability enhances responsiveness and \\r\\nefficiency across different operating systems, enabling the TMX system to \\r\\nhandle increased workloads and user demands effectively.\\r\\nb) Network Conditions:\\r\\n• Constraints: Limited connectivity and unreliable network infrastructure \\r\\nmay affect system accessibility and performance, especially in remote \\r\\nareas.TMX SRS\\r\\n14\\r\\n• Considerations: Implement offline capabilities and data synchronization \\r\\nmechanisms to ensure system functionality in low-connectivity \\r\\nenvironments. Prioritize lightweight and efficient communication \\r\\nprotocols to minimize network overhead.\\r\\nc) Security and Privacy Regulations:\\r\\n• Constraints: Strict data protection laws and regulations mandate robust \\r\\nsecurity measures to safeguard sensitive information.\\r\\n• Considerations: Implement encryption, access controls, and data \\r\\nanonymization techniques to protect confidentiality and integrity of \\r\\ndata. Conduct regular security audits and compliance assessments to \\r\\nidentify and address potential vulnerabilities.\"\n",
            "    score: 0.3282516641232136\n",
            "  }\n",
            "}\n",
            "\n"
          ]
        }
      ],
      "source": [
        "# Direct context retrieval\n",
        "response = rag.retrieval_query(\n",
        "    rag_resources=[\n",
        "        rag.RagResource(\n",
        "            rag_corpus=rag_corpus.name,\n",
        "            # Optional: supply IDs from `rag.list_files()`.\n",
        "            # rag_file_ids=[\"rag-file-1\", \"rag-file-2\", ...],\n",
        "        )\n",
        "    ],\n",
        "    rag_retrieval_config=rag.RagRetrievalConfig(\n",
        "        top_k=10,  # Optional\n",
        "        filter=rag.Filter(\n",
        "            vector_distance_threshold=0.5,  # Optional\n",
        "        ),\n",
        "    ),\n",
        "    text=\"What is TMX?\",\n",
        ")\n",
        "print(response)\n",
        "\n",
        "# Optional: The retrieved context can be passed to any SDK or model generation API to generate final results.\n",
        "# context = \" \".join([context.text for context in response.contexts.contexts]).replace(\"\\n\", \"\")"
      ]
    },
    {
      "cell_type": "markdown",
      "metadata": {
        "id": "79ea89661842"
      },
      "source": [
        "### Create RAG Retrieval Tool"
      ]
    },
    {
      "cell_type": "code",
      "execution_count": 23,
      "metadata": {
        "id": "0ebceac3d816"
      },
      "outputs": [],
      "source": [
        "# Create a tool for the RAG Corpus\n",
        "rag_retrieval_tool = Tool(\n",
        "    retrieval=Retrieval(\n",
        "        vertex_rag_store=VertexRagStore(\n",
        "            rag_corpora=[rag_corpus.name],\n",
        "            similarity_top_k=10,\n",
        "            vector_distance_threshold=0.5,\n",
        "        )\n",
        "    )\n",
        ")"
      ]
    },
    {
      "cell_type": "markdown",
      "metadata": {
        "id": "d88fa7ede853"
      },
      "source": [
        "### Generate Content with Gemini using RAG Retrieval Tool"
      ]
    },
    {
      "cell_type": "code",
      "execution_count": 24,
      "metadata": {
        "id": "8dd928baecd4"
      },
      "outputs": [],
      "source": [
        "MODEL_ID = \"gemini-2.0-flash-001\""
      ]
    },
    {
      "cell_type": "code",
      "execution_count": 25,
      "metadata": {
        "id": "124b36be8d5b",
        "outputId": "fb78a26c-64b1-4f74-81b5-4ddbc01fcbbd",
        "colab": {
          "base_uri": "https://localhost:8080/",
          "height": 180
        }
      },
      "outputs": [
        {
          "output_type": "display_data",
          "data": {
            "text/plain": [
              "<IPython.core.display.Markdown object>"
            ],
            "text/markdown": "TMX, incorporated on August 25, 2014, and licensed on December 6, 2016, by the Capital Markets and Securities Authority, is a multi-commodity exchange. It provides a secure marketplace for trading agricultural and metals commodities, ensuring quality, delivery, and payment. TMX aims to create market transparency, ensure price discovery and fair competition, and assure timely payment and quality of commodities upon delivery.\n\nTMX developed an in-house Online Trading System version 1 (OTSv1) that automates traditional auction systems. It is capable of trader registration, sales catalog generation, bid codes, trade session scheduling, real-time trade sessions, and invoice generation.\n\nTMX disseminates market information through various channels, including electronic tickers, SMS, IVR system, website, and media outlets like TV, radio, and newspapers.\n"
          },
          "metadata": {}
        }
      ],
      "source": [
        "response = client.models.generate_content(\n",
        "    model=MODEL_ID,\n",
        "    contents=\"What is TMX?\",\n",
        "    config=GenerateContentConfig(tools=[rag_retrieval_tool]),\n",
        ")\n",
        "\n",
        "display(Markdown(response.text))"
      ]
    },
    {
      "cell_type": "markdown",
      "metadata": {
        "id": "0268fe43d41c"
      },
      "source": [
        "### Generate Content with Llama3 using RAG Retrieval Tool"
      ]
    },
    {
      "cell_type": "code",
      "execution_count": null,
      "metadata": {
        "id": "f6e67ee7968c"
      },
      "outputs": [],
      "source": [
        "from vertexai import generative_models\n",
        "\n",
        "# Load tool into Llama model\n",
        "rag_retrieval_tool = generative_models.Tool.from_retrieval(\n",
        "    retrieval=rag.Retrieval(\n",
        "        source=rag.VertexRagStore(\n",
        "            rag_corpora=[rag_corpus.name],\n",
        "            similarity_top_k=10,\n",
        "            vector_distance_threshold=0.5,\n",
        "        ),\n",
        "    )\n",
        ")\n",
        "\n",
        "llama_model = generative_models.GenerativeModel(\n",
        "    # your self-deployed endpoint for Llama3\n",
        "    \"projects/{project}/locations/{location}/endpoints/{endpoint_resource_id}\",\n",
        "    tools=[rag_retrieval_tool],\n",
        ")"
      ]
    },
    {
      "cell_type": "code",
      "execution_count": null,
      "metadata": {
        "id": "c6d710b6dece"
      },
      "outputs": [],
      "source": [
        "response = llama_model.generate_content(\"What is RAG?\")\n",
        "\n",
        "display(Markdown(response.text))"
      ]
    }
  ],
  "metadata": {
    "colab": {
      "name": "intro_rag_engine.ipynb",
      "provenance": []
    },
    "kernelspec": {
      "display_name": "Python 3",
      "name": "python3"
    }
  },
  "nbformat": 4,
  "nbformat_minor": 0
}